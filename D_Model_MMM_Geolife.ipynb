{
 "cells": [
  {
   "cell_type": "code",
   "execution_count": 2,
   "metadata": {
    "colab": {
     "base_uri": "https://localhost:8080/"
    },
    "executionInfo": {
     "elapsed": 5087,
     "status": "ok",
     "timestamp": 1614347677617,
     "user": {
      "displayName": "wind losd",
      "photoUrl": "https://lh3.googleusercontent.com/a-/AOh14Gjv1UwF6iyYsR8HrUTU_EeQVVPzfG82wFATtXqtZSU=s64",
      "userId": "05841662885873618484"
     },
     "user_tz": -480
    },
    "id": "PjIPmxA3xJTM",
    "outputId": "0a0ff455-18f8-4278-a63c-8aee2378c9ff"
   },
   "outputs": [
    {
     "name": "stderr",
     "output_type": "stream",
     "text": [
      "WARNING: Retrying (Retry(total=4, connect=None, read=None, redirect=None, status=None)) after connection broken by 'NewConnectionError('<pip._vendor.urllib3.connection.HTTPSConnection object at 0x0000018C65F99130>: Failed to establish a new connection: [Errno 11001] getaddrinfo failed')': /simple/pyproj/\n",
      "WARNING: Retrying (Retry(total=3, connect=None, read=None, redirect=None, status=None)) after connection broken by 'NewConnectionError('<pip._vendor.urllib3.connection.HTTPSConnection object at 0x0000018C65F66E20>: Failed to establish a new connection: [Errno 11001] getaddrinfo failed')': /simple/pyproj/\n",
      "WARNING: Retrying (Retry(total=2, connect=None, read=None, redirect=None, status=None)) after connection broken by 'NewConnectionError('<pip._vendor.urllib3.connection.HTTPSConnection object at 0x0000018C65F66EB0>: Failed to establish a new connection: [Errno 11001] getaddrinfo failed')': /simple/pyproj/\n",
      "WARNING: Retrying (Retry(total=1, connect=None, read=None, redirect=None, status=None)) after connection broken by 'NewConnectionError('<pip._vendor.urllib3.connection.HTTPSConnection object at 0x0000018C65F66CD0>: Failed to establish a new connection: [Errno 11001] getaddrinfo failed')': /simple/pyproj/\n",
      "WARNING: Retrying (Retry(total=0, connect=None, read=None, redirect=None, status=None)) after connection broken by 'NewConnectionError('<pip._vendor.urllib3.connection.HTTPSConnection object at 0x0000018C65F66B50>: Failed to establish a new connection: [Errno 11001] getaddrinfo failed')': /simple/pyproj/\n",
      "ERROR: Could not find a version that satisfies the requirement pyproj (from versions: none)\n",
      "ERROR: No matching distribution found for pyproj\n"
     ]
    },
    {
     "ename": "ModuleNotFoundError",
     "evalue": "No module named 'pyproj'",
     "output_type": "error",
     "traceback": [
      "\u001b[1;31m---------------------------------------------------------------------------\u001b[0m",
      "\u001b[1;31mModuleNotFoundError\u001b[0m                       Traceback (most recent call last)",
      "\u001b[1;32m<ipython-input-2-0961e572964b>\u001b[0m in \u001b[0;36m<module>\u001b[1;34m\u001b[0m\n\u001b[0;32m      1\u001b[0m \u001b[0mget_ipython\u001b[0m\u001b[1;33m(\u001b[0m\u001b[1;33m)\u001b[0m\u001b[1;33m.\u001b[0m\u001b[0msystem\u001b[0m\u001b[1;33m(\u001b[0m\u001b[1;34m' pip install pyproj'\u001b[0m\u001b[1;33m)\u001b[0m\u001b[1;33m\u001b[0m\u001b[1;33m\u001b[0m\u001b[0m\n\u001b[1;32m----> 2\u001b[1;33m \u001b[1;32mimport\u001b[0m \u001b[0mpyproj\u001b[0m\u001b[1;33m\u001b[0m\u001b[1;33m\u001b[0m\u001b[0m\n\u001b[0m\u001b[0;32m      3\u001b[0m \u001b[1;32mfrom\u001b[0m \u001b[0mpyproj\u001b[0m \u001b[1;32mimport\u001b[0m \u001b[0mProj\u001b[0m\u001b[1;33m,\u001b[0m \u001b[0mtransform\u001b[0m\u001b[1;33m\u001b[0m\u001b[1;33m\u001b[0m\u001b[0m\n",
      "\u001b[1;31mModuleNotFoundError\u001b[0m: No module named 'pyproj'"
     ]
    }
   ],
   "source": [
    "! pip install pyproj\r\n",
    "import pyproj\r\n",
    "from pyproj import Proj, transform\r\n"
   ]
  },
  {
   "cell_type": "code",
   "execution_count": 12,
   "metadata": {
    "executionInfo": {
     "elapsed": 999,
     "status": "ok",
     "timestamp": 1614348169654,
     "user": {
      "displayName": "wind losd",
      "photoUrl": "https://lh3.googleusercontent.com/a-/AOh14Gjv1UwF6iyYsR8HrUTU_EeQVVPzfG82wFATtXqtZSU=s64",
      "userId": "05841662885873618484"
     },
     "user_tz": -480
    },
    "id": "gSgQj06E56y1"
   },
   "outputs": [],
   "source": [
    "# source from https://spatialreference.org\r\n",
    "wgs84=Proj(\"EPSG:4326\") # WGS84\r\n",
    "utm32_50N=Proj(\"EPSG:32650\") # EPSG:32650: WGS 84 / UTM zone 50N\r\n",
    "web_mercator=Proj(\"EPSG:3857\") # EPSG:3857 -- WGS84 Web Mercator (Auxiliary Sphere)\r\n",
    "\r\n",
    "project = lambda x, y: transform(wgs84, utm32_50N, x, y)\r\n",
    "inverse = lambda x, y: transform(utm32_50N, wgs84, x, y)\r\n",
    "project_webM = lambda x, y: transform(wgs84, web_mercator, x, y)\r\n",
    "# proj = pyproj.Proj(proj='utm', zone=50, ellps='WGS84')"
   ]
  },
  {
   "cell_type": "code",
   "execution_count": 13,
   "metadata": {
    "colab": {
     "base_uri": "https://localhost:8080/"
    },
    "executionInfo": {
     "elapsed": 934,
     "status": "ok",
     "timestamp": 1614348171189,
     "user": {
      "displayName": "wind losd",
      "photoUrl": "https://lh3.googleusercontent.com/a-/AOh14Gjv1UwF6iyYsR8HrUTU_EeQVVPzfG82wFATtXqtZSU=s64",
      "userId": "05841662885873618484"
     },
     "user_tz": -480
    },
    "id": "W_FuDXt_84fX",
    "outputId": "8d439896-28d6-4153-8628-d80023293e78"
   },
   "outputs": [
    {
     "name": "stderr",
     "output_type": "stream",
     "text": [
      "/usr/local/lib/python3.7/dist-packages/ipykernel_launcher.py:6: DeprecationWarning: This function is deprecated. See: https://pyproj4.github.io/pyproj/stable/gotchas.html#upgrading-to-pyproj-2-from-pyproj-1\n",
      "  \n"
     ]
    },
    {
     "data": {
      "text/plain": [
       "(449344.55007802474, 4417292.719846551)"
      ]
     },
     "execution_count": 13,
     "metadata": {
      "tags": []
     },
     "output_type": "execute_result"
    }
   ],
   "source": [
    "project(39.904202,116.407394)"
   ]
  },
  {
   "cell_type": "code",
   "execution_count": 14,
   "metadata": {
    "colab": {
     "base_uri": "https://localhost:8080/"
    },
    "executionInfo": {
     "elapsed": 957,
     "status": "ok",
     "timestamp": 1614348173389,
     "user": {
      "displayName": "wind losd",
      "photoUrl": "https://lh3.googleusercontent.com/a-/AOh14Gjv1UwF6iyYsR8HrUTU_EeQVVPzfG82wFATtXqtZSU=s64",
      "userId": "05841662885873618484"
     },
     "user_tz": -480
    },
    "id": "FkMZMMSScq1K",
    "outputId": "e8e1f6ed-a9bc-4be2-cb43-a9f0241850d7"
   },
   "outputs": [
    {
     "name": "stderr",
     "output_type": "stream",
     "text": [
      "/usr/local/lib/python3.7/dist-packages/ipykernel_launcher.py:6: DeprecationWarning: This function is deprecated. See: https://pyproj4.github.io/pyproj/stable/gotchas.html#upgrading-to-pyproj-2-from-pyproj-1\n",
      "  \n"
     ]
    },
    {
     "data": {
      "text/plain": [
       "(457831.3533249302, 4406141.971308204)"
      ]
     },
     "execution_count": 14,
     "metadata": {
      "tags": []
     },
     "output_type": "execute_result"
    }
   ],
   "source": [
    "project(39.804202,116.507394)"
   ]
  },
  {
   "cell_type": "code",
   "execution_count": 109,
   "metadata": {
    "executionInfo": {
     "elapsed": 1065,
     "status": "ok",
     "timestamp": 1614352754501,
     "user": {
      "displayName": "wind losd",
      "photoUrl": "https://lh3.googleusercontent.com/a-/AOh14Gjv1UwF6iyYsR8HrUTU_EeQVVPzfG82wFATtXqtZSU=s64",
      "userId": "05841662885873618484"
     },
     "user_tz": -480
    },
    "id": "F1joES4DkyQi"
   },
   "outputs": [],
   "source": [
    "def create_data_frame(npyfile, pos_webm = None, pos_GPS = None, dummy_array = None, segmentation = False, seq_cutoff_time = 300, seq_cutoff_speed = 42, Standardize = False):\r\n",
    "\r\n",
    "    df = pd.DataFrame(npyfile, columns=[\"user\",\"lat\",\"lon\",\"alt\",'ts', \"label\"]).astype({'user':'int64', 'lon':'float64','lat':'float64', 'alt':'float64', 'ts':'int64', 'label':'int64'})\r\n",
    "    df['ts'] = pd.to_datetime(df['ts'], unit='s')\r\n",
    "    df = df.sort_values(by = [\"ts\"])\r\n",
    "    assert df['ts'].is_monotonic_increasing == True\r\n",
    "\r\n",
    "    mask_50 = (df['lon'] > 114.0) & (df['lon'] < 120.0) & (df['lat'] > 32.0) & (df['lat'] < 48.0)\r\n",
    "    # mask_50 = (df['lon'] >= 116.25) & (df['lon'] < 116.5) & (df['lat'] > 39.8) & (df['lat'] < 40.1)\r\n",
    "    df = df[mask_50]\r\n",
    "\r\n",
    "    # x, y = proj(df['lon'].tolist(), df['lat'].tolist())\r\n",
    "    x, y = project(df.lat, df.lon)\r\n",
    "    df = pd.concat([df, pd.DataFrame(np.c_[x,y], columns=[\"x\",\"y\"])], axis=1)\r\n",
    "\r\n",
    "    if dummy_array is not None:\r\n",
    "        \r\n",
    "        df['f_highway_motorway'] = dummy_array[:,0]\r\n",
    "        df['f_traffic_signals'] = dummy_array[:,1]\r\n",
    "        df['f_bus_stops'] = dummy_array[:,2]\r\n",
    "        df['f_landuse_meadow'] = dummy_array[:,3]\r\n",
    "        df['f_landuse_residential'] = dummy_array[:,4]\r\n",
    "        df['f_landuse_industrial'] = dummy_array[:,5]\r\n",
    "        df['f_landuse_commercial'] = dummy_array[:,6]\r\n",
    "        df['f_shop'] = dummy_array[:,7]\r\n",
    "        df['f_railways'] = dummy_array[:,8]\r\n",
    "        df['f_railways_station'] = dummy_array[:,9]\r\n",
    "        df['f_subway'] = dummy_array[:,10]\r\n",
    "        \r\n",
    "    if pos_webm is not None:\r\n",
    "        df['x_web'] = pos_webm[:, 0]\r\n",
    "        df['y_web'] = pos_webm[:, 1]\r\n",
    "        \r\n",
    "    if pos_GPS is not None:\r\n",
    "        df['lon'] = pos_GPS[:, 0]\r\n",
    "        df['lat']= pos_GPS[:, 1]\r\n",
    "        \r\n",
    "    df.sort_values('ts', inplace = True)\r\n",
    "    \r\n",
    "    df['delta_t'] = np.concatenate([[0], (df['ts'].values[1:] - df['ts'].values[:-1]) / pd.to_timedelta('1s')], axis = 0)    \r\n",
    "    df['delta_d'] = np.concatenate([[0], np.linalg.norm(df[['x', 'y']].values[1:] - df[['x', 'y']].values[:-1], axis = 1)], axis = 0)    \r\n",
    "    df['bearing'] = np.concatenate([[0], np.arctan2(df[['y']].values[1:] - df[['y']].values[:-1], df[['x']].values[1:] - df[['x']].values[:-1]).reshape(-1)], axis = 0)\r\n",
    "    df['speed'] = df['delta_d'] / df['delta_t'] \r\n",
    "    \r\n",
    "    cut_labels_6 = [0, 1, 2, 3, 4]\r\n",
    "    cut_bins = [0, 6, 10, 14, 18, 24]\r\n",
    "    df['tod'] = pd.cut(df['ts'].dt.hour, bins=cut_bins, labels=cut_labels_6, right = False).cat.codes\r\n",
    "    \r\n",
    "    df = df[lambda x: x['delta_t'] > 0].copy()\r\n",
    "    \r\n",
    "    seq_bins = np.cumsum((df['delta_t'] >= seq_cutoff_time) | (df['speed'] > seq_cutoff_speed))\r\n",
    "    seq_bin_ids, seq_bin_counts = np.unique(seq_bins, return_counts=True)\r\n",
    "    \r\n",
    "    if segmentation:\r\n",
    "        df['segment_id'] = seq_bins\r\n",
    "        df['segment_ix'] = np.concatenate([np.arange(seq_bin_counts[i]) for i in range(len(seq_bin_counts))])\r\n",
    "        df['segment_point_count'] = np.repeat(seq_bin_counts, seq_bin_counts)\r\n",
    "    \r\n",
    "    if Standardize:\r\n",
    "        df = scale_by_ID(df, ['delta_d','bearing','speed'])\r\n",
    "    \r\n",
    "    return df\r\n"
   ]
  },
  {
   "cell_type": "code",
   "execution_count": 11,
   "metadata": {
    "executionInfo": {
     "elapsed": 1822,
     "status": "ok",
     "timestamp": 1614350755493,
     "user": {
      "displayName": "wind losd",
      "photoUrl": "https://lh3.googleusercontent.com/a-/AOh14Gjv1UwF6iyYsR8HrUTU_EeQVVPzfG82wFATtXqtZSU=s64",
      "userId": "05841662885873618484"
     },
     "user_tz": -480
    },
    "id": "x9yu1qkyoE-m"
   },
   "outputs": [],
   "source": [
    "import os\n",
    "working_path = 'C:/Users/losdwind/Google 云端硬盘/s182190/data'\n",
    "os.chdir(f'{working_path}')\n",
    "\n",
    "import pandas as pd\n",
    "import numpy as np\n",
    "from src.data_utils_conda import train_test_data_split"
   ]
  },
  {
   "cell_type": "code",
   "execution_count": 12,
   "metadata": {
    "executionInfo": {
     "elapsed": 1108,
     "status": "ok",
     "timestamp": 1614352757012,
     "user": {
      "displayName": "wind losd",
      "photoUrl": "https://lh3.googleusercontent.com/a-/AOh14Gjv1UwF6iyYsR8HrUTU_EeQVVPzfG82wFATtXqtZSU=s64",
      "userId": "05841662885873618484"
     },
     "user_tz": -480
    },
    "id": "iPFJBPtezEOx"
   },
   "outputs": [
    {
     "ename": "NameError",
     "evalue": "name 'create_data_frame' is not defined",
     "output_type": "error",
     "traceback": [
      "\u001b[1;31m---------------------------------------------------------------------------\u001b[0m",
      "\u001b[1;31mNameError\u001b[0m                                 Traceback (most recent call last)",
      "\u001b[1;32m<ipython-input-12-dd0f010ec994>\u001b[0m in \u001b[0;36m<module>\u001b[1;34m\u001b[0m\n\u001b[1;32m----> 1\u001b[1;33m \u001b[0mtest_df\u001b[0m \u001b[1;33m=\u001b[0m \u001b[0mcreate_data_frame\u001b[0m\u001b[1;33m(\u001b[0m\u001b[0mnp\u001b[0m\u001b[1;33m.\u001b[0m\u001b[0mload\u001b[0m\u001b[1;33m(\u001b[0m\u001b[1;34mf'{working_path}/Geolife/numpyL/user/labelled_user_3.npy'\u001b[0m\u001b[1;33m)\u001b[0m\u001b[1;33m,\u001b[0m \u001b[0msegmentation\u001b[0m\u001b[1;33m=\u001b[0m\u001b[1;32mTrue\u001b[0m\u001b[1;33m,\u001b[0m \u001b[0mseq_cutoff_time\u001b[0m \u001b[1;33m=\u001b[0m \u001b[1;36m200\u001b[0m\u001b[1;33m,\u001b[0m \u001b[0mseq_cutoff_speed\u001b[0m \u001b[1;33m=\u001b[0m \u001b[1;36m60\u001b[0m\u001b[1;33m)\u001b[0m\u001b[1;33m\u001b[0m\u001b[1;33m\u001b[0m\u001b[0m\n\u001b[0m",
      "\u001b[1;31mNameError\u001b[0m: name 'create_data_frame' is not defined"
     ]
    }
   ],
   "source": [
    "test_df = create_data_frame(np.load(f'{working_path}/Geolife/numpyL/user/labelled_user_3.npy'), segmentation=True, seq_cutoff_time = 200, seq_cutoff_speed = 60)"
   ]
  },
  {
   "cell_type": "code",
   "execution_count": 111,
   "metadata": {
    "colab": {
     "base_uri": "https://localhost:8080/",
     "height": 204
    },
    "executionInfo": {
     "elapsed": 972,
     "status": "ok",
     "timestamp": 1614352761716,
     "user": {
      "displayName": "wind losd",
      "photoUrl": "https://lh3.googleusercontent.com/a-/AOh14Gjv1UwF6iyYsR8HrUTU_EeQVVPzfG82wFATtXqtZSU=s64",
      "userId": "05841662885873618484"
     },
     "user_tz": -480
    },
    "id": "_fZwil8gsYlM",
    "outputId": "926d8171-9d1a-4e4a-affc-930652955714"
   },
   "outputs": [
    {
     "data": {
      "text/html": [
       "<div>\n",
       "<style scoped>\n",
       "    .dataframe tbody tr th:only-of-type {\n",
       "        vertical-align: middle;\n",
       "    }\n",
       "\n",
       "    .dataframe tbody tr th {\n",
       "        vertical-align: top;\n",
       "    }\n",
       "\n",
       "    .dataframe thead th {\n",
       "        text-align: right;\n",
       "    }\n",
       "</style>\n",
       "<table border=\"1\" class=\"dataframe\">\n",
       "  <thead>\n",
       "    <tr style=\"text-align: right;\">\n",
       "      <th></th>\n",
       "      <th>user</th>\n",
       "      <th>lat</th>\n",
       "      <th>lon</th>\n",
       "      <th>alt</th>\n",
       "      <th>ts</th>\n",
       "      <th>label</th>\n",
       "      <th>x</th>\n",
       "      <th>y</th>\n",
       "      <th>delta_t</th>\n",
       "      <th>delta_d</th>\n",
       "      <th>bearing</th>\n",
       "      <th>speed</th>\n",
       "      <th>tod</th>\n",
       "      <th>segment_id</th>\n",
       "      <th>segment_ix</th>\n",
       "      <th>segment_point_count</th>\n",
       "    </tr>\n",
       "  </thead>\n",
       "  <tbody>\n",
       "    <tr>\n",
       "      <th>5879</th>\n",
       "      <td>3.0</td>\n",
       "      <td>40.051901</td>\n",
       "      <td>116.404822</td>\n",
       "      <td>151.0</td>\n",
       "      <td>2008-07-30 12:36:10</td>\n",
       "      <td>2.0</td>\n",
       "      <td>442583.338881</td>\n",
       "      <td>4.429173e+06</td>\n",
       "      <td>2.0</td>\n",
       "      <td>56.107532</td>\n",
       "      <td>-0.855248</td>\n",
       "      <td>28.053766</td>\n",
       "      <td>2</td>\n",
       "      <td>0</td>\n",
       "      <td>0</td>\n",
       "      <td>190</td>\n",
       "    </tr>\n",
       "    <tr>\n",
       "      <th>5880</th>\n",
       "      <td>3.0</td>\n",
       "      <td>40.051854</td>\n",
       "      <td>116.404796</td>\n",
       "      <td>169.0</td>\n",
       "      <td>2008-07-30 12:36:12</td>\n",
       "      <td>2.0</td>\n",
       "      <td>442620.486458</td>\n",
       "      <td>4.429131e+06</td>\n",
       "      <td>2.0</td>\n",
       "      <td>56.583241</td>\n",
       "      <td>-0.854611</td>\n",
       "      <td>28.291620</td>\n",
       "      <td>2</td>\n",
       "      <td>0</td>\n",
       "      <td>1</td>\n",
       "      <td>190</td>\n",
       "    </tr>\n",
       "    <tr>\n",
       "      <th>5881</th>\n",
       "      <td>3.0</td>\n",
       "      <td>40.051852</td>\n",
       "      <td>116.404727</td>\n",
       "      <td>188.0</td>\n",
       "      <td>2008-07-30 12:36:14</td>\n",
       "      <td>2.0</td>\n",
       "      <td>442656.525764</td>\n",
       "      <td>4.429088e+06</td>\n",
       "      <td>2.0</td>\n",
       "      <td>55.770617</td>\n",
       "      <td>-0.868194</td>\n",
       "      <td>27.885309</td>\n",
       "      <td>2</td>\n",
       "      <td>0</td>\n",
       "      <td>2</td>\n",
       "      <td>190</td>\n",
       "    </tr>\n",
       "    <tr>\n",
       "      <th>5882</th>\n",
       "      <td>3.0</td>\n",
       "      <td>40.051854</td>\n",
       "      <td>116.404713</td>\n",
       "      <td>188.0</td>\n",
       "      <td>2008-07-30 12:36:16</td>\n",
       "      <td>2.0</td>\n",
       "      <td>442692.068439</td>\n",
       "      <td>4.429047e+06</td>\n",
       "      <td>2.0</td>\n",
       "      <td>53.929680</td>\n",
       "      <td>-0.851234</td>\n",
       "      <td>26.964840</td>\n",
       "      <td>2</td>\n",
       "      <td>0</td>\n",
       "      <td>3</td>\n",
       "      <td>190</td>\n",
       "    </tr>\n",
       "    <tr>\n",
       "      <th>5883</th>\n",
       "      <td>3.0</td>\n",
       "      <td>40.051855</td>\n",
       "      <td>116.404691</td>\n",
       "      <td>188.0</td>\n",
       "      <td>2008-07-30 12:36:18</td>\n",
       "      <td>2.0</td>\n",
       "      <td>442726.322900</td>\n",
       "      <td>4.429006e+06</td>\n",
       "      <td>2.0</td>\n",
       "      <td>53.934663</td>\n",
       "      <td>-0.882645</td>\n",
       "      <td>26.967332</td>\n",
       "      <td>2</td>\n",
       "      <td>0</td>\n",
       "      <td>4</td>\n",
       "      <td>190</td>\n",
       "    </tr>\n",
       "  </tbody>\n",
       "</table>\n",
       "</div>"
      ],
      "text/plain": [
       "      user        lat         lon  ...  segment_id segment_ix  segment_point_count\n",
       "5879   3.0  40.051901  116.404822  ...           0          0                  190\n",
       "5880   3.0  40.051854  116.404796  ...           0          1                  190\n",
       "5881   3.0  40.051852  116.404727  ...           0          2                  190\n",
       "5882   3.0  40.051854  116.404713  ...           0          3                  190\n",
       "5883   3.0  40.051855  116.404691  ...           0          4                  190\n",
       "\n",
       "[5 rows x 16 columns]"
      ]
     },
     "execution_count": 111,
     "metadata": {
      "tags": []
     },
     "output_type": "execute_result"
    }
   ],
   "source": [
    "test_df.head()"
   ]
  },
  {
   "cell_type": "code",
   "execution_count": 112,
   "metadata": {
    "colab": {
     "base_uri": "https://localhost:8080/"
    },
    "executionInfo": {
     "elapsed": 914,
     "status": "ok",
     "timestamp": 1614352766666,
     "user": {
      "displayName": "wind losd",
      "photoUrl": "https://lh3.googleusercontent.com/a-/AOh14Gjv1UwF6iyYsR8HrUTU_EeQVVPzfG82wFATtXqtZSU=s64",
      "userId": "05841662885873618484"
     },
     "user_tz": -480
    },
    "id": "KdLjbmYIrw9Z",
    "outputId": "50fcf4d4-06a5-4cb8-f8f5-43a7132270b0"
   },
   "outputs": [
    {
     "data": {
      "text/plain": [
       "dtype('int8')"
      ]
     },
     "execution_count": 112,
     "metadata": {
      "tags": []
     },
     "output_type": "execute_result"
    }
   ],
   "source": [
    "test_df.tod.dtype"
   ]
  },
  {
   "cell_type": "code",
   "execution_count": 113,
   "metadata": {
    "colab": {
     "base_uri": "https://localhost:8080/"
    },
    "executionInfo": {
     "elapsed": 15499,
     "status": "ok",
     "timestamp": 1614352783626,
     "user": {
      "displayName": "wind losd",
      "photoUrl": "https://lh3.googleusercontent.com/a-/AOh14Gjv1UwF6iyYsR8HrUTU_EeQVVPzfG82wFATtXqtZSU=s64",
      "userId": "05841662885873618484"
     },
     "user_tz": -480
    },
    "id": "opAwpW4fMmwu",
    "outputId": "352b16af-0d53-4532-c58e-efab2dea0169"
   },
   "outputs": [
    {
     "name": "stdout",
     "output_type": "stream",
     "text": [
      "['labelled_user_10.npy', 'labelled_user_15.npy', 'labelled_user_13.npy', 'labelled_user_14.npy', 'labelled_user_12.npy', 'labelled_user_1.npy', 'labelled_user_16.npy', 'labelled_user_2.npy', 'labelled_user_18.npy', 'labelled_user_19.npy', 'labelled_user_20.npy', 'labelled_user_11.npy', 'labelled_user_22.npy', 'labelled_user_17.npy', 'labelled_user_24.npy', 'labelled_user_23.npy', 'labelled_user_27.npy', 'labelled_user_26.npy', 'labelled_user_34.npy', 'labelled_user_25.npy', 'labelled_user_29.npy', 'labelled_user_35.npy', 'labelled_user_30.npy', 'labelled_user_36.npy', 'labelled_user_21.npy', 'labelled_user_37.npy', 'labelled_user_38.npy', 'labelled_user_47.npy', 'labelled_user_44.npy', 'labelled_user_42.npy', 'labelled_user_39.npy', 'labelled_user_50.npy', 'labelled_user_46.npy', 'labelled_user_43.npy', 'labelled_user_3.npy', 'labelled_user_53.npy', 'labelled_user_56.npy', 'labelled_user_58.npy', 'labelled_user_9.npy', 'labelled_user_68.npy', 'labelled_user_59.npy', 'labelled_user_66.npy', 'labelled_user_60.npy', 'labelled_user_67.npy', 'labelled_user_6.npy', 'labelled_user_31.npy', 'labelled_user_32.npy', 'labelled_user_33.npy', 'labelled_user_4.npy', 'labelled_user_40.npy', 'labelled_user_41.npy', 'labelled_user_45.npy', 'labelled_user_48.npy', 'labelled_user_49.npy', 'labelled_user_5.npy', 'labelled_user_51.npy', 'labelled_user_54.npy', 'labelled_user_55.npy', 'labelled_user_57.npy', 'labelled_user_61.npy', 'labelled_user_62.npy', 'labelled_user_63.npy', 'labelled_user_69.npy', 'labelled_user_8.npy']\n"
     ]
    }
   ],
   "source": [
    "seq_cutoff_speed = 45\r\n",
    "seq_cutoff_time = 60\r\n",
    "filter_seq = 5\r\n",
    "files = []\r\n",
    "for _,_,filenames in os.walk(f'{working_path}/Geolife/numpyL/user/'):\r\n",
    "    files = filenames\r\n",
    "    print(files)\r\n",
    "dataset_geolife = pd.concat([create_data_frame(np.load(f'{working_path}/Geolife/numpyL/user/{name}'), segmentation=True, seq_cutoff_time = seq_cutoff_time, seq_cutoff_speed = seq_cutoff_speed) for name in files]).reset_index(drop=True)\r\n",
    "pd.to_pickle(dataset_geolife, \"./Geolife/dataset_geolife.pkl\")"
   ]
  },
  {
   "cell_type": "code",
   "execution_count": 114,
   "metadata": {
    "colab": {
     "base_uri": "https://localhost:8080/"
    },
    "executionInfo": {
     "elapsed": 951,
     "status": "ok",
     "timestamp": 1614352790827,
     "user": {
      "displayName": "wind losd",
      "photoUrl": "https://lh3.googleusercontent.com/a-/AOh14Gjv1UwF6iyYsR8HrUTU_EeQVVPzfG82wFATtXqtZSU=s64",
      "userId": "05841662885873618484"
     },
     "user_tz": -480
    },
    "id": "THk_9YkH9ymt",
    "outputId": "2b1595b4-6685-4cab-b8eb-e9bcd92a2df6"
   },
   "outputs": [
    {
     "data": {
      "text/plain": [
       "array([10., 15., 13., 14., 12.,  1., 16.,  2., 18., 19., 20., 11., 22.,\n",
       "       17., 24., 23., 27., 26., 34., 25., 29., 35., 30., 36., 21., 37.,\n",
       "       38., 47., 44., 42., 39., 50., 46., 43.,  3., 53., 56., 58.,  9.,\n",
       "       68., 59., 66., 60., 67.,  6., 31., 32., 33.,  4., 40., 41., 45.,\n",
       "       48., 49.,  5., 51., 54., 55., 57., 61., 62., 63., 69.,  8.])"
      ]
     },
     "execution_count": 114,
     "metadata": {
      "tags": []
     },
     "output_type": "execute_result"
    }
   ],
   "source": [
    "dataset_geolife['user'].unique()"
   ]
  },
  {
   "cell_type": "code",
   "execution_count": 115,
   "metadata": {
    "colab": {
     "base_uri": "https://localhost:8080/",
     "height": 204
    },
    "executionInfo": {
     "elapsed": 1231,
     "status": "ok",
     "timestamp": 1614352793212,
     "user": {
      "displayName": "wind losd",
      "photoUrl": "https://lh3.googleusercontent.com/a-/AOh14Gjv1UwF6iyYsR8HrUTU_EeQVVPzfG82wFATtXqtZSU=s64",
      "userId": "05841662885873618484"
     },
     "user_tz": -480
    },
    "id": "mJBc9Hd5yiHs",
    "outputId": "503f8d99-246b-4e25-c5f5-b5ff6f012a1d"
   },
   "outputs": [
    {
     "data": {
      "text/html": [
       "<div>\n",
       "<style scoped>\n",
       "    .dataframe tbody tr th:only-of-type {\n",
       "        vertical-align: middle;\n",
       "    }\n",
       "\n",
       "    .dataframe tbody tr th {\n",
       "        vertical-align: top;\n",
       "    }\n",
       "\n",
       "    .dataframe thead th {\n",
       "        text-align: right;\n",
       "    }\n",
       "</style>\n",
       "<table border=\"1\" class=\"dataframe\">\n",
       "  <thead>\n",
       "    <tr style=\"text-align: right;\">\n",
       "      <th></th>\n",
       "      <th>user</th>\n",
       "      <th>lat</th>\n",
       "      <th>lon</th>\n",
       "      <th>alt</th>\n",
       "      <th>ts</th>\n",
       "      <th>label</th>\n",
       "      <th>x</th>\n",
       "      <th>y</th>\n",
       "      <th>delta_t</th>\n",
       "      <th>delta_d</th>\n",
       "      <th>bearing</th>\n",
       "      <th>speed</th>\n",
       "      <th>tod</th>\n",
       "      <th>segment_id</th>\n",
       "      <th>segment_ix</th>\n",
       "      <th>segment_point_count</th>\n",
       "    </tr>\n",
       "  </thead>\n",
       "  <tbody>\n",
       "    <tr>\n",
       "      <th>140289</th>\n",
       "      <td>2.0</td>\n",
       "      <td>39.981267</td>\n",
       "      <td>116.328317</td>\n",
       "      <td>203.412073</td>\n",
       "      <td>2007-08-18 02:44:00</td>\n",
       "      <td>2.0</td>\n",
       "      <td>442626.452809</td>\n",
       "      <td>4.425680e+06</td>\n",
       "      <td>1063.0</td>\n",
       "      <td>63.041523</td>\n",
       "      <td>-1.510556</td>\n",
       "      <td>0.059305</td>\n",
       "      <td>0</td>\n",
       "      <td>1</td>\n",
       "      <td>0</td>\n",
       "      <td>5</td>\n",
       "    </tr>\n",
       "    <tr>\n",
       "      <th>140290</th>\n",
       "      <td>2.0</td>\n",
       "      <td>39.981600</td>\n",
       "      <td>116.329550</td>\n",
       "      <td>203.412073</td>\n",
       "      <td>2007-08-18 02:44:11</td>\n",
       "      <td>2.0</td>\n",
       "      <td>442652.864887</td>\n",
       "      <td>4.425596e+06</td>\n",
       "      <td>11.0</td>\n",
       "      <td>87.527206</td>\n",
       "      <td>-1.264260</td>\n",
       "      <td>7.957019</td>\n",
       "      <td>0</td>\n",
       "      <td>1</td>\n",
       "      <td>1</td>\n",
       "      <td>5</td>\n",
       "    </tr>\n",
       "    <tr>\n",
       "      <th>140291</th>\n",
       "      <td>2.0</td>\n",
       "      <td>39.982100</td>\n",
       "      <td>116.329583</td>\n",
       "      <td>203.412073</td>\n",
       "      <td>2007-08-18 02:44:55</td>\n",
       "      <td>2.0</td>\n",
       "      <td>442660.734971</td>\n",
       "      <td>4.425507e+06</td>\n",
       "      <td>44.0</td>\n",
       "      <td>89.205069</td>\n",
       "      <td>-1.482457</td>\n",
       "      <td>2.027388</td>\n",
       "      <td>0</td>\n",
       "      <td>1</td>\n",
       "      <td>2</td>\n",
       "      <td>5</td>\n",
       "    </tr>\n",
       "    <tr>\n",
       "      <th>140292</th>\n",
       "      <td>2.0</td>\n",
       "      <td>39.981917</td>\n",
       "      <td>116.328850</td>\n",
       "      <td>203.412073</td>\n",
       "      <td>2007-08-18 02:45:34</td>\n",
       "      <td>2.0</td>\n",
       "      <td>442665.953953</td>\n",
       "      <td>4.425444e+06</td>\n",
       "      <td>39.0</td>\n",
       "      <td>63.153857</td>\n",
       "      <td>-1.488063</td>\n",
       "      <td>1.619330</td>\n",
       "      <td>0</td>\n",
       "      <td>1</td>\n",
       "      <td>3</td>\n",
       "      <td>5</td>\n",
       "    </tr>\n",
       "    <tr>\n",
       "      <th>140293</th>\n",
       "      <td>2.0</td>\n",
       "      <td>39.982283</td>\n",
       "      <td>116.328533</td>\n",
       "      <td>203.412073</td>\n",
       "      <td>2007-08-18 02:46:15</td>\n",
       "      <td>2.0</td>\n",
       "      <td>442780.992922</td>\n",
       "      <td>4.425412e+06</td>\n",
       "      <td>41.0</td>\n",
       "      <td>119.491410</td>\n",
       "      <td>-0.273844</td>\n",
       "      <td>2.914425</td>\n",
       "      <td>0</td>\n",
       "      <td>1</td>\n",
       "      <td>4</td>\n",
       "      <td>5</td>\n",
       "    </tr>\n",
       "  </tbody>\n",
       "</table>\n",
       "</div>"
      ],
      "text/plain": [
       "        user        lat  ...  segment_ix  segment_point_count\n",
       "140289   2.0  39.981267  ...           0                    5\n",
       "140290   2.0  39.981600  ...           1                    5\n",
       "140291   2.0  39.982100  ...           2                    5\n",
       "140292   2.0  39.981917  ...           3                    5\n",
       "140293   2.0  39.982283  ...           4                    5\n",
       "\n",
       "[5 rows x 16 columns]"
      ]
     },
     "execution_count": 115,
     "metadata": {
      "tags": []
     },
     "output_type": "execute_result"
    }
   ],
   "source": [
    "dataset_geolife[dataset_geolife['user'] == 2].head()"
   ]
  },
  {
   "cell_type": "markdown",
   "metadata": {
    "heading_collapsed": "true",
    "id": "vC7t8rNEMoP7"
   },
   "source": [
    "# Data loader"
   ]
  },
  {
   "cell_type": "markdown",
   "metadata": {
    "id": "l5CXiPeEMoQH"
   },
   "source": [
    "## Load Data"
   ]
  },
  {
   "cell_type": "code",
   "execution_count": 1,
   "metadata": {
    "executionInfo": {
     "elapsed": 1770,
     "status": "ok",
     "timestamp": 1614415272554,
     "user": {
      "displayName": "wind losd",
      "photoUrl": "https://lh3.googleusercontent.com/a-/AOh14Gjv1UwF6iyYsR8HrUTU_EeQVVPzfG82wFATtXqtZSU=s64",
      "userId": "05841662885873618484"
     },
     "user_tz": -480
    },
    "id": "G5eZm64L6ACQ"
   },
   "outputs": [],
   "source": [
    "import os\r\n",
    "working_path ='C:/Users/losdwind/Google 云端硬盘/s182190/data'\n",
    "\r\n",
    "os.chdir(f'{working_path}')\r\n",
    "\r\n",
    "import pandas as pd\r\n",
    "import numpy as np\r\n",
    "from src.data_utils_conda import train_test_data_split"
   ]
  },
  {
   "cell_type": "markdown",
   "metadata": {
    "id": "NEsUDrLpcKSG"
   },
   "source": [
    "### Load GPS+GIS fusion tensors - dimensionality 9x9x11 - ( [see explaination here](https://www.sciencedirect.com/science/article/pii/S0968090X20307385?dgcid=author#bfn4))\n",
    "\n",
    "Remember to delete \"image_data\" after training, before loading \"image_data\" with the user_test partition, so that the dataloader can perform the test on your network, with weights and biases resulting from the training."
   ]
  },
  {
   "cell_type": "code",
   "execution_count": 2,
   "metadata": {
    "executionInfo": {
     "elapsed": 2408,
     "status": "ok",
     "timestamp": 1614415273198,
     "user": {
      "displayName": "wind losd",
      "photoUrl": "https://lh3.googleusercontent.com/a-/AOh14Gjv1UwF6iyYsR8HrUTU_EeQVVPzfG82wFATtXqtZSU=s64",
      "userId": "05841662885873618484"
     },
     "user_tz": -480
    },
    "id": "73vckhURH0UX"
   },
   "outputs": [],
   "source": [
    "dataset = pd.read_pickle(f'{working_path}/Geolife/dataset_geolife.pkl')"
   ]
  },
  {
   "cell_type": "code",
   "execution_count": 3,
   "metadata": {
    "colab": {
     "base_uri": "https://localhost:8080/",
     "height": 1000
    },
    "executionInfo": {
     "elapsed": 2403,
     "status": "ok",
     "timestamp": 1614415273198,
     "user": {
      "displayName": "wind losd",
      "photoUrl": "https://lh3.googleusercontent.com/a-/AOh14Gjv1UwF6iyYsR8HrUTU_EeQVVPzfG82wFATtXqtZSU=s64",
      "userId": "05841662885873618484"
     },
     "user_tz": -480
    },
    "id": "fQ2loYtEVbsg",
    "outputId": "5e877c13-81dd-4dcb-c9af-432c1b8abfef"
   },
   "outputs": [
    {
     "data": {
      "text/html": [
       "<div>\n",
       "<style scoped>\n",
       "    .dataframe tbody tr th:only-of-type {\n",
       "        vertical-align: middle;\n",
       "    }\n",
       "\n",
       "    .dataframe tbody tr th {\n",
       "        vertical-align: top;\n",
       "    }\n",
       "\n",
       "    .dataframe thead th {\n",
       "        text-align: right;\n",
       "    }\n",
       "</style>\n",
       "<table border=\"1\" class=\"dataframe\">\n",
       "  <thead>\n",
       "    <tr style=\"text-align: right;\">\n",
       "      <th></th>\n",
       "      <th>user</th>\n",
       "      <th>lat</th>\n",
       "      <th>lon</th>\n",
       "      <th>alt</th>\n",
       "      <th>ts</th>\n",
       "      <th>label</th>\n",
       "      <th>x</th>\n",
       "      <th>y</th>\n",
       "      <th>delta_t</th>\n",
       "      <th>delta_d</th>\n",
       "      <th>bearing</th>\n",
       "      <th>speed</th>\n",
       "      <th>tod</th>\n",
       "      <th>segment_id</th>\n",
       "      <th>segment_ix</th>\n",
       "      <th>segment_point_count</th>\n",
       "    </tr>\n",
       "  </thead>\n",
       "  <tbody>\n",
       "    <tr>\n",
       "      <th>0</th>\n",
       "      <td>10.0</td>\n",
       "      <td>39.972817</td>\n",
       "      <td>116.327400</td>\n",
       "      <td>206.692913</td>\n",
       "      <td>2007-10-10 13:24:26</td>\n",
       "      <td>4.0</td>\n",
       "      <td>441948.174613</td>\n",
       "      <td>4.424823e+06</td>\n",
       "      <td>30.0</td>\n",
       "      <td>34.359226</td>\n",
       "      <td>-0.115514</td>\n",
       "      <td>1.145308</td>\n",
       "      <td>2</td>\n",
       "      <td>0</td>\n",
       "      <td>0</td>\n",
       "      <td>6</td>\n",
       "    </tr>\n",
       "    <tr>\n",
       "      <th>1</th>\n",
       "      <td>10.0</td>\n",
       "      <td>39.972400</td>\n",
       "      <td>116.327350</td>\n",
       "      <td>232.939633</td>\n",
       "      <td>2007-10-10 13:24:45</td>\n",
       "      <td>4.0</td>\n",
       "      <td>441929.855475</td>\n",
       "      <td>4.424847e+06</td>\n",
       "      <td>19.0</td>\n",
       "      <td>30.343109</td>\n",
       "      <td>2.218972</td>\n",
       "      <td>1.597006</td>\n",
       "      <td>2</td>\n",
       "      <td>0</td>\n",
       "      <td>1</td>\n",
       "      <td>6</td>\n",
       "    </tr>\n",
       "    <tr>\n",
       "      <th>2</th>\n",
       "      <td>10.0</td>\n",
       "      <td>39.972200</td>\n",
       "      <td>116.327383</td>\n",
       "      <td>259.186352</td>\n",
       "      <td>2007-10-10 13:24:53</td>\n",
       "      <td>4.0</td>\n",
       "      <td>441918.455249</td>\n",
       "      <td>4.424845e+06</td>\n",
       "      <td>8.0</td>\n",
       "      <td>11.535745</td>\n",
       "      <td>-2.988160</td>\n",
       "      <td>1.441968</td>\n",
       "      <td>2</td>\n",
       "      <td>0</td>\n",
       "      <td>2</td>\n",
       "      <td>6</td>\n",
       "    </tr>\n",
       "    <tr>\n",
       "      <th>3</th>\n",
       "      <td>10.0</td>\n",
       "      <td>39.971950</td>\n",
       "      <td>116.327417</td>\n",
       "      <td>278.871391</td>\n",
       "      <td>2007-10-10 13:25:05</td>\n",
       "      <td>4.0</td>\n",
       "      <td>441867.260063</td>\n",
       "      <td>4.424851e+06</td>\n",
       "      <td>12.0</td>\n",
       "      <td>51.538688</td>\n",
       "      <td>3.026073</td>\n",
       "      <td>4.294891</td>\n",
       "      <td>2</td>\n",
       "      <td>0</td>\n",
       "      <td>3</td>\n",
       "      <td>6</td>\n",
       "    </tr>\n",
       "    <tr>\n",
       "      <th>4</th>\n",
       "      <td>10.0</td>\n",
       "      <td>39.971583</td>\n",
       "      <td>116.327417</td>\n",
       "      <td>246.062992</td>\n",
       "      <td>2007-10-10 13:25:23</td>\n",
       "      <td>4.0</td>\n",
       "      <td>441829.584698</td>\n",
       "      <td>4.425136e+06</td>\n",
       "      <td>18.0</td>\n",
       "      <td>287.659306</td>\n",
       "      <td>1.702146</td>\n",
       "      <td>15.981073</td>\n",
       "      <td>2</td>\n",
       "      <td>0</td>\n",
       "      <td>4</td>\n",
       "      <td>6</td>\n",
       "    </tr>\n",
       "    <tr>\n",
       "      <th>5</th>\n",
       "      <td>10.0</td>\n",
       "      <td>39.970917</td>\n",
       "      <td>116.327483</td>\n",
       "      <td>206.692913</td>\n",
       "      <td>2007-10-10 13:25:53</td>\n",
       "      <td>4.0</td>\n",
       "      <td>441886.682534</td>\n",
       "      <td>4.425158e+06</td>\n",
       "      <td>30.0</td>\n",
       "      <td>61.104960</td>\n",
       "      <td>0.364163</td>\n",
       "      <td>2.036832</td>\n",
       "      <td>2</td>\n",
       "      <td>0</td>\n",
       "      <td>5</td>\n",
       "      <td>6</td>\n",
       "    </tr>\n",
       "    <tr>\n",
       "      <th>6</th>\n",
       "      <td>10.0</td>\n",
       "      <td>39.968550</td>\n",
       "      <td>116.327700</td>\n",
       "      <td>164.041995</td>\n",
       "      <td>2007-10-10 13:27:42</td>\n",
       "      <td>4.0</td>\n",
       "      <td>441908.242308</td>\n",
       "      <td>4.425186e+06</td>\n",
       "      <td>109.0</td>\n",
       "      <td>35.010718</td>\n",
       "      <td>0.907389</td>\n",
       "      <td>0.321199</td>\n",
       "      <td>2</td>\n",
       "      <td>1</td>\n",
       "      <td>0</td>\n",
       "      <td>15</td>\n",
       "    </tr>\n",
       "    <tr>\n",
       "      <th>7</th>\n",
       "      <td>10.0</td>\n",
       "      <td>39.968050</td>\n",
       "      <td>116.327717</td>\n",
       "      <td>160.761155</td>\n",
       "      <td>2007-10-10 13:28:08</td>\n",
       "      <td>4.0</td>\n",
       "      <td>441948.063747</td>\n",
       "      <td>4.425182e+06</td>\n",
       "      <td>26.0</td>\n",
       "      <td>40.022191</td>\n",
       "      <td>-0.100202</td>\n",
       "      <td>1.539315</td>\n",
       "      <td>2</td>\n",
       "      <td>1</td>\n",
       "      <td>1</td>\n",
       "      <td>15</td>\n",
       "    </tr>\n",
       "    <tr>\n",
       "      <th>8</th>\n",
       "      <td>10.0</td>\n",
       "      <td>39.967517</td>\n",
       "      <td>116.327733</td>\n",
       "      <td>167.322835</td>\n",
       "      <td>2007-10-10 13:28:34</td>\n",
       "      <td>4.0</td>\n",
       "      <td>442016.616903</td>\n",
       "      <td>4.425212e+06</td>\n",
       "      <td>26.0</td>\n",
       "      <td>75.206486</td>\n",
       "      <td>0.423801</td>\n",
       "      <td>2.892557</td>\n",
       "      <td>2</td>\n",
       "      <td>1</td>\n",
       "      <td>2</td>\n",
       "      <td>15</td>\n",
       "    </tr>\n",
       "    <tr>\n",
       "      <th>9</th>\n",
       "      <td>10.0</td>\n",
       "      <td>39.967317</td>\n",
       "      <td>116.327717</td>\n",
       "      <td>164.041995</td>\n",
       "      <td>2007-10-10 13:28:44</td>\n",
       "      <td>4.0</td>\n",
       "      <td>442109.138722</td>\n",
       "      <td>4.425214e+06</td>\n",
       "      <td>10.0</td>\n",
       "      <td>92.528917</td>\n",
       "      <td>0.012386</td>\n",
       "      <td>9.252892</td>\n",
       "      <td>2</td>\n",
       "      <td>1</td>\n",
       "      <td>3</td>\n",
       "      <td>15</td>\n",
       "    </tr>\n",
       "    <tr>\n",
       "      <th>10</th>\n",
       "      <td>10.0</td>\n",
       "      <td>39.967000</td>\n",
       "      <td>116.327717</td>\n",
       "      <td>167.322835</td>\n",
       "      <td>2007-10-10 13:28:57</td>\n",
       "      <td>4.0</td>\n",
       "      <td>442180.242333</td>\n",
       "      <td>4.425206e+06</td>\n",
       "      <td>13.0</td>\n",
       "      <td>71.545564</td>\n",
       "      <td>-0.111208</td>\n",
       "      <td>5.503505</td>\n",
       "      <td>2</td>\n",
       "      <td>1</td>\n",
       "      <td>4</td>\n",
       "      <td>15</td>\n",
       "    </tr>\n",
       "    <tr>\n",
       "      <th>11</th>\n",
       "      <td>10.0</td>\n",
       "      <td>39.966783</td>\n",
       "      <td>116.327717</td>\n",
       "      <td>206.692913</td>\n",
       "      <td>2007-10-10 13:29:08</td>\n",
       "      <td>4.0</td>\n",
       "      <td>442244.272177</td>\n",
       "      <td>4.425203e+06</td>\n",
       "      <td>11.0</td>\n",
       "      <td>64.072437</td>\n",
       "      <td>-0.036465</td>\n",
       "      <td>5.824767</td>\n",
       "      <td>2</td>\n",
       "      <td>1</td>\n",
       "      <td>5</td>\n",
       "      <td>15</td>\n",
       "    </tr>\n",
       "    <tr>\n",
       "      <th>12</th>\n",
       "      <td>10.0</td>\n",
       "      <td>39.966600</td>\n",
       "      <td>116.327717</td>\n",
       "      <td>209.973753</td>\n",
       "      <td>2007-10-10 13:29:18</td>\n",
       "      <td>4.0</td>\n",
       "      <td>442322.576062</td>\n",
       "      <td>4.425206e+06</td>\n",
       "      <td>10.0</td>\n",
       "      <td>78.365479</td>\n",
       "      <td>0.039651</td>\n",
       "      <td>7.836548</td>\n",
       "      <td>2</td>\n",
       "      <td>1</td>\n",
       "      <td>6</td>\n",
       "      <td>15</td>\n",
       "    </tr>\n",
       "    <tr>\n",
       "      <th>13</th>\n",
       "      <td>10.0</td>\n",
       "      <td>39.966417</td>\n",
       "      <td>116.327650</td>\n",
       "      <td>206.692913</td>\n",
       "      <td>2007-10-10 13:29:30</td>\n",
       "      <td>4.0</td>\n",
       "      <td>442393.637944</td>\n",
       "      <td>4.425193e+06</td>\n",
       "      <td>12.0</td>\n",
       "      <td>72.330537</td>\n",
       "      <td>-0.187570</td>\n",
       "      <td>6.027545</td>\n",
       "      <td>2</td>\n",
       "      <td>1</td>\n",
       "      <td>7</td>\n",
       "      <td>15</td>\n",
       "    </tr>\n",
       "    <tr>\n",
       "      <th>14</th>\n",
       "      <td>10.0</td>\n",
       "      <td>39.966383</td>\n",
       "      <td>116.326133</td>\n",
       "      <td>223.097113</td>\n",
       "      <td>2007-10-10 13:30:27</td>\n",
       "      <td>4.0</td>\n",
       "      <td>442530.265060</td>\n",
       "      <td>4.425192e+06</td>\n",
       "      <td>57.0</td>\n",
       "      <td>136.631016</td>\n",
       "      <td>-0.007556</td>\n",
       "      <td>2.397035</td>\n",
       "      <td>2</td>\n",
       "      <td>1</td>\n",
       "      <td>8</td>\n",
       "      <td>15</td>\n",
       "    </tr>\n",
       "    <tr>\n",
       "      <th>15</th>\n",
       "      <td>10.0</td>\n",
       "      <td>39.966333</td>\n",
       "      <td>116.325733</td>\n",
       "      <td>229.658793</td>\n",
       "      <td>2007-10-10 13:30:46</td>\n",
       "      <td>4.0</td>\n",
       "      <td>442678.291685</td>\n",
       "      <td>4.425193e+06</td>\n",
       "      <td>19.0</td>\n",
       "      <td>148.028446</td>\n",
       "      <td>0.004960</td>\n",
       "      <td>7.790971</td>\n",
       "      <td>2</td>\n",
       "      <td>1</td>\n",
       "      <td>9</td>\n",
       "      <td>15</td>\n",
       "    </tr>\n",
       "    <tr>\n",
       "      <th>16</th>\n",
       "      <td>10.0</td>\n",
       "      <td>39.966317</td>\n",
       "      <td>116.325367</td>\n",
       "      <td>226.377953</td>\n",
       "      <td>2007-10-10 13:31:00</td>\n",
       "      <td>4.0</td>\n",
       "      <td>442699.639665</td>\n",
       "      <td>4.425192e+06</td>\n",
       "      <td>14.0</td>\n",
       "      <td>21.348584</td>\n",
       "      <td>-0.007526</td>\n",
       "      <td>1.524899</td>\n",
       "      <td>2</td>\n",
       "      <td>1</td>\n",
       "      <td>10</td>\n",
       "      <td>15</td>\n",
       "    </tr>\n",
       "    <tr>\n",
       "      <th>17</th>\n",
       "      <td>10.0</td>\n",
       "      <td>39.966333</td>\n",
       "      <td>116.325050</td>\n",
       "      <td>226.377953</td>\n",
       "      <td>2007-10-10 13:31:13</td>\n",
       "      <td>4.0</td>\n",
       "      <td>442711.192253</td>\n",
       "      <td>4.425215e+06</td>\n",
       "      <td>13.0</td>\n",
       "      <td>24.948494</td>\n",
       "      <td>1.089355</td>\n",
       "      <td>1.919115</td>\n",
       "      <td>2</td>\n",
       "      <td>1</td>\n",
       "      <td>11</td>\n",
       "      <td>15</td>\n",
       "    </tr>\n",
       "    <tr>\n",
       "      <th>18</th>\n",
       "      <td>10.0</td>\n",
       "      <td>39.966317</td>\n",
       "      <td>116.324683</td>\n",
       "      <td>203.412073</td>\n",
       "      <td>2007-10-10 13:31:36</td>\n",
       "      <td>4.0</td>\n",
       "      <td>442765.301450</td>\n",
       "      <td>4.425218e+06</td>\n",
       "      <td>23.0</td>\n",
       "      <td>54.209310</td>\n",
       "      <td>0.060784</td>\n",
       "      <td>2.356927</td>\n",
       "      <td>2</td>\n",
       "      <td>1</td>\n",
       "      <td>12</td>\n",
       "      <td>15</td>\n",
       "    </tr>\n",
       "    <tr>\n",
       "      <th>19</th>\n",
       "      <td>10.0</td>\n",
       "      <td>39.966300</td>\n",
       "      <td>116.324317</td>\n",
       "      <td>229.658793</td>\n",
       "      <td>2007-10-10 13:31:47</td>\n",
       "      <td>4.0</td>\n",
       "      <td>442812.252951</td>\n",
       "      <td>4.425216e+06</td>\n",
       "      <td>11.0</td>\n",
       "      <td>47.003142</td>\n",
       "      <td>-0.046880</td>\n",
       "      <td>4.273013</td>\n",
       "      <td>2</td>\n",
       "      <td>1</td>\n",
       "      <td>13</td>\n",
       "      <td>15</td>\n",
       "    </tr>\n",
       "    <tr>\n",
       "      <th>20</th>\n",
       "      <td>10.0</td>\n",
       "      <td>39.966267</td>\n",
       "      <td>116.323817</td>\n",
       "      <td>236.220472</td>\n",
       "      <td>2007-10-10 13:32:02</td>\n",
       "      <td>4.0</td>\n",
       "      <td>442845.000299</td>\n",
       "      <td>4.425217e+06</td>\n",
       "      <td>15.0</td>\n",
       "      <td>32.786612</td>\n",
       "      <td>0.048945</td>\n",
       "      <td>2.185774</td>\n",
       "      <td>2</td>\n",
       "      <td>1</td>\n",
       "      <td>14</td>\n",
       "      <td>15</td>\n",
       "    </tr>\n",
       "    <tr>\n",
       "      <th>21</th>\n",
       "      <td>10.0</td>\n",
       "      <td>39.966517</td>\n",
       "      <td>116.323800</td>\n",
       "      <td>232.939633</td>\n",
       "      <td>2007-10-10 13:32:23</td>\n",
       "      <td>4.0</td>\n",
       "      <td>442631.531343</td>\n",
       "      <td>4.424275e+06</td>\n",
       "      <td>21.0</td>\n",
       "      <td>965.759654</td>\n",
       "      <td>-1.793674</td>\n",
       "      <td>45.988555</td>\n",
       "      <td>2</td>\n",
       "      <td>2</td>\n",
       "      <td>0</td>\n",
       "      <td>2</td>\n",
       "    </tr>\n",
       "    <tr>\n",
       "      <th>22</th>\n",
       "      <td>10.0</td>\n",
       "      <td>39.966100</td>\n",
       "      <td>116.323567</td>\n",
       "      <td>232.939633</td>\n",
       "      <td>2007-10-10 13:32:44</td>\n",
       "      <td>4.0</td>\n",
       "      <td>442630.498075</td>\n",
       "      <td>4.424327e+06</td>\n",
       "      <td>21.0</td>\n",
       "      <td>51.816792</td>\n",
       "      <td>1.590738</td>\n",
       "      <td>2.467466</td>\n",
       "      <td>2</td>\n",
       "      <td>2</td>\n",
       "      <td>1</td>\n",
       "      <td>2</td>\n",
       "    </tr>\n",
       "    <tr>\n",
       "      <th>23</th>\n",
       "      <td>10.0</td>\n",
       "      <td>39.966367</td>\n",
       "      <td>116.327000</td>\n",
       "      <td>232.939633</td>\n",
       "      <td>2007-10-10 23:15:32</td>\n",
       "      <td>4.0</td>\n",
       "      <td>442583.594943</td>\n",
       "      <td>4.424714e+06</td>\n",
       "      <td>34968.0</td>\n",
       "      <td>389.825864</td>\n",
       "      <td>1.691407</td>\n",
       "      <td>0.011148</td>\n",
       "      <td>4</td>\n",
       "      <td>3</td>\n",
       "      <td>0</td>\n",
       "      <td>18</td>\n",
       "    </tr>\n",
       "    <tr>\n",
       "      <th>24</th>\n",
       "      <td>10.0</td>\n",
       "      <td>39.966350</td>\n",
       "      <td>116.327683</td>\n",
       "      <td>232.939633</td>\n",
       "      <td>2007-10-10 23:15:48</td>\n",
       "      <td>4.0</td>\n",
       "      <td>442583.385763</td>\n",
       "      <td>4.424686e+06</td>\n",
       "      <td>16.0</td>\n",
       "      <td>27.748540</td>\n",
       "      <td>-1.578335</td>\n",
       "      <td>1.734284</td>\n",
       "      <td>4</td>\n",
       "      <td>3</td>\n",
       "      <td>1</td>\n",
       "      <td>18</td>\n",
       "    </tr>\n",
       "    <tr>\n",
       "      <th>25</th>\n",
       "      <td>10.0</td>\n",
       "      <td>39.966367</td>\n",
       "      <td>116.327950</td>\n",
       "      <td>232.939633</td>\n",
       "      <td>2007-10-10 23:15:58</td>\n",
       "      <td>4.0</td>\n",
       "      <td>442584.334929</td>\n",
       "      <td>4.424624e+06</td>\n",
       "      <td>10.0</td>\n",
       "      <td>62.912788</td>\n",
       "      <td>-1.555709</td>\n",
       "      <td>6.291279</td>\n",
       "      <td>4</td>\n",
       "      <td>3</td>\n",
       "      <td>2</td>\n",
       "      <td>18</td>\n",
       "    </tr>\n",
       "    <tr>\n",
       "      <th>26</th>\n",
       "      <td>10.0</td>\n",
       "      <td>39.966417</td>\n",
       "      <td>116.328167</td>\n",
       "      <td>170.603675</td>\n",
       "      <td>2007-10-10 23:16:29</td>\n",
       "      <td>4.0</td>\n",
       "      <td>442588.047097</td>\n",
       "      <td>4.424550e+06</td>\n",
       "      <td>31.0</td>\n",
       "      <td>74.119195</td>\n",
       "      <td>-1.520692</td>\n",
       "      <td>2.390942</td>\n",
       "      <td>4</td>\n",
       "      <td>3</td>\n",
       "      <td>3</td>\n",
       "      <td>18</td>\n",
       "    </tr>\n",
       "    <tr>\n",
       "      <th>27</th>\n",
       "      <td>10.0</td>\n",
       "      <td>39.967233</td>\n",
       "      <td>116.328250</td>\n",
       "      <td>137.795276</td>\n",
       "      <td>2007-10-10 23:17:01</td>\n",
       "      <td>4.0</td>\n",
       "      <td>442587.851887</td>\n",
       "      <td>4.424524e+06</td>\n",
       "      <td>32.0</td>\n",
       "      <td>25.898630</td>\n",
       "      <td>-1.578334</td>\n",
       "      <td>0.809332</td>\n",
       "      <td>4</td>\n",
       "      <td>3</td>\n",
       "      <td>4</td>\n",
       "      <td>18</td>\n",
       "    </tr>\n",
       "    <tr>\n",
       "      <th>28</th>\n",
       "      <td>10.0</td>\n",
       "      <td>39.967817</td>\n",
       "      <td>116.328167</td>\n",
       "      <td>141.076115</td>\n",
       "      <td>2007-10-10 23:17:12</td>\n",
       "      <td>4.0</td>\n",
       "      <td>442587.433583</td>\n",
       "      <td>4.424468e+06</td>\n",
       "      <td>11.0</td>\n",
       "      <td>55.497061</td>\n",
       "      <td>-1.578334</td>\n",
       "      <td>5.045187</td>\n",
       "      <td>4</td>\n",
       "      <td>3</td>\n",
       "      <td>5</td>\n",
       "      <td>18</td>\n",
       "    </tr>\n",
       "    <tr>\n",
       "      <th>29</th>\n",
       "      <td>10.0</td>\n",
       "      <td>39.968533</td>\n",
       "      <td>116.328100</td>\n",
       "      <td>147.637795</td>\n",
       "      <td>2007-10-10 23:17:26</td>\n",
       "      <td>4.0</td>\n",
       "      <td>442588.550172</td>\n",
       "      <td>4.424427e+06</td>\n",
       "      <td>14.0</td>\n",
       "      <td>40.722725</td>\n",
       "      <td>-1.543374</td>\n",
       "      <td>2.908766</td>\n",
       "      <td>4</td>\n",
       "      <td>3</td>\n",
       "      <td>6</td>\n",
       "      <td>18</td>\n",
       "    </tr>\n",
       "    <tr>\n",
       "      <th>30</th>\n",
       "      <td>10.0</td>\n",
       "      <td>39.969967</td>\n",
       "      <td>116.328017</td>\n",
       "      <td>154.199475</td>\n",
       "      <td>2007-10-10 23:17:53</td>\n",
       "      <td>4.0</td>\n",
       "      <td>442589.666778</td>\n",
       "      <td>4.424387e+06</td>\n",
       "      <td>27.0</td>\n",
       "      <td>40.722723</td>\n",
       "      <td>-1.543373</td>\n",
       "      <td>1.508249</td>\n",
       "      <td>4</td>\n",
       "      <td>3</td>\n",
       "      <td>7</td>\n",
       "      <td>18</td>\n",
       "    </tr>\n",
       "    <tr>\n",
       "      <th>31</th>\n",
       "      <td>10.0</td>\n",
       "      <td>39.970883</td>\n",
       "      <td>116.327950</td>\n",
       "      <td>154.199475</td>\n",
       "      <td>2007-10-10 23:18:10</td>\n",
       "      <td>4.0</td>\n",
       "      <td>442586.596989</td>\n",
       "      <td>4.424357e+06</td>\n",
       "      <td>17.0</td>\n",
       "      <td>29.735014</td>\n",
       "      <td>-1.674219</td>\n",
       "      <td>1.749118</td>\n",
       "      <td>4</td>\n",
       "      <td>3</td>\n",
       "      <td>8</td>\n",
       "      <td>18</td>\n",
       "    </tr>\n",
       "    <tr>\n",
       "      <th>32</th>\n",
       "      <td>10.0</td>\n",
       "      <td>39.972367</td>\n",
       "      <td>116.327883</td>\n",
       "      <td>150.918635</td>\n",
       "      <td>2007-10-10 23:18:38</td>\n",
       "      <td>4.0</td>\n",
       "      <td>442591.927926</td>\n",
       "      <td>4.424309e+06</td>\n",
       "      <td>28.0</td>\n",
       "      <td>48.433262</td>\n",
       "      <td>-1.460505</td>\n",
       "      <td>1.729759</td>\n",
       "      <td>4</td>\n",
       "      <td>3</td>\n",
       "      <td>9</td>\n",
       "      <td>18</td>\n",
       "    </tr>\n",
       "    <tr>\n",
       "      <th>33</th>\n",
       "      <td>10.0</td>\n",
       "      <td>39.972767</td>\n",
       "      <td>116.327850</td>\n",
       "      <td>154.199475</td>\n",
       "      <td>2007-10-10 23:18:45</td>\n",
       "      <td>4.0</td>\n",
       "      <td>442590.281492</td>\n",
       "      <td>4.424279e+06</td>\n",
       "      <td>7.0</td>\n",
       "      <td>29.632630</td>\n",
       "      <td>-1.626386</td>\n",
       "      <td>4.233233</td>\n",
       "      <td>4</td>\n",
       "      <td>3</td>\n",
       "      <td>10</td>\n",
       "      <td>18</td>\n",
       "    </tr>\n",
       "    <tr>\n",
       "      <th>34</th>\n",
       "      <td>10.0</td>\n",
       "      <td>39.974833</td>\n",
       "      <td>116.327817</td>\n",
       "      <td>164.041995</td>\n",
       "      <td>2007-10-10 23:19:27</td>\n",
       "      <td>4.0</td>\n",
       "      <td>442547.357172</td>\n",
       "      <td>4.424250e+06</td>\n",
       "      <td>42.0</td>\n",
       "      <td>51.957290</td>\n",
       "      <td>-2.543030</td>\n",
       "      <td>1.237078</td>\n",
       "      <td>4</td>\n",
       "      <td>3</td>\n",
       "      <td>11</td>\n",
       "      <td>18</td>\n",
       "    </tr>\n",
       "    <tr>\n",
       "      <th>35</th>\n",
       "      <td>10.0</td>\n",
       "      <td>39.975033</td>\n",
       "      <td>116.327783</td>\n",
       "      <td>160.761155</td>\n",
       "      <td>2007-10-10 23:19:33</td>\n",
       "      <td>4.0</td>\n",
       "      <td>442508.828315</td>\n",
       "      <td>4.424238e+06</td>\n",
       "      <td>6.0</td>\n",
       "      <td>40.555181</td>\n",
       "      <td>-2.824146</td>\n",
       "      <td>6.759197</td>\n",
       "      <td>4</td>\n",
       "      <td>3</td>\n",
       "      <td>12</td>\n",
       "      <td>18</td>\n",
       "    </tr>\n",
       "    <tr>\n",
       "      <th>36</th>\n",
       "      <td>10.0</td>\n",
       "      <td>39.975050</td>\n",
       "      <td>116.328683</td>\n",
       "      <td>154.199475</td>\n",
       "      <td>2007-10-10 23:19:51</td>\n",
       "      <td>4.0</td>\n",
       "      <td>442470.355210</td>\n",
       "      <td>4.424232e+06</td>\n",
       "      <td>18.0</td>\n",
       "      <td>38.830929</td>\n",
       "      <td>-3.005732</td>\n",
       "      <td>2.157274</td>\n",
       "      <td>4</td>\n",
       "      <td>3</td>\n",
       "      <td>13</td>\n",
       "      <td>18</td>\n",
       "    </tr>\n",
       "    <tr>\n",
       "      <th>37</th>\n",
       "      <td>10.0</td>\n",
       "      <td>39.975067</td>\n",
       "      <td>116.329000</td>\n",
       "      <td>164.041995</td>\n",
       "      <td>2007-10-10 23:20:24</td>\n",
       "      <td>4.0</td>\n",
       "      <td>442313.713520</td>\n",
       "      <td>4.424224e+06</td>\n",
       "      <td>33.0</td>\n",
       "      <td>156.849181</td>\n",
       "      <td>-3.090150</td>\n",
       "      <td>4.753005</td>\n",
       "      <td>4</td>\n",
       "      <td>3</td>\n",
       "      <td>14</td>\n",
       "      <td>18</td>\n",
       "    </tr>\n",
       "    <tr>\n",
       "      <th>38</th>\n",
       "      <td>10.0</td>\n",
       "      <td>39.975300</td>\n",
       "      <td>116.329100</td>\n",
       "      <td>167.322835</td>\n",
       "      <td>2007-10-10 23:20:36</td>\n",
       "      <td>4.0</td>\n",
       "      <td>442224.012494</td>\n",
       "      <td>4.424221e+06</td>\n",
       "      <td>12.0</td>\n",
       "      <td>89.751853</td>\n",
       "      <td>-3.107937</td>\n",
       "      <td>7.479321</td>\n",
       "      <td>4</td>\n",
       "      <td>3</td>\n",
       "      <td>15</td>\n",
       "      <td>18</td>\n",
       "    </tr>\n",
       "    <tr>\n",
       "      <th>39</th>\n",
       "      <td>10.0</td>\n",
       "      <td>39.975333</td>\n",
       "      <td>116.330300</td>\n",
       "      <td>157.480315</td>\n",
       "      <td>2007-10-10 23:21:06</td>\n",
       "      <td>4.0</td>\n",
       "      <td>442215.682697</td>\n",
       "      <td>4.424249e+06</td>\n",
       "      <td>30.0</td>\n",
       "      <td>29.033111</td>\n",
       "      <td>1.861793</td>\n",
       "      <td>0.967770</td>\n",
       "      <td>4</td>\n",
       "      <td>3</td>\n",
       "      <td>16</td>\n",
       "      <td>18</td>\n",
       "    </tr>\n",
       "    <tr>\n",
       "      <th>40</th>\n",
       "      <td>10.0</td>\n",
       "      <td>39.975367</td>\n",
       "      <td>116.330683</td>\n",
       "      <td>173.884514</td>\n",
       "      <td>2007-10-10 23:21:19</td>\n",
       "      <td>4.0</td>\n",
       "      <td>442234.242697</td>\n",
       "      <td>4.424256e+06</td>\n",
       "      <td>13.0</td>\n",
       "      <td>19.929060</td>\n",
       "      <td>0.372821</td>\n",
       "      <td>1.533005</td>\n",
       "      <td>4</td>\n",
       "      <td>3</td>\n",
       "      <td>17</td>\n",
       "      <td>18</td>\n",
       "    </tr>\n",
       "    <tr>\n",
       "      <th>41</th>\n",
       "      <td>10.0</td>\n",
       "      <td>39.966717</td>\n",
       "      <td>116.328533</td>\n",
       "      <td>164.041995</td>\n",
       "      <td>2007-10-11 22:55:59</td>\n",
       "      <td>4.0</td>\n",
       "      <td>442711.317503</td>\n",
       "      <td>4.425231e+06</td>\n",
       "      <td>84880.0</td>\n",
       "      <td>1085.481692</td>\n",
       "      <td>1.115749</td>\n",
       "      <td>0.012788</td>\n",
       "      <td>4</td>\n",
       "      <td>4</td>\n",
       "      <td>0</td>\n",
       "      <td>23</td>\n",
       "    </tr>\n",
       "    <tr>\n",
       "      <th>42</th>\n",
       "      <td>10.0</td>\n",
       "      <td>39.966867</td>\n",
       "      <td>116.328367</td>\n",
       "      <td>150.918635</td>\n",
       "      <td>2007-10-11 22:56:08</td>\n",
       "      <td>4.0</td>\n",
       "      <td>442813.815063</td>\n",
       "      <td>4.425234e+06</td>\n",
       "      <td>9.0</td>\n",
       "      <td>102.539416</td>\n",
       "      <td>0.028573</td>\n",
       "      <td>11.393268</td>\n",
       "      <td>4</td>\n",
       "      <td>4</td>\n",
       "      <td>1</td>\n",
       "      <td>23</td>\n",
       "    </tr>\n",
       "    <tr>\n",
       "      <th>43</th>\n",
       "      <td>10.0</td>\n",
       "      <td>39.967233</td>\n",
       "      <td>116.328200</td>\n",
       "      <td>147.637795</td>\n",
       "      <td>2007-10-11 22:56:19</td>\n",
       "      <td>4.0</td>\n",
       "      <td>442846.576215</td>\n",
       "      <td>4.425238e+06</td>\n",
       "      <td>11.0</td>\n",
       "      <td>32.942721</td>\n",
       "      <td>0.105040</td>\n",
       "      <td>2.994793</td>\n",
       "      <td>4</td>\n",
       "      <td>4</td>\n",
       "      <td>2</td>\n",
       "      <td>23</td>\n",
       "    </tr>\n",
       "    <tr>\n",
       "      <th>44</th>\n",
       "      <td>10.0</td>\n",
       "      <td>39.968667</td>\n",
       "      <td>116.328100</td>\n",
       "      <td>147.637795</td>\n",
       "      <td>2007-10-11 22:56:45</td>\n",
       "      <td>4.0</td>\n",
       "      <td>442655.756487</td>\n",
       "      <td>4.424279e+06</td>\n",
       "      <td>26.0</td>\n",
       "      <td>977.498195</td>\n",
       "      <td>-1.767270</td>\n",
       "      <td>37.596084</td>\n",
       "      <td>4</td>\n",
       "      <td>4</td>\n",
       "      <td>3</td>\n",
       "      <td>23</td>\n",
       "    </tr>\n",
       "    <tr>\n",
       "      <th>45</th>\n",
       "      <td>10.0</td>\n",
       "      <td>39.969983</td>\n",
       "      <td>116.328000</td>\n",
       "      <td>157.480315</td>\n",
       "      <td>2007-10-11 22:57:10</td>\n",
       "      <td>4.0</td>\n",
       "      <td>442641.648158</td>\n",
       "      <td>4.424296e+06</td>\n",
       "      <td>25.0</td>\n",
       "      <td>21.904383</td>\n",
       "      <td>2.270626</td>\n",
       "      <td>0.876175</td>\n",
       "      <td>4</td>\n",
       "      <td>4</td>\n",
       "      <td>4</td>\n",
       "      <td>23</td>\n",
       "    </tr>\n",
       "    <tr>\n",
       "      <th>46</th>\n",
       "      <td>10.0</td>\n",
       "      <td>39.970967</td>\n",
       "      <td>116.327933</td>\n",
       "      <td>150.918635</td>\n",
       "      <td>2007-10-11 22:57:28</td>\n",
       "      <td>4.0</td>\n",
       "      <td>442627.721019</td>\n",
       "      <td>4.424337e+06</td>\n",
       "      <td>18.0</td>\n",
       "      <td>43.115206</td>\n",
       "      <td>1.899717</td>\n",
       "      <td>2.395289</td>\n",
       "      <td>4</td>\n",
       "      <td>4</td>\n",
       "      <td>5</td>\n",
       "      <td>23</td>\n",
       "    </tr>\n",
       "    <tr>\n",
       "      <th>47</th>\n",
       "      <td>10.0</td>\n",
       "      <td>39.971550</td>\n",
       "      <td>116.327950</td>\n",
       "      <td>157.480315</td>\n",
       "      <td>2007-10-11 22:57:37</td>\n",
       "      <td>4.0</td>\n",
       "      <td>442620.379302</td>\n",
       "      <td>4.424496e+06</td>\n",
       "      <td>9.0</td>\n",
       "      <td>159.320612</td>\n",
       "      <td>1.616894</td>\n",
       "      <td>17.702290</td>\n",
       "      <td>4</td>\n",
       "      <td>4</td>\n",
       "      <td>6</td>\n",
       "      <td>23</td>\n",
       "    </tr>\n",
       "    <tr>\n",
       "      <th>48</th>\n",
       "      <td>10.0</td>\n",
       "      <td>39.972450</td>\n",
       "      <td>116.327883</td>\n",
       "      <td>170.603675</td>\n",
       "      <td>2007-10-11 22:57:55</td>\n",
       "      <td>4.0</td>\n",
       "      <td>442612.940412</td>\n",
       "      <td>4.424642e+06</td>\n",
       "      <td>18.0</td>\n",
       "      <td>146.391590</td>\n",
       "      <td>1.621633</td>\n",
       "      <td>8.132866</td>\n",
       "      <td>4</td>\n",
       "      <td>4</td>\n",
       "      <td>7</td>\n",
       "      <td>23</td>\n",
       "    </tr>\n",
       "    <tr>\n",
       "      <th>49</th>\n",
       "      <td>10.0</td>\n",
       "      <td>39.972717</td>\n",
       "      <td>116.327850</td>\n",
       "      <td>170.603675</td>\n",
       "      <td>2007-10-11 22:57:59</td>\n",
       "      <td>4.0</td>\n",
       "      <td>442608.069635</td>\n",
       "      <td>4.424751e+06</td>\n",
       "      <td>4.0</td>\n",
       "      <td>109.292642</td>\n",
       "      <td>1.615377</td>\n",
       "      <td>27.323160</td>\n",
       "      <td>4</td>\n",
       "      <td>4</td>\n",
       "      <td>8</td>\n",
       "      <td>23</td>\n",
       "    </tr>\n",
       "  </tbody>\n",
       "</table>\n",
       "</div>"
      ],
      "text/plain": [
       "    user        lat         lon         alt                  ts  label  \\\n",
       "0   10.0  39.972817  116.327400  206.692913 2007-10-10 13:24:26    4.0   \n",
       "1   10.0  39.972400  116.327350  232.939633 2007-10-10 13:24:45    4.0   \n",
       "2   10.0  39.972200  116.327383  259.186352 2007-10-10 13:24:53    4.0   \n",
       "3   10.0  39.971950  116.327417  278.871391 2007-10-10 13:25:05    4.0   \n",
       "4   10.0  39.971583  116.327417  246.062992 2007-10-10 13:25:23    4.0   \n",
       "5   10.0  39.970917  116.327483  206.692913 2007-10-10 13:25:53    4.0   \n",
       "6   10.0  39.968550  116.327700  164.041995 2007-10-10 13:27:42    4.0   \n",
       "7   10.0  39.968050  116.327717  160.761155 2007-10-10 13:28:08    4.0   \n",
       "8   10.0  39.967517  116.327733  167.322835 2007-10-10 13:28:34    4.0   \n",
       "9   10.0  39.967317  116.327717  164.041995 2007-10-10 13:28:44    4.0   \n",
       "10  10.0  39.967000  116.327717  167.322835 2007-10-10 13:28:57    4.0   \n",
       "11  10.0  39.966783  116.327717  206.692913 2007-10-10 13:29:08    4.0   \n",
       "12  10.0  39.966600  116.327717  209.973753 2007-10-10 13:29:18    4.0   \n",
       "13  10.0  39.966417  116.327650  206.692913 2007-10-10 13:29:30    4.0   \n",
       "14  10.0  39.966383  116.326133  223.097113 2007-10-10 13:30:27    4.0   \n",
       "15  10.0  39.966333  116.325733  229.658793 2007-10-10 13:30:46    4.0   \n",
       "16  10.0  39.966317  116.325367  226.377953 2007-10-10 13:31:00    4.0   \n",
       "17  10.0  39.966333  116.325050  226.377953 2007-10-10 13:31:13    4.0   \n",
       "18  10.0  39.966317  116.324683  203.412073 2007-10-10 13:31:36    4.0   \n",
       "19  10.0  39.966300  116.324317  229.658793 2007-10-10 13:31:47    4.0   \n",
       "20  10.0  39.966267  116.323817  236.220472 2007-10-10 13:32:02    4.0   \n",
       "21  10.0  39.966517  116.323800  232.939633 2007-10-10 13:32:23    4.0   \n",
       "22  10.0  39.966100  116.323567  232.939633 2007-10-10 13:32:44    4.0   \n",
       "23  10.0  39.966367  116.327000  232.939633 2007-10-10 23:15:32    4.0   \n",
       "24  10.0  39.966350  116.327683  232.939633 2007-10-10 23:15:48    4.0   \n",
       "25  10.0  39.966367  116.327950  232.939633 2007-10-10 23:15:58    4.0   \n",
       "26  10.0  39.966417  116.328167  170.603675 2007-10-10 23:16:29    4.0   \n",
       "27  10.0  39.967233  116.328250  137.795276 2007-10-10 23:17:01    4.0   \n",
       "28  10.0  39.967817  116.328167  141.076115 2007-10-10 23:17:12    4.0   \n",
       "29  10.0  39.968533  116.328100  147.637795 2007-10-10 23:17:26    4.0   \n",
       "30  10.0  39.969967  116.328017  154.199475 2007-10-10 23:17:53    4.0   \n",
       "31  10.0  39.970883  116.327950  154.199475 2007-10-10 23:18:10    4.0   \n",
       "32  10.0  39.972367  116.327883  150.918635 2007-10-10 23:18:38    4.0   \n",
       "33  10.0  39.972767  116.327850  154.199475 2007-10-10 23:18:45    4.0   \n",
       "34  10.0  39.974833  116.327817  164.041995 2007-10-10 23:19:27    4.0   \n",
       "35  10.0  39.975033  116.327783  160.761155 2007-10-10 23:19:33    4.0   \n",
       "36  10.0  39.975050  116.328683  154.199475 2007-10-10 23:19:51    4.0   \n",
       "37  10.0  39.975067  116.329000  164.041995 2007-10-10 23:20:24    4.0   \n",
       "38  10.0  39.975300  116.329100  167.322835 2007-10-10 23:20:36    4.0   \n",
       "39  10.0  39.975333  116.330300  157.480315 2007-10-10 23:21:06    4.0   \n",
       "40  10.0  39.975367  116.330683  173.884514 2007-10-10 23:21:19    4.0   \n",
       "41  10.0  39.966717  116.328533  164.041995 2007-10-11 22:55:59    4.0   \n",
       "42  10.0  39.966867  116.328367  150.918635 2007-10-11 22:56:08    4.0   \n",
       "43  10.0  39.967233  116.328200  147.637795 2007-10-11 22:56:19    4.0   \n",
       "44  10.0  39.968667  116.328100  147.637795 2007-10-11 22:56:45    4.0   \n",
       "45  10.0  39.969983  116.328000  157.480315 2007-10-11 22:57:10    4.0   \n",
       "46  10.0  39.970967  116.327933  150.918635 2007-10-11 22:57:28    4.0   \n",
       "47  10.0  39.971550  116.327950  157.480315 2007-10-11 22:57:37    4.0   \n",
       "48  10.0  39.972450  116.327883  170.603675 2007-10-11 22:57:55    4.0   \n",
       "49  10.0  39.972717  116.327850  170.603675 2007-10-11 22:57:59    4.0   \n",
       "\n",
       "                x             y  delta_t      delta_d   bearing      speed  \\\n",
       "0   441948.174613  4.424823e+06     30.0    34.359226 -0.115514   1.145308   \n",
       "1   441929.855475  4.424847e+06     19.0    30.343109  2.218972   1.597006   \n",
       "2   441918.455249  4.424845e+06      8.0    11.535745 -2.988160   1.441968   \n",
       "3   441867.260063  4.424851e+06     12.0    51.538688  3.026073   4.294891   \n",
       "4   441829.584698  4.425136e+06     18.0   287.659306  1.702146  15.981073   \n",
       "5   441886.682534  4.425158e+06     30.0    61.104960  0.364163   2.036832   \n",
       "6   441908.242308  4.425186e+06    109.0    35.010718  0.907389   0.321199   \n",
       "7   441948.063747  4.425182e+06     26.0    40.022191 -0.100202   1.539315   \n",
       "8   442016.616903  4.425212e+06     26.0    75.206486  0.423801   2.892557   \n",
       "9   442109.138722  4.425214e+06     10.0    92.528917  0.012386   9.252892   \n",
       "10  442180.242333  4.425206e+06     13.0    71.545564 -0.111208   5.503505   \n",
       "11  442244.272177  4.425203e+06     11.0    64.072437 -0.036465   5.824767   \n",
       "12  442322.576062  4.425206e+06     10.0    78.365479  0.039651   7.836548   \n",
       "13  442393.637944  4.425193e+06     12.0    72.330537 -0.187570   6.027545   \n",
       "14  442530.265060  4.425192e+06     57.0   136.631016 -0.007556   2.397035   \n",
       "15  442678.291685  4.425193e+06     19.0   148.028446  0.004960   7.790971   \n",
       "16  442699.639665  4.425192e+06     14.0    21.348584 -0.007526   1.524899   \n",
       "17  442711.192253  4.425215e+06     13.0    24.948494  1.089355   1.919115   \n",
       "18  442765.301450  4.425218e+06     23.0    54.209310  0.060784   2.356927   \n",
       "19  442812.252951  4.425216e+06     11.0    47.003142 -0.046880   4.273013   \n",
       "20  442845.000299  4.425217e+06     15.0    32.786612  0.048945   2.185774   \n",
       "21  442631.531343  4.424275e+06     21.0   965.759654 -1.793674  45.988555   \n",
       "22  442630.498075  4.424327e+06     21.0    51.816792  1.590738   2.467466   \n",
       "23  442583.594943  4.424714e+06  34968.0   389.825864  1.691407   0.011148   \n",
       "24  442583.385763  4.424686e+06     16.0    27.748540 -1.578335   1.734284   \n",
       "25  442584.334929  4.424624e+06     10.0    62.912788 -1.555709   6.291279   \n",
       "26  442588.047097  4.424550e+06     31.0    74.119195 -1.520692   2.390942   \n",
       "27  442587.851887  4.424524e+06     32.0    25.898630 -1.578334   0.809332   \n",
       "28  442587.433583  4.424468e+06     11.0    55.497061 -1.578334   5.045187   \n",
       "29  442588.550172  4.424427e+06     14.0    40.722725 -1.543374   2.908766   \n",
       "30  442589.666778  4.424387e+06     27.0    40.722723 -1.543373   1.508249   \n",
       "31  442586.596989  4.424357e+06     17.0    29.735014 -1.674219   1.749118   \n",
       "32  442591.927926  4.424309e+06     28.0    48.433262 -1.460505   1.729759   \n",
       "33  442590.281492  4.424279e+06      7.0    29.632630 -1.626386   4.233233   \n",
       "34  442547.357172  4.424250e+06     42.0    51.957290 -2.543030   1.237078   \n",
       "35  442508.828315  4.424238e+06      6.0    40.555181 -2.824146   6.759197   \n",
       "36  442470.355210  4.424232e+06     18.0    38.830929 -3.005732   2.157274   \n",
       "37  442313.713520  4.424224e+06     33.0   156.849181 -3.090150   4.753005   \n",
       "38  442224.012494  4.424221e+06     12.0    89.751853 -3.107937   7.479321   \n",
       "39  442215.682697  4.424249e+06     30.0    29.033111  1.861793   0.967770   \n",
       "40  442234.242697  4.424256e+06     13.0    19.929060  0.372821   1.533005   \n",
       "41  442711.317503  4.425231e+06  84880.0  1085.481692  1.115749   0.012788   \n",
       "42  442813.815063  4.425234e+06      9.0   102.539416  0.028573  11.393268   \n",
       "43  442846.576215  4.425238e+06     11.0    32.942721  0.105040   2.994793   \n",
       "44  442655.756487  4.424279e+06     26.0   977.498195 -1.767270  37.596084   \n",
       "45  442641.648158  4.424296e+06     25.0    21.904383  2.270626   0.876175   \n",
       "46  442627.721019  4.424337e+06     18.0    43.115206  1.899717   2.395289   \n",
       "47  442620.379302  4.424496e+06      9.0   159.320612  1.616894  17.702290   \n",
       "48  442612.940412  4.424642e+06     18.0   146.391590  1.621633   8.132866   \n",
       "49  442608.069635  4.424751e+06      4.0   109.292642  1.615377  27.323160   \n",
       "\n",
       "    tod  segment_id  segment_ix  segment_point_count  \n",
       "0     2           0           0                    6  \n",
       "1     2           0           1                    6  \n",
       "2     2           0           2                    6  \n",
       "3     2           0           3                    6  \n",
       "4     2           0           4                    6  \n",
       "5     2           0           5                    6  \n",
       "6     2           1           0                   15  \n",
       "7     2           1           1                   15  \n",
       "8     2           1           2                   15  \n",
       "9     2           1           3                   15  \n",
       "10    2           1           4                   15  \n",
       "11    2           1           5                   15  \n",
       "12    2           1           6                   15  \n",
       "13    2           1           7                   15  \n",
       "14    2           1           8                   15  \n",
       "15    2           1           9                   15  \n",
       "16    2           1          10                   15  \n",
       "17    2           1          11                   15  \n",
       "18    2           1          12                   15  \n",
       "19    2           1          13                   15  \n",
       "20    2           1          14                   15  \n",
       "21    2           2           0                    2  \n",
       "22    2           2           1                    2  \n",
       "23    4           3           0                   18  \n",
       "24    4           3           1                   18  \n",
       "25    4           3           2                   18  \n",
       "26    4           3           3                   18  \n",
       "27    4           3           4                   18  \n",
       "28    4           3           5                   18  \n",
       "29    4           3           6                   18  \n",
       "30    4           3           7                   18  \n",
       "31    4           3           8                   18  \n",
       "32    4           3           9                   18  \n",
       "33    4           3          10                   18  \n",
       "34    4           3          11                   18  \n",
       "35    4           3          12                   18  \n",
       "36    4           3          13                   18  \n",
       "37    4           3          14                   18  \n",
       "38    4           3          15                   18  \n",
       "39    4           3          16                   18  \n",
       "40    4           3          17                   18  \n",
       "41    4           4           0                   23  \n",
       "42    4           4           1                   23  \n",
       "43    4           4           2                   23  \n",
       "44    4           4           3                   23  \n",
       "45    4           4           4                   23  \n",
       "46    4           4           5                   23  \n",
       "47    4           4           6                   23  \n",
       "48    4           4           7                   23  \n",
       "49    4           4           8                   23  "
      ]
     },
     "execution_count": 3,
     "metadata": {},
     "output_type": "execute_result"
    }
   ],
   "source": [
    "dataset.head(50)"
   ]
  },
  {
   "cell_type": "code",
   "execution_count": 4,
   "metadata": {
    "colab": {
     "base_uri": "https://localhost:8080/"
    },
    "executionInfo": {
     "elapsed": 2400,
     "status": "ok",
     "timestamp": 1614415273198,
     "user": {
      "displayName": "wind losd",
      "photoUrl": "https://lh3.googleusercontent.com/a-/AOh14Gjv1UwF6iyYsR8HrUTU_EeQVVPzfG82wFATtXqtZSU=s64",
      "userId": "05841662885873618484"
     },
     "user_tz": -480
    },
    "id": "2Nma65_XDevh",
    "outputId": "981c1ee3-5fbd-4ca8-ed4f-1906f499789b"
   },
   "outputs": [
    {
     "data": {
      "text/plain": [
       "user                   False\n",
       "lat                    False\n",
       "lon                    False\n",
       "alt                    False\n",
       "ts                     False\n",
       "label                  False\n",
       "x                       True\n",
       "y                       True\n",
       "delta_t                False\n",
       "delta_d                 True\n",
       "bearing                 True\n",
       "speed                   True\n",
       "tod                    False\n",
       "segment_id             False\n",
       "segment_ix             False\n",
       "segment_point_count    False\n",
       "dtype: bool"
      ]
     },
     "execution_count": 4,
     "metadata": {},
     "output_type": "execute_result"
    }
   ],
   "source": [
    "dataset.isnull().any()"
   ]
  },
  {
   "cell_type": "code",
   "execution_count": 5,
   "metadata": {
    "colab": {
     "base_uri": "https://localhost:8080/"
    },
    "executionInfo": {
     "elapsed": 2400,
     "status": "ok",
     "timestamp": 1614415273199,
     "user": {
      "displayName": "wind losd",
      "photoUrl": "https://lh3.googleusercontent.com/a-/AOh14Gjv1UwF6iyYsR8HrUTU_EeQVVPzfG82wFATtXqtZSU=s64",
      "userId": "05841662885873618484"
     },
     "user_tz": -480
    },
    "id": "COE9JJP2H7fx",
    "outputId": "8f052665-2da4-4faf-dd08-93cd501fcb6f"
   },
   "outputs": [
    {
     "data": {
      "text/plain": [
       "user                        0\n",
       "lat                         0\n",
       "lon                         0\n",
       "alt                         0\n",
       "ts                          0\n",
       "label                       0\n",
       "x                      274489\n",
       "y                      274489\n",
       "delta_t                     0\n",
       "delta_d                274739\n",
       "bearing                274739\n",
       "speed                  274739\n",
       "tod                         0\n",
       "segment_id                  0\n",
       "segment_ix                  0\n",
       "segment_point_count         0\n",
       "dtype: int64"
      ]
     },
     "execution_count": 5,
     "metadata": {},
     "output_type": "execute_result"
    }
   ],
   "source": [
    "dataset.isnull().sum()"
   ]
  },
  {
   "cell_type": "code",
   "execution_count": 6,
   "metadata": {
    "colab": {
     "base_uri": "https://localhost:8080/"
    },
    "executionInfo": {
     "elapsed": 2398,
     "status": "ok",
     "timestamp": 1614415273199,
     "user": {
      "displayName": "wind losd",
      "photoUrl": "https://lh3.googleusercontent.com/a-/AOh14Gjv1UwF6iyYsR8HrUTU_EeQVVPzfG82wFATtXqtZSU=s64",
      "userId": "05841662885873618484"
     },
     "user_tz": -480
    },
    "id": "_izpx6eTIA3C",
    "outputId": "c84254a3-193c-4dd2-d7a3-0c55fb24f7e1"
   },
   "outputs": [
    {
     "data": {
      "text/plain": [
       "4324584"
      ]
     },
     "execution_count": 6,
     "metadata": {},
     "output_type": "execute_result"
    }
   ],
   "source": [
    "len(dataset)"
   ]
  },
  {
   "cell_type": "code",
   "execution_count": 7,
   "metadata": {
    "executionInfo": {
     "elapsed": 3699,
     "status": "ok",
     "timestamp": 1614415274502,
     "user": {
      "displayName": "wind losd",
      "photoUrl": "https://lh3.googleusercontent.com/a-/AOh14Gjv1UwF6iyYsR8HrUTU_EeQVVPzfG82wFATtXqtZSU=s64",
      "userId": "05841662885873618484"
     },
     "user_tz": -480
    },
    "id": "zbiGapihIv6V"
   },
   "outputs": [],
   "source": [
    "dataset = dataset.dropna()"
   ]
  },
  {
   "cell_type": "code",
   "execution_count": 8,
   "metadata": {
    "colab": {
     "base_uri": "https://localhost:8080/"
    },
    "executionInfo": {
     "elapsed": 3701,
     "status": "ok",
     "timestamp": 1614415274505,
     "user": {
      "displayName": "wind losd",
      "photoUrl": "https://lh3.googleusercontent.com/a-/AOh14Gjv1UwF6iyYsR8HrUTU_EeQVVPzfG82wFATtXqtZSU=s64",
      "userId": "05841662885873618484"
     },
     "user_tz": -480
    },
    "id": "MkHT8GV5ILmG",
    "outputId": "d1a8f055-c7fc-47c6-b7c1-c3f0420f1870"
   },
   "outputs": [
    {
     "data": {
      "text/plain": [
       "user                   0\n",
       "lat                    0\n",
       "lon                    0\n",
       "alt                    0\n",
       "ts                     0\n",
       "label                  0\n",
       "x                      0\n",
       "y                      0\n",
       "delta_t                0\n",
       "delta_d                0\n",
       "bearing                0\n",
       "speed                  0\n",
       "tod                    0\n",
       "segment_id             0\n",
       "segment_ix             0\n",
       "segment_point_count    0\n",
       "dtype: int64"
      ]
     },
     "execution_count": 8,
     "metadata": {},
     "output_type": "execute_result"
    }
   ],
   "source": [
    "dataset.isnull().sum()"
   ]
  },
  {
   "cell_type": "code",
   "execution_count": null,
   "metadata": {
    "executionInfo": {
     "elapsed": 3700,
     "status": "ok",
     "timestamp": 1614415274506,
     "user": {
      "displayName": "wind losd",
      "photoUrl": "https://lh3.googleusercontent.com/a-/AOh14Gjv1UwF6iyYsR8HrUTU_EeQVVPzfG82wFATtXqtZSU=s64",
      "userId": "05841662885873618484"
     },
     "user_tz": -480
    },
    "id": "N226pL3CIAqI"
   },
   "outputs": [],
   "source": []
  },
  {
   "cell_type": "code",
   "execution_count": 9,
   "metadata": {
    "colab": {
     "base_uri": "https://localhost:8080/"
    },
    "executionInfo": {
     "elapsed": 3699,
     "status": "ok",
     "timestamp": 1614415274506,
     "user": {
      "displayName": "wind losd",
      "photoUrl": "https://lh3.googleusercontent.com/a-/AOh14Gjv1UwF6iyYsR8HrUTU_EeQVVPzfG82wFATtXqtZSU=s64",
      "userId": "05841662885873618484"
     },
     "user_tz": -480
    },
    "id": "KIWYvLYGKPNl",
    "outputId": "d208f4c1-2030-4780-eb7c-a1c561f0b5ef"
   },
   "outputs": [
    {
     "data": {
      "text/plain": [
       "Timedelta('0 days 00:00:19')"
      ]
     },
     "execution_count": 9,
     "metadata": {},
     "output_type": "execute_result"
    }
   ],
   "source": [
    "dataset.ts[1]- dataset.ts[0]"
   ]
  },
  {
   "cell_type": "code",
   "execution_count": 10,
   "metadata": {
    "executionInfo": {
     "elapsed": 3698,
     "status": "ok",
     "timestamp": 1614415274507,
     "user": {
      "displayName": "wind losd",
      "photoUrl": "https://lh3.googleusercontent.com/a-/AOh14Gjv1UwF6iyYsR8HrUTU_EeQVVPzfG82wFATtXqtZSU=s64",
      "userId": "05841662885873618484"
     },
     "user_tz": -480
    },
    "id": "9--qyfBuQGb7"
   },
   "outputs": [
    {
     "data": {
      "text/plain": [
       "<AxesSubplot:>"
      ]
     },
     "execution_count": 10,
     "metadata": {},
     "output_type": "execute_result"
    },
    {
     "data": {
      "image/png": "[encoded data removed]",
      "text/plain": [
       "<Figure size 432x288 with 1 Axes>"
      ]
     },
     "metadata": {
      "needs_background": "light"
     },
     "output_type": "display_data"
    }
   ],
   "source": [
    "#%%script false\n",
    "dataset[['segment_ix','segment_id', 'segment_point_count' ]].plot()"
   ]
  },
  {
   "cell_type": "code",
   "execution_count": 11,
   "metadata": {
    "executionInfo": {
     "elapsed": 3696,
     "status": "ok",
     "timestamp": 1614415274507,
     "user": {
      "displayName": "wind losd",
      "photoUrl": "https://lh3.googleusercontent.com/a-/AOh14Gjv1UwF6iyYsR8HrUTU_EeQVVPzfG82wFATtXqtZSU=s64",
      "userId": "05841662885873618484"
     },
     "user_tz": -480
    },
    "id": "Pegf1Kd2RZ3n"
   },
   "outputs": [
    {
     "name": "stdout",
     "output_type": "stream",
     "text": [
      "Couldn't find program: 'false'\n"
     ]
    }
   ],
   "source": [
    "%%script false\n",
    "dataset[['segment_id', 'segment_ix', 'segment_point_count' ]].plot()"
   ]
  },
  {
   "cell_type": "code",
   "execution_count": 12,
   "metadata": {
    "executionInfo": {
     "elapsed": 3695,
     "status": "ok",
     "timestamp": 1614415274507,
     "user": {
      "displayName": "wind losd",
      "photoUrl": "https://lh3.googleusercontent.com/a-/AOh14Gjv1UwF6iyYsR8HrUTU_EeQVVPzfG82wFATtXqtZSU=s64",
      "userId": "05841662885873618484"
     },
     "user_tz": -480
    },
    "id": "im7KCOouQmRK"
   },
   "outputs": [
    {
     "name": "stdout",
     "output_type": "stream",
     "text": [
      "Couldn't find program: 'false'\n"
     ]
    }
   ],
   "source": [
    "%%script false\n",
    "dataset[['segment_ix', 'segment_point_count' ]].plot()"
   ]
  },
  {
   "cell_type": "code",
   "execution_count": 13,
   "metadata": {
    "executionInfo": {
     "elapsed": 3694,
     "status": "ok",
     "timestamp": 1614415274507,
     "user": {
      "displayName": "wind losd",
      "photoUrl": "https://lh3.googleusercontent.com/a-/AOh14Gjv1UwF6iyYsR8HrUTU_EeQVVPzfG82wFATtXqtZSU=s64",
      "userId": "05841662885873618484"
     },
     "user_tz": -480
    },
    "id": "7YR713UxSgVQ"
   },
   "outputs": [
    {
     "name": "stdout",
     "output_type": "stream",
     "text": [
      "Couldn't find program: 'false'\n"
     ]
    }
   ],
   "source": [
    "%%script false\n",
    "dataset[['segment_point_count' ]].plot.kde()"
   ]
  },
  {
   "cell_type": "code",
   "execution_count": 14,
   "metadata": {
    "colab": {
     "base_uri": "https://localhost:8080/"
    },
    "executionInfo": {
     "elapsed": 3692,
     "status": "ok",
     "timestamp": 1614415274507,
     "user": {
      "displayName": "wind losd",
      "photoUrl": "https://lh3.googleusercontent.com/a-/AOh14Gjv1UwF6iyYsR8HrUTU_EeQVVPzfG82wFATtXqtZSU=s64",
      "userId": "05841662885873618484"
     },
     "user_tz": -480
    },
    "id": "QiWS5XZmSnc9",
    "outputId": "82c46ffe-6d32-4336-decd-6dd748d9f3ba"
   },
   "outputs": [
    {
     "data": {
      "text/plain": [
       "array([  4.,   3.,   2.,   0.,   1., 100.])"
      ]
     },
     "execution_count": 14,
     "metadata": {},
     "output_type": "execute_result"
    }
   ],
   "source": [
    "dataset['label'].unique()"
   ]
  },
  {
   "cell_type": "code",
   "execution_count": 15,
   "metadata": {
    "colab": {
     "base_uri": "https://localhost:8080/",
     "height": 394
    },
    "executionInfo": {
     "elapsed": 3689,
     "status": "ok",
     "timestamp": 1614415274508,
     "user": {
      "displayName": "wind losd",
      "photoUrl": "https://lh3.googleusercontent.com/a-/AOh14Gjv1UwF6iyYsR8HrUTU_EeQVVPzfG82wFATtXqtZSU=s64",
      "userId": "05841662885873618484"
     },
     "user_tz": -480
    },
    "id": "TzAo5Q36mJkd",
    "outputId": "5be691a4-74cb-4a42-ef8b-fc9415a079dd"
   },
   "outputs": [
    {
     "data": {
      "text/html": [
       "<div>\n",
       "<style scoped>\n",
       "    .dataframe tbody tr th:only-of-type {\n",
       "        vertical-align: middle;\n",
       "    }\n",
       "\n",
       "    .dataframe tbody tr th {\n",
       "        vertical-align: top;\n",
       "    }\n",
       "\n",
       "    .dataframe thead th {\n",
       "        text-align: right;\n",
       "    }\n",
       "</style>\n",
       "<table border=\"1\" class=\"dataframe\">\n",
       "  <thead>\n",
       "    <tr style=\"text-align: right;\">\n",
       "      <th></th>\n",
       "      <th>user</th>\n",
       "      <th>lat</th>\n",
       "      <th>lon</th>\n",
       "      <th>alt</th>\n",
       "      <th>ts</th>\n",
       "      <th>label</th>\n",
       "      <th>x</th>\n",
       "      <th>y</th>\n",
       "      <th>delta_t</th>\n",
       "      <th>delta_d</th>\n",
       "      <th>bearing</th>\n",
       "      <th>speed</th>\n",
       "      <th>tod</th>\n",
       "      <th>segment_id</th>\n",
       "      <th>segment_ix</th>\n",
       "      <th>segment_point_count</th>\n",
       "    </tr>\n",
       "  </thead>\n",
       "  <tbody>\n",
       "    <tr>\n",
       "      <th>140289</th>\n",
       "      <td>2.0</td>\n",
       "      <td>39.981267</td>\n",
       "      <td>116.328317</td>\n",
       "      <td>203.412073</td>\n",
       "      <td>2007-08-18 02:44:00</td>\n",
       "      <td>2.0</td>\n",
       "      <td>442626.452809</td>\n",
       "      <td>4.425680e+06</td>\n",
       "      <td>1063.0</td>\n",
       "      <td>63.041523</td>\n",
       "      <td>-1.510556</td>\n",
       "      <td>0.059305</td>\n",
       "      <td>0</td>\n",
       "      <td>1</td>\n",
       "      <td>0</td>\n",
       "      <td>5</td>\n",
       "    </tr>\n",
       "    <tr>\n",
       "      <th>140290</th>\n",
       "      <td>2.0</td>\n",
       "      <td>39.981600</td>\n",
       "      <td>116.329550</td>\n",
       "      <td>203.412073</td>\n",
       "      <td>2007-08-18 02:44:11</td>\n",
       "      <td>2.0</td>\n",
       "      <td>442652.864887</td>\n",
       "      <td>4.425596e+06</td>\n",
       "      <td>11.0</td>\n",
       "      <td>87.527206</td>\n",
       "      <td>-1.264260</td>\n",
       "      <td>7.957019</td>\n",
       "      <td>0</td>\n",
       "      <td>1</td>\n",
       "      <td>1</td>\n",
       "      <td>5</td>\n",
       "    </tr>\n",
       "    <tr>\n",
       "      <th>140291</th>\n",
       "      <td>2.0</td>\n",
       "      <td>39.982100</td>\n",
       "      <td>116.329583</td>\n",
       "      <td>203.412073</td>\n",
       "      <td>2007-08-18 02:44:55</td>\n",
       "      <td>2.0</td>\n",
       "      <td>442660.734971</td>\n",
       "      <td>4.425507e+06</td>\n",
       "      <td>44.0</td>\n",
       "      <td>89.205069</td>\n",
       "      <td>-1.482457</td>\n",
       "      <td>2.027388</td>\n",
       "      <td>0</td>\n",
       "      <td>1</td>\n",
       "      <td>2</td>\n",
       "      <td>5</td>\n",
       "    </tr>\n",
       "    <tr>\n",
       "      <th>140292</th>\n",
       "      <td>2.0</td>\n",
       "      <td>39.981917</td>\n",
       "      <td>116.328850</td>\n",
       "      <td>203.412073</td>\n",
       "      <td>2007-08-18 02:45:34</td>\n",
       "      <td>2.0</td>\n",
       "      <td>442665.953953</td>\n",
       "      <td>4.425444e+06</td>\n",
       "      <td>39.0</td>\n",
       "      <td>63.153857</td>\n",
       "      <td>-1.488063</td>\n",
       "      <td>1.619330</td>\n",
       "      <td>0</td>\n",
       "      <td>1</td>\n",
       "      <td>3</td>\n",
       "      <td>5</td>\n",
       "    </tr>\n",
       "    <tr>\n",
       "      <th>140293</th>\n",
       "      <td>2.0</td>\n",
       "      <td>39.982283</td>\n",
       "      <td>116.328533</td>\n",
       "      <td>203.412073</td>\n",
       "      <td>2007-08-18 02:46:15</td>\n",
       "      <td>2.0</td>\n",
       "      <td>442780.992922</td>\n",
       "      <td>4.425412e+06</td>\n",
       "      <td>41.0</td>\n",
       "      <td>119.491410</td>\n",
       "      <td>-0.273844</td>\n",
       "      <td>2.914425</td>\n",
       "      <td>0</td>\n",
       "      <td>1</td>\n",
       "      <td>4</td>\n",
       "      <td>5</td>\n",
       "    </tr>\n",
       "  </tbody>\n",
       "</table>\n",
       "</div>"
      ],
      "text/plain": [
       "        user        lat         lon         alt                  ts  label  \\\n",
       "140289   2.0  39.981267  116.328317  203.412073 2007-08-18 02:44:00    2.0   \n",
       "140290   2.0  39.981600  116.329550  203.412073 2007-08-18 02:44:11    2.0   \n",
       "140291   2.0  39.982100  116.329583  203.412073 2007-08-18 02:44:55    2.0   \n",
       "140292   2.0  39.981917  116.328850  203.412073 2007-08-18 02:45:34    2.0   \n",
       "140293   2.0  39.982283  116.328533  203.412073 2007-08-18 02:46:15    2.0   \n",
       "\n",
       "                    x             y  delta_t     delta_d   bearing     speed  \\\n",
       "140289  442626.452809  4.425680e+06   1063.0   63.041523 -1.510556  0.059305   \n",
       "140290  442652.864887  4.425596e+06     11.0   87.527206 -1.264260  7.957019   \n",
       "140291  442660.734971  4.425507e+06     44.0   89.205069 -1.482457  2.027388   \n",
       "140292  442665.953953  4.425444e+06     39.0   63.153857 -1.488063  1.619330   \n",
       "140293  442780.992922  4.425412e+06     41.0  119.491410 -0.273844  2.914425   \n",
       "\n",
       "        tod  segment_id  segment_ix  segment_point_count  \n",
       "140289    0           1           0                    5  \n",
       "140290    0           1           1                    5  \n",
       "140291    0           1           2                    5  \n",
       "140292    0           1           3                    5  \n",
       "140293    0           1           4                    5  "
      ]
     },
     "execution_count": 15,
     "metadata": {},
     "output_type": "execute_result"
    }
   ],
   "source": [
    "dataset[dataset['user'] == 2].head()"
   ]
  },
  {
   "cell_type": "code",
   "execution_count": 16,
   "metadata": {
    "executionInfo": {
     "elapsed": 3687,
     "status": "ok",
     "timestamp": 1614415274508,
     "user": {
      "displayName": "wind losd",
      "photoUrl": "https://lh3.googleusercontent.com/a-/AOh14Gjv1UwF6iyYsR8HrUTU_EeQVVPzfG82wFATtXqtZSU=s64",
      "userId": "05841662885873618484"
     },
     "user_tz": -480
    },
    "id": "H9HVd9wa7D5s"
   },
   "outputs": [],
   "source": [
    "# rename mode 100 to mode 5\r\n",
    "dataset['label'][dataset['label'] ==100] = 5"
   ]
  },
  {
   "cell_type": "code",
   "execution_count": 17,
   "metadata": {
    "executionInfo": {
     "elapsed": 3684,
     "status": "ok",
     "timestamp": 1614415274508,
     "user": {
      "displayName": "wind losd",
      "photoUrl": "https://lh3.googleusercontent.com/a-/AOh14Gjv1UwF6iyYsR8HrUTU_EeQVVPzfG82wFATtXqtZSU=s64",
      "userId": "05841662885873618484"
     },
     "user_tz": -480
    },
    "id": "zSxx93IlmSps"
   },
   "outputs": [],
   "source": [
    "dataset = dataset[['user','label','bearing','speed','tod', 'delta_d','segment_ix']]"
   ]
  },
  {
   "cell_type": "code",
   "execution_count": 18,
   "metadata": {
    "colab": {
     "base_uri": "https://localhost:8080/",
     "height": 224
    },
    "executionInfo": {
     "elapsed": 3681,
     "status": "ok",
     "timestamp": 1614415274508,
     "user": {
      "displayName": "wind losd",
      "photoUrl": "https://lh3.googleusercontent.com/a-/AOh14Gjv1UwF6iyYsR8HrUTU_EeQVVPzfG82wFATtXqtZSU=s64",
      "userId": "05841662885873618484"
     },
     "user_tz": -480
    },
    "id": "VL8V4O3VmwQa",
    "outputId": "a9233c7a-279c-4b9d-a148-658a72276485"
   },
   "outputs": [
    {
     "data": {
      "text/html": [
       "<div>\n",
       "<style scoped>\n",
       "    .dataframe tbody tr th:only-of-type {\n",
       "        vertical-align: middle;\n",
       "    }\n",
       "\n",
       "    .dataframe tbody tr th {\n",
       "        vertical-align: top;\n",
       "    }\n",
       "\n",
       "    .dataframe thead th {\n",
       "        text-align: right;\n",
       "    }\n",
       "</style>\n",
       "<table border=\"1\" class=\"dataframe\">\n",
       "  <thead>\n",
       "    <tr style=\"text-align: right;\">\n",
       "      <th></th>\n",
       "      <th>user</th>\n",
       "      <th>label</th>\n",
       "      <th>bearing</th>\n",
       "      <th>speed</th>\n",
       "      <th>tod</th>\n",
       "      <th>delta_d</th>\n",
       "      <th>segment_ix</th>\n",
       "    </tr>\n",
       "  </thead>\n",
       "  <tbody>\n",
       "    <tr>\n",
       "      <th>0</th>\n",
       "      <td>10.0</td>\n",
       "      <td>4.0</td>\n",
       "      <td>-0.115514</td>\n",
       "      <td>1.145308</td>\n",
       "      <td>2</td>\n",
       "      <td>34.359226</td>\n",
       "      <td>0</td>\n",
       "    </tr>\n",
       "    <tr>\n",
       "      <th>1</th>\n",
       "      <td>10.0</td>\n",
       "      <td>4.0</td>\n",
       "      <td>2.218972</td>\n",
       "      <td>1.597006</td>\n",
       "      <td>2</td>\n",
       "      <td>30.343109</td>\n",
       "      <td>1</td>\n",
       "    </tr>\n",
       "    <tr>\n",
       "      <th>2</th>\n",
       "      <td>10.0</td>\n",
       "      <td>4.0</td>\n",
       "      <td>-2.988160</td>\n",
       "      <td>1.441968</td>\n",
       "      <td>2</td>\n",
       "      <td>11.535745</td>\n",
       "      <td>2</td>\n",
       "    </tr>\n",
       "    <tr>\n",
       "      <th>3</th>\n",
       "      <td>10.0</td>\n",
       "      <td>4.0</td>\n",
       "      <td>3.026073</td>\n",
       "      <td>4.294891</td>\n",
       "      <td>2</td>\n",
       "      <td>51.538688</td>\n",
       "      <td>3</td>\n",
       "    </tr>\n",
       "    <tr>\n",
       "      <th>4</th>\n",
       "      <td>10.0</td>\n",
       "      <td>4.0</td>\n",
       "      <td>1.702146</td>\n",
       "      <td>15.981073</td>\n",
       "      <td>2</td>\n",
       "      <td>287.659306</td>\n",
       "      <td>4</td>\n",
       "    </tr>\n",
       "  </tbody>\n",
       "</table>\n",
       "</div>"
      ],
      "text/plain": [
       "   user  label   bearing      speed  tod     delta_d  segment_ix\n",
       "0  10.0    4.0 -0.115514   1.145308    2   34.359226           0\n",
       "1  10.0    4.0  2.218972   1.597006    2   30.343109           1\n",
       "2  10.0    4.0 -2.988160   1.441968    2   11.535745           2\n",
       "3  10.0    4.0  3.026073   4.294891    2   51.538688           3\n",
       "4  10.0    4.0  1.702146  15.981073    2  287.659306           4"
      ]
     },
     "execution_count": 18,
     "metadata": {},
     "output_type": "execute_result"
    }
   ],
   "source": [
    "dataset.head()"
   ]
  },
  {
   "cell_type": "code",
   "execution_count": null,
   "metadata": {
    "executionInfo": {
     "elapsed": 3680,
     "status": "ok",
     "timestamp": 1614415274508,
     "user": {
      "displayName": "wind losd",
      "photoUrl": "https://lh3.googleusercontent.com/a-/AOh14Gjv1UwF6iyYsR8HrUTU_EeQVVPzfG82wFATtXqtZSU=s64",
      "userId": "05841662885873618484"
     },
     "user_tz": -480
    },
    "id": "V-BzWsaOP6d0"
   },
   "outputs": [],
   "source": []
  },
  {
   "cell_type": "markdown",
   "metadata": {
    "id": "S_abdcAxbiG9"
   },
   "source": [
    "## Create train validation and test partitions"
   ]
  },
  {
   "cell_type": "markdown",
   "metadata": {
    "id": "qqnjue4hrXOJ"
   },
   "source": [
    "Since user 4 and 9 have lots of points, We use k parameter to define a specific slice of the train, validation and test collection. If you want to learn more, please go to the data utilis.py. \n",
    "\n",
    "For the formal test later of the algorithm, the -random- parameter is set to be True, k is not invoked."
   ]
  },
  {
   "cell_type": "code",
   "execution_count": 19,
   "metadata": {
    "colab": {
     "base_uri": "https://localhost:8080/",
     "height": 1000
    },
    "executionInfo": {
     "elapsed": 4190,
     "status": "ok",
     "timestamp": 1614415275022,
     "user": {
      "displayName": "wind losd",
      "photoUrl": "https://lh3.googleusercontent.com/a-/AOh14Gjv1UwF6iyYsR8HrUTU_EeQVVPzfG82wFATtXqtZSU=s64",
      "userId": "05841662885873618484"
     },
     "user_tz": -480
    },
    "id": "U9fS6i2gMoQE",
    "outputId": "896e42be-f99b-45e5-f268-e69e712af615"
   },
   "outputs": [
    {
     "name": "stdout",
     "output_type": "stream",
     "text": [
      "partition: train [12, 20, 42, 14, 11, 19, 16, 27, 2, 26, 29, 37, 21, 22, 47, 18, 1], validation [23, 38, 15, 25, 34, 17], test [13, 35, 24, 36, 44, 30]\n",
      "length: train 367809, validation 100863, test 19346\n"
     ]
    },
    {
     "data": {
      "text/html": [
       "<div>\n",
       "<style scoped>\n",
       "    .dataframe tbody tr th:only-of-type {\n",
       "        vertical-align: middle;\n",
       "    }\n",
       "\n",
       "    .dataframe tbody tr th {\n",
       "        vertical-align: top;\n",
       "    }\n",
       "\n",
       "    .dataframe thead th {\n",
       "        text-align: right;\n",
       "    }\n",
       "</style>\n",
       "<table border=\"1\" class=\"dataframe\">\n",
       "  <thead>\n",
       "    <tr style=\"text-align: right;\">\n",
       "      <th></th>\n",
       "      <th>user</th>\n",
       "      <th>label</th>\n",
       "      <th>bearing</th>\n",
       "      <th>speed</th>\n",
       "      <th>tod</th>\n",
       "      <th>delta_d</th>\n",
       "      <th>segment_ix</th>\n",
       "    </tr>\n",
       "  </thead>\n",
       "  <tbody>\n",
       "    <tr>\n",
       "      <th>0</th>\n",
       "      <td>12.0</td>\n",
       "      <td>2.0</td>\n",
       "      <td>-2.318374</td>\n",
       "      <td>4.295296</td>\n",
       "      <td>0</td>\n",
       "      <td>120.268293</td>\n",
       "      <td>0</td>\n",
       "    </tr>\n",
       "    <tr>\n",
       "      <th>1</th>\n",
       "      <td>12.0</td>\n",
       "      <td>2.0</td>\n",
       "      <td>3.134240</td>\n",
       "      <td>0.679926</td>\n",
       "      <td>0</td>\n",
       "      <td>61.193363</td>\n",
       "      <td>0</td>\n",
       "    </tr>\n",
       "    <tr>\n",
       "      <th>2</th>\n",
       "      <td>12.0</td>\n",
       "      <td>2.0</td>\n",
       "      <td>2.872733</td>\n",
       "      <td>0.736592</td>\n",
       "      <td>0</td>\n",
       "      <td>50.088252</td>\n",
       "      <td>0</td>\n",
       "    </tr>\n",
       "    <tr>\n",
       "      <th>3</th>\n",
       "      <td>12.0</td>\n",
       "      <td>2.0</td>\n",
       "      <td>1.368683</td>\n",
       "      <td>0.799308</td>\n",
       "      <td>0</td>\n",
       "      <td>73.536348</td>\n",
       "      <td>0</td>\n",
       "    </tr>\n",
       "    <tr>\n",
       "      <th>4</th>\n",
       "      <td>12.0</td>\n",
       "      <td>2.0</td>\n",
       "      <td>1.852856</td>\n",
       "      <td>0.251410</td>\n",
       "      <td>0</td>\n",
       "      <td>59.835609</td>\n",
       "      <td>0</td>\n",
       "    </tr>\n",
       "    <tr>\n",
       "      <th>5</th>\n",
       "      <td>12.0</td>\n",
       "      <td>2.0</td>\n",
       "      <td>1.641768</td>\n",
       "      <td>0.673512</td>\n",
       "      <td>0</td>\n",
       "      <td>90.924091</td>\n",
       "      <td>0</td>\n",
       "    </tr>\n",
       "    <tr>\n",
       "      <th>6</th>\n",
       "      <td>12.0</td>\n",
       "      <td>2.0</td>\n",
       "      <td>-3.092502</td>\n",
       "      <td>0.541861</td>\n",
       "      <td>0</td>\n",
       "      <td>65.565162</td>\n",
       "      <td>0</td>\n",
       "    </tr>\n",
       "    <tr>\n",
       "      <th>7</th>\n",
       "      <td>12.0</td>\n",
       "      <td>2.0</td>\n",
       "      <td>-2.740076</td>\n",
       "      <td>0.647851</td>\n",
       "      <td>0</td>\n",
       "      <td>51.180226</td>\n",
       "      <td>0</td>\n",
       "    </tr>\n",
       "    <tr>\n",
       "      <th>8</th>\n",
       "      <td>12.0</td>\n",
       "      <td>2.0</td>\n",
       "      <td>3.036043</td>\n",
       "      <td>0.612834</td>\n",
       "      <td>0</td>\n",
       "      <td>94.376444</td>\n",
       "      <td>0</td>\n",
       "    </tr>\n",
       "    <tr>\n",
       "      <th>9</th>\n",
       "      <td>12.0</td>\n",
       "      <td>2.0</td>\n",
       "      <td>-3.067923</td>\n",
       "      <td>1.328141</td>\n",
       "      <td>0</td>\n",
       "      <td>114.220105</td>\n",
       "      <td>0</td>\n",
       "    </tr>\n",
       "    <tr>\n",
       "      <th>10</th>\n",
       "      <td>12.0</td>\n",
       "      <td>2.0</td>\n",
       "      <td>3.009037</td>\n",
       "      <td>0.855051</td>\n",
       "      <td>0</td>\n",
       "      <td>88.925279</td>\n",
       "      <td>0</td>\n",
       "    </tr>\n",
       "    <tr>\n",
       "      <th>11</th>\n",
       "      <td>12.0</td>\n",
       "      <td>2.0</td>\n",
       "      <td>-2.010643</td>\n",
       "      <td>1.144633</td>\n",
       "      <td>0</td>\n",
       "      <td>101.872370</td>\n",
       "      <td>0</td>\n",
       "    </tr>\n",
       "    <tr>\n",
       "      <th>12</th>\n",
       "      <td>12.0</td>\n",
       "      <td>2.0</td>\n",
       "      <td>-1.578220</td>\n",
       "      <td>0.812837</td>\n",
       "      <td>0</td>\n",
       "      <td>107.294433</td>\n",
       "      <td>0</td>\n",
       "    </tr>\n",
       "    <tr>\n",
       "      <th>13</th>\n",
       "      <td>12.0</td>\n",
       "      <td>2.0</td>\n",
       "      <td>-1.542175</td>\n",
       "      <td>1.287726</td>\n",
       "      <td>0</td>\n",
       "      <td>118.470788</td>\n",
       "      <td>0</td>\n",
       "    </tr>\n",
       "    <tr>\n",
       "      <th>14</th>\n",
       "      <td>12.0</td>\n",
       "      <td>2.0</td>\n",
       "      <td>-1.501440</td>\n",
       "      <td>0.783959</td>\n",
       "      <td>1</td>\n",
       "      <td>55.661082</td>\n",
       "      <td>0</td>\n",
       "    </tr>\n",
       "    <tr>\n",
       "      <th>15</th>\n",
       "      <td>12.0</td>\n",
       "      <td>2.0</td>\n",
       "      <td>-0.611782</td>\n",
       "      <td>0.938028</td>\n",
       "      <td>1</td>\n",
       "      <td>55.343628</td>\n",
       "      <td>1</td>\n",
       "    </tr>\n",
       "    <tr>\n",
       "      <th>16</th>\n",
       "      <td>12.0</td>\n",
       "      <td>2.0</td>\n",
       "      <td>-1.772163</td>\n",
       "      <td>0.533776</td>\n",
       "      <td>1</td>\n",
       "      <td>88.606768</td>\n",
       "      <td>0</td>\n",
       "    </tr>\n",
       "    <tr>\n",
       "      <th>17</th>\n",
       "      <td>12.0</td>\n",
       "      <td>2.0</td>\n",
       "      <td>-1.597445</td>\n",
       "      <td>1.193706</td>\n",
       "      <td>1</td>\n",
       "      <td>74.009798</td>\n",
       "      <td>0</td>\n",
       "    </tr>\n",
       "    <tr>\n",
       "      <th>18</th>\n",
       "      <td>12.0</td>\n",
       "      <td>2.0</td>\n",
       "      <td>-0.329673</td>\n",
       "      <td>1.635449</td>\n",
       "      <td>1</td>\n",
       "      <td>163.544942</td>\n",
       "      <td>0</td>\n",
       "    </tr>\n",
       "    <tr>\n",
       "      <th>19</th>\n",
       "      <td>12.0</td>\n",
       "      <td>2.0</td>\n",
       "      <td>0.087431</td>\n",
       "      <td>1.274207</td>\n",
       "      <td>1</td>\n",
       "      <td>58.613536</td>\n",
       "      <td>1</td>\n",
       "    </tr>\n",
       "    <tr>\n",
       "      <th>20</th>\n",
       "      <td>12.0</td>\n",
       "      <td>2.0</td>\n",
       "      <td>0.235322</td>\n",
       "      <td>0.993195</td>\n",
       "      <td>1</td>\n",
       "      <td>61.578118</td>\n",
       "      <td>0</td>\n",
       "    </tr>\n",
       "    <tr>\n",
       "      <th>21</th>\n",
       "      <td>12.0</td>\n",
       "      <td>2.0</td>\n",
       "      <td>-1.333659</td>\n",
       "      <td>0.993589</td>\n",
       "      <td>1</td>\n",
       "      <td>70.544796</td>\n",
       "      <td>0</td>\n",
       "    </tr>\n",
       "    <tr>\n",
       "      <th>22</th>\n",
       "      <td>12.0</td>\n",
       "      <td>2.0</td>\n",
       "      <td>-1.532049</td>\n",
       "      <td>1.596441</td>\n",
       "      <td>1</td>\n",
       "      <td>92.593568</td>\n",
       "      <td>1</td>\n",
       "    </tr>\n",
       "    <tr>\n",
       "      <th>23</th>\n",
       "      <td>12.0</td>\n",
       "      <td>2.0</td>\n",
       "      <td>-1.539727</td>\n",
       "      <td>1.139243</td>\n",
       "      <td>1</td>\n",
       "      <td>74.050779</td>\n",
       "      <td>0</td>\n",
       "    </tr>\n",
       "    <tr>\n",
       "      <th>24</th>\n",
       "      <td>12.0</td>\n",
       "      <td>2.0</td>\n",
       "      <td>-1.408845</td>\n",
       "      <td>0.331190</td>\n",
       "      <td>1</td>\n",
       "      <td>50.672042</td>\n",
       "      <td>0</td>\n",
       "    </tr>\n",
       "    <tr>\n",
       "      <th>25</th>\n",
       "      <td>12.0</td>\n",
       "      <td>2.0</td>\n",
       "      <td>-1.521246</td>\n",
       "      <td>0.758006</td>\n",
       "      <td>1</td>\n",
       "      <td>50.028369</td>\n",
       "      <td>0</td>\n",
       "    </tr>\n",
       "    <tr>\n",
       "      <th>26</th>\n",
       "      <td>12.0</td>\n",
       "      <td>2.0</td>\n",
       "      <td>2.914973</td>\n",
       "      <td>0.671511</td>\n",
       "      <td>1</td>\n",
       "      <td>51.034798</td>\n",
       "      <td>0</td>\n",
       "    </tr>\n",
       "    <tr>\n",
       "      <th>27</th>\n",
       "      <td>12.0</td>\n",
       "      <td>2.0</td>\n",
       "      <td>-2.826422</td>\n",
       "      <td>0.954943</td>\n",
       "      <td>1</td>\n",
       "      <td>52.521889</td>\n",
       "      <td>1</td>\n",
       "    </tr>\n",
       "    <tr>\n",
       "      <th>28</th>\n",
       "      <td>12.0</td>\n",
       "      <td>2.0</td>\n",
       "      <td>2.615648</td>\n",
       "      <td>0.501379</td>\n",
       "      <td>1</td>\n",
       "      <td>67.184766</td>\n",
       "      <td>0</td>\n",
       "    </tr>\n",
       "    <tr>\n",
       "      <th>29</th>\n",
       "      <td>12.0</td>\n",
       "      <td>2.0</td>\n",
       "      <td>2.748363</td>\n",
       "      <td>1.602943</td>\n",
       "      <td>1</td>\n",
       "      <td>73.735400</td>\n",
       "      <td>1</td>\n",
       "    </tr>\n",
       "    <tr>\n",
       "      <th>30</th>\n",
       "      <td>12.0</td>\n",
       "      <td>2.0</td>\n",
       "      <td>2.786208</td>\n",
       "      <td>1.328578</td>\n",
       "      <td>1</td>\n",
       "      <td>65.100346</td>\n",
       "      <td>2</td>\n",
       "    </tr>\n",
       "    <tr>\n",
       "      <th>31</th>\n",
       "      <td>12.0</td>\n",
       "      <td>2.0</td>\n",
       "      <td>-1.811483</td>\n",
       "      <td>1.114614</td>\n",
       "      <td>1</td>\n",
       "      <td>129.295182</td>\n",
       "      <td>0</td>\n",
       "    </tr>\n",
       "    <tr>\n",
       "      <th>32</th>\n",
       "      <td>12.0</td>\n",
       "      <td>2.0</td>\n",
       "      <td>-1.668483</td>\n",
       "      <td>0.853429</td>\n",
       "      <td>1</td>\n",
       "      <td>63.153772</td>\n",
       "      <td>0</td>\n",
       "    </tr>\n",
       "    <tr>\n",
       "      <th>33</th>\n",
       "      <td>12.0</td>\n",
       "      <td>2.0</td>\n",
       "      <td>-2.221493</td>\n",
       "      <td>0.939243</td>\n",
       "      <td>1</td>\n",
       "      <td>90.167325</td>\n",
       "      <td>0</td>\n",
       "    </tr>\n",
       "    <tr>\n",
       "      <th>34</th>\n",
       "      <td>12.0</td>\n",
       "      <td>2.0</td>\n",
       "      <td>-1.318893</td>\n",
       "      <td>1.132715</td>\n",
       "      <td>1</td>\n",
       "      <td>55.503030</td>\n",
       "      <td>1</td>\n",
       "    </tr>\n",
       "    <tr>\n",
       "      <th>35</th>\n",
       "      <td>12.0</td>\n",
       "      <td>2.0</td>\n",
       "      <td>1.627399</td>\n",
       "      <td>0.647895</td>\n",
       "      <td>1</td>\n",
       "      <td>66.733184</td>\n",
       "      <td>0</td>\n",
       "    </tr>\n",
       "    <tr>\n",
       "      <th>36</th>\n",
       "      <td>12.0</td>\n",
       "      <td>2.0</td>\n",
       "      <td>1.343613</td>\n",
       "      <td>0.448551</td>\n",
       "      <td>1</td>\n",
       "      <td>58.760119</td>\n",
       "      <td>0</td>\n",
       "    </tr>\n",
       "    <tr>\n",
       "      <th>37</th>\n",
       "      <td>12.0</td>\n",
       "      <td>2.0</td>\n",
       "      <td>1.255161</td>\n",
       "      <td>1.172920</td>\n",
       "      <td>1</td>\n",
       "      <td>56.300169</td>\n",
       "      <td>1</td>\n",
       "    </tr>\n",
       "    <tr>\n",
       "      <th>38</th>\n",
       "      <td>12.0</td>\n",
       "      <td>2.0</td>\n",
       "      <td>1.343620</td>\n",
       "      <td>1.199185</td>\n",
       "      <td>1</td>\n",
       "      <td>58.760086</td>\n",
       "      <td>2</td>\n",
       "    </tr>\n",
       "    <tr>\n",
       "      <th>39</th>\n",
       "      <td>12.0</td>\n",
       "      <td>2.0</td>\n",
       "      <td>0.044530</td>\n",
       "      <td>0.561086</td>\n",
       "      <td>1</td>\n",
       "      <td>71.257891</td>\n",
       "      <td>0</td>\n",
       "    </tr>\n",
       "    <tr>\n",
       "      <th>40</th>\n",
       "      <td>12.0</td>\n",
       "      <td>2.0</td>\n",
       "      <td>1.443749</td>\n",
       "      <td>0.634288</td>\n",
       "      <td>1</td>\n",
       "      <td>59.623039</td>\n",
       "      <td>0</td>\n",
       "    </tr>\n",
       "    <tr>\n",
       "      <th>41</th>\n",
       "      <td>12.0</td>\n",
       "      <td>2.0</td>\n",
       "      <td>-0.951489</td>\n",
       "      <td>0.320885</td>\n",
       "      <td>1</td>\n",
       "      <td>38.827110</td>\n",
       "      <td>0</td>\n",
       "    </tr>\n",
       "    <tr>\n",
       "      <th>42</th>\n",
       "      <td>12.0</td>\n",
       "      <td>2.0</td>\n",
       "      <td>0.495372</td>\n",
       "      <td>0.879791</td>\n",
       "      <td>1</td>\n",
       "      <td>42.229954</td>\n",
       "      <td>1</td>\n",
       "    </tr>\n",
       "    <tr>\n",
       "      <th>43</th>\n",
       "      <td>12.0</td>\n",
       "      <td>2.0</td>\n",
       "      <td>-0.463845</td>\n",
       "      <td>0.599578</td>\n",
       "      <td>1</td>\n",
       "      <td>71.349824</td>\n",
       "      <td>0</td>\n",
       "    </tr>\n",
       "    <tr>\n",
       "      <th>44</th>\n",
       "      <td>12.0</td>\n",
       "      <td>2.0</td>\n",
       "      <td>-0.225766</td>\n",
       "      <td>0.519757</td>\n",
       "      <td>1</td>\n",
       "      <td>59.772105</td>\n",
       "      <td>0</td>\n",
       "    </tr>\n",
       "    <tr>\n",
       "      <th>45</th>\n",
       "      <td>12.0</td>\n",
       "      <td>2.0</td>\n",
       "      <td>0.050323</td>\n",
       "      <td>0.801904</td>\n",
       "      <td>1</td>\n",
       "      <td>64.152291</td>\n",
       "      <td>0</td>\n",
       "    </tr>\n",
       "    <tr>\n",
       "      <th>46</th>\n",
       "      <td>12.0</td>\n",
       "      <td>2.0</td>\n",
       "      <td>0.085203</td>\n",
       "      <td>0.561055</td>\n",
       "      <td>1</td>\n",
       "      <td>60.032842</td>\n",
       "      <td>0</td>\n",
       "    </tr>\n",
       "    <tr>\n",
       "      <th>47</th>\n",
       "      <td>12.0</td>\n",
       "      <td>2.0</td>\n",
       "      <td>-0.097797</td>\n",
       "      <td>2.614899</td>\n",
       "      <td>1</td>\n",
       "      <td>122.900270</td>\n",
       "      <td>1</td>\n",
       "    </tr>\n",
       "    <tr>\n",
       "      <th>48</th>\n",
       "      <td>12.0</td>\n",
       "      <td>2.0</td>\n",
       "      <td>0.063755</td>\n",
       "      <td>1.157324</td>\n",
       "      <td>1</td>\n",
       "      <td>104.159189</td>\n",
       "      <td>0</td>\n",
       "    </tr>\n",
       "    <tr>\n",
       "      <th>49</th>\n",
       "      <td>12.0</td>\n",
       "      <td>2.0</td>\n",
       "      <td>0.057562</td>\n",
       "      <td>2.480408</td>\n",
       "      <td>1</td>\n",
       "      <td>57.049374</td>\n",
       "      <td>1</td>\n",
       "    </tr>\n",
       "  </tbody>\n",
       "</table>\n",
       "</div>"
      ],
      "text/plain": [
       "    user  label   bearing     speed  tod     delta_d  segment_ix\n",
       "0   12.0    2.0 -2.318374  4.295296    0  120.268293           0\n",
       "1   12.0    2.0  3.134240  0.679926    0   61.193363           0\n",
       "2   12.0    2.0  2.872733  0.736592    0   50.088252           0\n",
       "3   12.0    2.0  1.368683  0.799308    0   73.536348           0\n",
       "4   12.0    2.0  1.852856  0.251410    0   59.835609           0\n",
       "5   12.0    2.0  1.641768  0.673512    0   90.924091           0\n",
       "6   12.0    2.0 -3.092502  0.541861    0   65.565162           0\n",
       "7   12.0    2.0 -2.740076  0.647851    0   51.180226           0\n",
       "8   12.0    2.0  3.036043  0.612834    0   94.376444           0\n",
       "9   12.0    2.0 -3.067923  1.328141    0  114.220105           0\n",
       "10  12.0    2.0  3.009037  0.855051    0   88.925279           0\n",
       "11  12.0    2.0 -2.010643  1.144633    0  101.872370           0\n",
       "12  12.0    2.0 -1.578220  0.812837    0  107.294433           0\n",
       "13  12.0    2.0 -1.542175  1.287726    0  118.470788           0\n",
       "14  12.0    2.0 -1.501440  0.783959    1   55.661082           0\n",
       "15  12.0    2.0 -0.611782  0.938028    1   55.343628           1\n",
       "16  12.0    2.0 -1.772163  0.533776    1   88.606768           0\n",
       "17  12.0    2.0 -1.597445  1.193706    1   74.009798           0\n",
       "18  12.0    2.0 -0.329673  1.635449    1  163.544942           0\n",
       "19  12.0    2.0  0.087431  1.274207    1   58.613536           1\n",
       "20  12.0    2.0  0.235322  0.993195    1   61.578118           0\n",
       "21  12.0    2.0 -1.333659  0.993589    1   70.544796           0\n",
       "22  12.0    2.0 -1.532049  1.596441    1   92.593568           1\n",
       "23  12.0    2.0 -1.539727  1.139243    1   74.050779           0\n",
       "24  12.0    2.0 -1.408845  0.331190    1   50.672042           0\n",
       "25  12.0    2.0 -1.521246  0.758006    1   50.028369           0\n",
       "26  12.0    2.0  2.914973  0.671511    1   51.034798           0\n",
       "27  12.0    2.0 -2.826422  0.954943    1   52.521889           1\n",
       "28  12.0    2.0  2.615648  0.501379    1   67.184766           0\n",
       "29  12.0    2.0  2.748363  1.602943    1   73.735400           1\n",
       "30  12.0    2.0  2.786208  1.328578    1   65.100346           2\n",
       "31  12.0    2.0 -1.811483  1.114614    1  129.295182           0\n",
       "32  12.0    2.0 -1.668483  0.853429    1   63.153772           0\n",
       "33  12.0    2.0 -2.221493  0.939243    1   90.167325           0\n",
       "34  12.0    2.0 -1.318893  1.132715    1   55.503030           1\n",
       "35  12.0    2.0  1.627399  0.647895    1   66.733184           0\n",
       "36  12.0    2.0  1.343613  0.448551    1   58.760119           0\n",
       "37  12.0    2.0  1.255161  1.172920    1   56.300169           1\n",
       "38  12.0    2.0  1.343620  1.199185    1   58.760086           2\n",
       "39  12.0    2.0  0.044530  0.561086    1   71.257891           0\n",
       "40  12.0    2.0  1.443749  0.634288    1   59.623039           0\n",
       "41  12.0    2.0 -0.951489  0.320885    1   38.827110           0\n",
       "42  12.0    2.0  0.495372  0.879791    1   42.229954           1\n",
       "43  12.0    2.0 -0.463845  0.599578    1   71.349824           0\n",
       "44  12.0    2.0 -0.225766  0.519757    1   59.772105           0\n",
       "45  12.0    2.0  0.050323  0.801904    1   64.152291           0\n",
       "46  12.0    2.0  0.085203  0.561055    1   60.032842           0\n",
       "47  12.0    2.0 -0.097797  2.614899    1  122.900270           1\n",
       "48  12.0    2.0  0.063755  1.157324    1  104.159189           0\n",
       "49  12.0    2.0  0.057562  2.480408    1   57.049374           1"
      ]
     },
     "execution_count": 19,
     "metadata": {},
     "output_type": "execute_result"
    }
   ],
   "source": [
    "from sklearn.model_selection import train_test_split\n",
    "#x_sub, user_test = train_test_split(dataset.user.unique()[1:30],test_size=0.2,train_size=0.8)\n",
    "#user_train, user_val= train_test_split(x_sub,test_size = 0.25,train_size =0.75)\n",
    "\n",
    "\n",
    "\n",
    "user_train = [12, 20, 42, 14, 11, 19, 16, 27,  2, 26, 29, 37, 21, 22, 47, 18,  1,]\n",
    "user_val = [23, 38, 15, 25, 34, 17,]\n",
    "user_test =  [13, 35, 24, 36, 44, 30,]\n",
    "\n",
    "# user_train, user_val, user_test = train, val, test = train_test_data_split(dataset.user.unique(),Random=True) # use specified splits, check the source code\n",
    "print(f'partition: train {user_train}, validation {user_val}, test {user_test}')\n",
    "\n",
    "data_train =  pd.concat([dataset[(dataset.user==tr)] for tr in user_train]).reset_index(drop=True)\n",
    "data_val = pd.concat([dataset[(dataset.user==va)] for va in user_val]).reset_index(drop=True)\n",
    "data_test = pd.concat([dataset[(dataset.user==te)] for te in user_test]).reset_index(drop=True)\n",
    "\n",
    "print(f'length: train {len(data_train)}, validation {len(data_val)}, test {len(data_test)}')\n",
    "\n",
    "data_train.head(50)"
   ]
  },
  {
   "cell_type": "markdown",
   "metadata": {
    "id": "-j95if8oMoQW"
   },
   "source": [
    "### Define Image Tensor Dataloader\n",
    "\n",
    "We implement our own Tensor Dataset in order to be able to do fast lookup of sequences and images. Just add features inside\n",
    "```\n",
    "df[['feat1','feat2',...]]\n",
    "```"
   ]
  },
  {
   "cell_type": "code",
   "execution_count": 20,
   "metadata": {
    "colab": {
     "base_uri": "https://localhost:8080/"
    },
    "executionInfo": {
     "elapsed": 4699,
     "status": "ok",
     "timestamp": 1614415275533,
     "user": {
      "displayName": "wind losd",
      "photoUrl": "https://lh3.googleusercontent.com/a-/AOh14Gjv1UwF6iyYsR8HrUTU_EeQVVPzfG82wFATtXqtZSU=s64",
      "userId": "05841662885873618484"
     },
     "user_tz": -480
    },
    "id": "PBltgEVeMoQW",
    "outputId": "638d0afb-4f80-49bb-9c37-b0929dd33d66"
   },
   "outputs": [
    {
     "name": "stdout",
     "output_type": "stream",
     "text": [
      "X_seq : torch.Size([13500, 6, 3])\n",
      "tensor([[ 0.0854,  3.1341,  0.0171],\n",
      "        [ 0.1110,  1.5633,  0.0222],\n",
      "        [ 0.0000,  0.0000,  0.0000],\n",
      "        [ 0.0854, -0.0075,  0.0427],\n",
      "        [ 0.0000,  0.0000,  0.0000],\n",
      "        [ 0.0000,  0.0000,  0.0000]], dtype=torch.float64)\n",
      "X_tod : torch.Size([13500, 5])\n",
      "tensor([0., 0., 0., 0., 1.], dtype=torch.float64)\n",
      "y: torch.Size([13500])\n",
      "tensor(2., dtype=torch.float64)\n"
     ]
    }
   ],
   "source": [
    "import torch\n",
    "filter_seq = 6\n",
    "class ImageTensorDataset(torch.utils.data.Dataset):\n",
    "    def __init__(self, df ,filter_seq=filter_seq):\n",
    "        self.seq = np.stack([np.roll(df[['delta_d', 'bearing','speed']].values, i, axis = 0) for i in range(filter_seq-1, -1, -1)], axis = 1)\n",
    "        self.seq = self.seq[df['segment_ix'] >= filter_seq]\n",
    "\n",
    "\n",
    "        self.label = df[df['segment_ix'] >= filter_seq]['label'].values\n",
    "     \n",
    "        self.user_id = df[df['segment_ix'] >= filter_seq]['user'].values\n",
    "\n",
    "        tod = df[df['segment_ix'] >= filter_seq]['tod'].values\n",
    "        self.tod_one_hot = np.eye(5)[tod]\n",
    "        \n",
    "    def __len__(self):\n",
    "        return len(self.label)\n",
    "    \n",
    "    def __getitem__(self, key):\n",
    "\n",
    "        return self.seq[key], self.tod_one_hot[key], self.label[key]\n",
    "\n",
    "demo_dataset = ImageTensorDataset(data_train)\n",
    "demo_loader = torch.utils.data.DataLoader(demo_dataset, batch_size=13500, shuffle=True)\n",
    "\n",
    "for X_seq, X_tod, y in demo_loader:\n",
    "\n",
    "    print('X_seq :', X_seq.shape)\n",
    "    print(X_seq[0, :])\n",
    "    print('X_tod :', X_tod.shape)\n",
    "    print(X_tod[0])\n",
    "    print('y:', y.shape)\n",
    "    print(y[0])\n",
    "    break;"
   ]
  },
  {
   "cell_type": "code",
   "execution_count": null,
   "metadata": {
    "executionInfo": {
     "elapsed": 4698,
     "status": "ok",
     "timestamp": 1614415275534,
     "user": {
      "displayName": "wind losd",
      "photoUrl": "https://lh3.googleusercontent.com/a-/AOh14Gjv1UwF6iyYsR8HrUTU_EeQVVPzfG82wFATtXqtZSU=s64",
      "userId": "05841662885873618484"
     },
     "user_tz": -480
    },
    "id": "vN1Qjn5ky59m"
   },
   "outputs": [],
   "source": []
  },
  {
   "cell_type": "code",
   "execution_count": 21,
   "metadata": {
    "colab": {
     "base_uri": "https://localhost:8080/"
    },
    "executionInfo": {
     "elapsed": 4697,
     "status": "ok",
     "timestamp": 1614415275534,
     "user": {
      "displayName": "wind losd",
      "photoUrl": "https://lh3.googleusercontent.com/a-/AOh14Gjv1UwF6iyYsR8HrUTU_EeQVVPzfG82wFATtXqtZSU=s64",
      "userId": "05841662885873618484"
     },
     "user_tz": -480
    },
    "id": "oOj-lF806uE5",
    "outputId": "a1c30dc5-7a66-46a6-fc0f-cff56b69ad2c"
   },
   "outputs": [
    {
     "data": {
      "text/plain": [
       "24"
      ]
     },
     "execution_count": 21,
     "metadata": {},
     "output_type": "execute_result"
    }
   ],
   "source": [
    "len(demo_loader)"
   ]
  },
  {
   "cell_type": "markdown",
   "metadata": {
    "id": "4rSvIFHwCEcL"
   },
   "source": [
    "### define train, val, test set and dataloader"
   ]
  },
  {
   "cell_type": "code",
   "execution_count": 22,
   "metadata": {
    "executionInfo": {
     "elapsed": 4695,
     "status": "ok",
     "timestamp": 1614415275534,
     "user": {
      "displayName": "wind losd",
      "photoUrl": "https://lh3.googleusercontent.com/a-/AOh14Gjv1UwF6iyYsR8HrUTU_EeQVVPzfG82wFATtXqtZSU=s64",
      "userId": "05841662885873618484"
     },
     "user_tz": -480
    },
    "id": "RW01HbMeCDjt"
   },
   "outputs": [],
   "source": [
    "    train_dataset = ImageTensorDataset(data_train)\n",
    "    val_dataset = ImageTensorDataset(data_val)\n",
    "    test_dataset = ImageTensorDataset(data_test)"
   ]
  },
  {
   "cell_type": "code",
   "execution_count": 23,
   "metadata": {
    "colab": {
     "base_uri": "https://localhost:8080/"
    },
    "executionInfo": {
     "elapsed": 4695,
     "status": "ok",
     "timestamp": 1614415275535,
     "user": {
      "displayName": "wind losd",
      "photoUrl": "https://lh3.googleusercontent.com/a-/AOh14Gjv1UwF6iyYsR8HrUTU_EeQVVPzfG82wFATtXqtZSU=s64",
      "userId": "05841662885873618484"
     },
     "user_tz": -480
    },
    "id": "GaxhXF-wy8lo",
    "outputId": "f7bf4c93-4a0d-4104-da9c-73154efd0ff5"
   },
   "outputs": [
    {
     "data": {
      "text/plain": [
       "(array([[6.91090227, 2.57046468, 1.38218045],\n",
       "        [9.2875579 , 2.3914295 , 1.85751158],\n",
       "        [5.81852812, 2.16232244, 1.16370562],\n",
       "        [9.4138089 , 2.37696808, 1.88276178],\n",
       "        [7.70494533, 1.20586735, 1.54098907],\n",
       "        [6.66521604, 2.2882858 , 1.33304321]]),\n",
       " array([0., 0., 0., 0., 1.]),\n",
       " 2.0)"
      ]
     },
     "execution_count": 23,
     "metadata": {},
     "output_type": "execute_result"
    }
   ],
   "source": [
    "train_dataset[2]"
   ]
  },
  {
   "cell_type": "code",
   "execution_count": 24,
   "metadata": {
    "colab": {
     "base_uri": "https://localhost:8080/"
    },
    "executionInfo": {
     "elapsed": 5180,
     "status": "ok",
     "timestamp": 1614415276021,
     "user": {
      "displayName": "wind losd",
      "photoUrl": "https://lh3.googleusercontent.com/a-/AOh14Gjv1UwF6iyYsR8HrUTU_EeQVVPzfG82wFATtXqtZSU=s64",
      "userId": "05841662885873618484"
     },
     "user_tz": -480
    },
    "id": "MA-xqTTg7SYG",
    "outputId": "fa295e43-021c-48bf-92ef-9eb95ba6610d"
   },
   "outputs": [
    {
     "data": {
      "text/plain": [
       "array([0., 1., 2., 3., 4., 5.])"
      ]
     },
     "execution_count": 24,
     "metadata": {},
     "output_type": "execute_result"
    }
   ],
   "source": [
    "np.unique(dataset['label'])"
   ]
  },
  {
   "cell_type": "code",
   "execution_count": 25,
   "metadata": {
    "colab": {
     "base_uri": "https://localhost:8080/"
    },
    "executionInfo": {
     "elapsed": 5178,
     "status": "ok",
     "timestamp": 1614415276021,
     "user": {
      "displayName": "wind losd",
      "photoUrl": "https://lh3.googleusercontent.com/a-/AOh14Gjv1UwF6iyYsR8HrUTU_EeQVVPzfG82wFATtXqtZSU=s64",
      "userId": "05841662885873618484"
     },
     "user_tz": -480
    },
    "id": "BVjbDRG8EfCa",
    "outputId": "cc09dd50-9374-4fea-8442-77ee311fe7df"
   },
   "outputs": [
    {
     "data": {
      "text/plain": [
       "array([2., 2., 2., ..., 0., 0., 0.])"
      ]
     },
     "execution_count": 25,
     "metadata": {},
     "output_type": "execute_result"
    }
   ],
   "source": [
    "train_dataset.label"
   ]
  },
  {
   "cell_type": "code",
   "execution_count": 26,
   "metadata": {
    "colab": {
     "base_uri": "https://localhost:8080/"
    },
    "executionInfo": {
     "elapsed": 5178,
     "status": "ok",
     "timestamp": 1614415276022,
     "user": {
      "displayName": "wind losd",
      "photoUrl": "https://lh3.googleusercontent.com/a-/AOh14Gjv1UwF6iyYsR8HrUTU_EeQVVPzfG82wFATtXqtZSU=s64",
      "userId": "05841662885873618484"
     },
     "user_tz": -480
    },
    "id": "ATuqKuMSdCgQ",
    "outputId": "f3daeb92-2586-4f6b-8294-a0b8ddd96e0e"
   },
   "outputs": [
    {
     "data": {
      "text/plain": [
       "array([0., 1., 2., 3., 4., 5.])"
      ]
     },
     "execution_count": 26,
     "metadata": {},
     "output_type": "execute_result"
    }
   ],
   "source": [
    "np.unique(train_dataset.label)"
   ]
  },
  {
   "cell_type": "code",
   "execution_count": 27,
   "metadata": {
    "colab": {
     "base_uri": "https://localhost:8080/"
    },
    "executionInfo": {
     "elapsed": 5176,
     "status": "ok",
     "timestamp": 1614415276022,
     "user": {
      "displayName": "wind losd",
      "photoUrl": "https://lh3.googleusercontent.com/a-/AOh14Gjv1UwF6iyYsR8HrUTU_EeQVVPzfG82wFATtXqtZSU=s64",
      "userId": "05841662885873618484"
     },
     "user_tz": -480
    },
    "id": "yhWrbMws3-2j",
    "outputId": "061944d0-d354-499a-d981-9e4307fc5385"
   },
   "outputs": [
    {
     "data": {
      "text/plain": [
       "array([0., 1., 2., 3., 4., 5.])"
      ]
     },
     "execution_count": 27,
     "metadata": {},
     "output_type": "execute_result"
    }
   ],
   "source": [
    "np.unique(val_dataset.label)"
   ]
  },
  {
   "cell_type": "code",
   "execution_count": 28,
   "metadata": {
    "colab": {
     "base_uri": "https://localhost:8080/"
    },
    "executionInfo": {
     "elapsed": 5175,
     "status": "ok",
     "timestamp": 1614415276022,
     "user": {
      "displayName": "wind losd",
      "photoUrl": "https://lh3.googleusercontent.com/a-/AOh14Gjv1UwF6iyYsR8HrUTU_EeQVVPzfG82wFATtXqtZSU=s64",
      "userId": "05841662885873618484"
     },
     "user_tz": -480
    },
    "id": "BWZ_P3Qh4BFa",
    "outputId": "da46554c-0acf-4389-da63-f5264605c2ef"
   },
   "outputs": [
    {
     "data": {
      "text/plain": [
       "array([0., 1., 2., 3., 4.])"
      ]
     },
     "execution_count": 28,
     "metadata": {},
     "output_type": "execute_result"
    }
   ],
   "source": [
    "np.unique(test_dataset.label)"
   ]
  },
  {
   "cell_type": "markdown",
   "metadata": {
    "id": "iIgdP3XwO08k"
   },
   "source": [
    "# Model CNN_RNN_GIS_Multi_Targets\n",
    "If we want to classify not only stop/move status, but also trip purpose and travel mode. In this case, stop/move has two status, trip purpose has 16 status, and travel mode has 9 status. So, in total, it is 27 status. We try to modify the last layer of fully connected network to be 27 neurons and when doing loss computation, the target is also split into three catagory, each catagory has its own loss, with finnaly three loss combined into One total loss."
   ]
  },
  {
   "cell_type": "code",
   "execution_count": 142,
   "metadata": {
    "executionInfo": {
     "elapsed": 2993,
     "status": "ok",
     "timestamp": 1614415276022,
     "user": {
      "displayName": "wind losd",
      "photoUrl": "https://lh3.googleusercontent.com/a-/AOh14Gjv1UwF6iyYsR8HrUTU_EeQVVPzfG82wFATtXqtZSU=s64",
      "userId": "05841662885873618484"
     },
     "user_tz": -480
    },
    "id": "qlu5i73gwxmF"
   },
   "outputs": [],
   "source": [
    "import time\r\n",
    "import torch\r\n",
    "import torch.nn as nn\r\n",
    "import torch.nn.functional as F\r\n",
    "import torch.optim as optim\r\n",
    "from torch.autograd import Variable\r\n",
    "from collections import OrderedDict\r\n",
    "torch.manual_seed(1) # 设置随机种子，保证可重复性\r\n",
    "device = torch.device(\"cuda\" if torch.cuda.is_available() else \"cpu\") # 设置使用CPU or GPU\r\n",
    "\r\n",
    "from sklearn.model_selection import LeaveOneOut\r\n",
    "from sklearn.model_selection import KFold\r\n",
    "\r\n",
    "from sklearn.metrics import accuracy_score, classification_report, confusion_matrix, ConfusionMatrixDisplay, roc_auc_score, roc_curve, auc\r\n",
    "from sklearn.metrics import recall_score,precision_score,f1_score\r\n",
    "\r\n",
    "from sklearn.preprocessing import label_binarize\r\n",
    "from scipy import interp\r\n",
    "from itertools import cycle\r\n",
    "\r\n",
    "import matplotlib\r\n",
    "import matplotlib.pyplot as plt\r\n",
    "from matplotlib.ticker import MultipleLocator, FormatStrFormatter"
   ]
  },
  {
   "cell_type": "markdown",
   "metadata": {
    "id": "cM_FaP-EgF1l"
   },
   "source": [
    "## Network"
   ]
  },
  {
   "cell_type": "code",
   "execution_count": 143,
   "metadata": {
    "executionInfo": {
     "elapsed": 2991,
     "status": "ok",
     "timestamp": 1614415276022,
     "user": {
      "displayName": "wind losd",
      "photoUrl": "https://lh3.googleusercontent.com/a-/AOh14Gjv1UwF6iyYsR8HrUTU_EeQVVPzfG82wFATtXqtZSU=s64",
      "userId": "05841662885873618484"
     },
     "user_tz": -480
    },
    "id": "oN8EIFHHSsbK"
   },
   "outputs": [],
   "source": [
    "# use to select the output of RNN out from the tuple in nn.sequential\n",
    "class SelectItem(nn.Module):\n",
    "    def __init__(self, item_index):\n",
    "        super(SelectItem, self).__init__()\n",
    "        self._name = 'selectitem'\n",
    "        self.item_index = item_index\n",
    "\n",
    "    def forward(self, inputs):\n",
    "        \n",
    "        return inputs[self.item_index]\n",
    "\n",
    "\n",
    "# how to init weights in pytorch: https://stackoverflow.com/questions/49433936/how-to-initialize-weights-in-pytorch\n",
    "def init_weights(m):\n",
    "    if type(m) == nn.GRU:\n",
    "    #     for weight in m.parameters():\n",
    "    #         torch.nn.init.orthogonal_(weight)\n",
    "    #     # torch.nn.init.xavier_uniform(m.weight)\n",
    "        # m.bias.data.fill_(0.01)\n",
    "\n",
    "        # lstm\n",
    "        #  for name, param in self.lstm.named_parameters():\n",
    "        #     if 'bias' in name:\n",
    "        #          nn.init.constant_(param, 0.0)\n",
    "        #     elif 'weight_ih' in name:\n",
    "        #          nn.init.kaiming_normal_(param)\n",
    "        #     elif 'weight_hh' in name:\n",
    "        #          nn.init.orthogonal_(param)\n",
    "\n",
    "        # Gru\n",
    "        for name, param in m.named_parameters():\n",
    "            if 'bias' in name:\n",
    "                 nn.init.constant_(param, 0.0)\n",
    "            elif 'weight_ih' in name:\n",
    "                 nn.init.kaiming_normal_(param)\n",
    "            elif 'weight_hh' in name:\n",
    "                 nn.init.orthogonal_(param)\n",
    "\n",
    "class Net_CNN_RNN_GIS_Multi_Purpose(nn.Module):\n",
    "    def __init__(self):\n",
    "        super(Net_CNN_RNN_GIS_Multi_Purpose, self).__init__()\n",
    "\n",
    "\n",
    "        self.rnn = nn.Sequential(OrderedDict([\n",
    "                                              ('bi-gru1', nn.GRU(input_size = 3, hidden_size = 32, num_layers = 2, batch_first = True, bidirectional = True)),\n",
    "                                              ('drop_h0', SelectItem(0)),\n",
    "                                            #   ('bi-gru2', nn.GRU(input_size = 10, hidden_size = 5, num_layers = 2, batch_first = True, bidirectional = True)),\n",
    "                                            #   ('drop_h1', SelectItem(0)),\n",
    "                                            #   ('norm1', nn.BatchNorm1d(num_features = 6)),\n",
    "                                              ('relu1', nn.ReLU(inplace=True)),\n",
    "                                              ('drop1', nn.Dropout(p = 0.2)),\n",
    "\n",
    "        ]))\n",
    "\n",
    "        self.fc = nn.Sequential(OrderedDict([\n",
    "                                             ('fc1', nn.Linear(in_features = filter_seq * 2 * 32 + 5, out_features = 512)),\n",
    "                                             ('relu1', nn.ReLU(inplace=True)),\n",
    "                                             ('fc2', nn.Linear(in_features = 512, out_features = 100)),\n",
    "                                             ('relu2', nn.ReLU(inplace=True)),\n",
    "                                             ('fc3', nn.Linear(in_features = 100, out_features = 6 )),\n",
    "                                             \n",
    "        ]))\n",
    "\n",
    "    def forward(self, X_seq, X_tod):\n",
    "\n",
    "        x2 = self.rnn(X_seq)\n",
    "        x2 = torch.flatten(x2, start_dim= 1)\n",
    "        x3 = torch.cat((x2, X_tod), dim = 1)\n",
    "        x4 = self.fc(x3)\n",
    "        \n",
    "        return x4\n"
   ]
  },
  {
   "cell_type": "code",
   "execution_count": 144,
   "metadata": {
    "colab": {
     "base_uri": "https://localhost:8080/"
    },
    "executionInfo": {
     "elapsed": 2990,
     "status": "ok",
     "timestamp": 1614415276023,
     "user": {
      "displayName": "wind losd",
      "photoUrl": "https://lh3.googleusercontent.com/a-/AOh14Gjv1UwF6iyYsR8HrUTU_EeQVVPzfG82wFATtXqtZSU=s64",
      "userId": "05841662885873618484"
     },
     "user_tz": -480
    },
    "id": "5iVGn1EBKYMQ",
    "outputId": "64cf5870-1de0-4e8b-f0b4-288ba5055005"
   },
   "outputs": [
    {
     "data": {
      "text/plain": [
       "277506"
      ]
     },
     "execution_count": 144,
     "metadata": {},
     "output_type": "execute_result"
    }
   ],
   "source": [
    "import numpy as np\n",
    "net = Net_CNN_RNN_GIS_Multi_Purpose()\n",
    "net.apply(init_weights)\n",
    "np.sum([np.product(x.detach().cpu().numpy().shape) for x in net.parameters()])"
   ]
  },
  {
   "cell_type": "markdown",
   "metadata": {
    "id": "cRA4YWHYf20n"
   },
   "source": [
    "## Main"
   ]
  },
  {
   "cell_type": "markdown",
   "metadata": {
    "id": "Gwkqs_HXgZBY"
   },
   "source": [
    "discuss about the observations which "
   ]
  },
  {
   "cell_type": "code",
   "execution_count": 145,
   "metadata": {
    "colab": {
     "base_uri": "https://localhost:8080/"
    },
    "executionInfo": {
     "elapsed": 2988,
     "status": "ok",
     "timestamp": 1614415276023,
     "user": {
      "displayName": "wind losd",
      "photoUrl": "https://lh3.googleusercontent.com/a-/AOh14Gjv1UwF6iyYsR8HrUTU_EeQVVPzfG82wFATtXqtZSU=s64",
      "userId": "05841662885873618484"
     },
     "user_tz": -480
    },
    "id": "aGrwyGTsCbc-",
    "outputId": "d3f5cf2c-39b5-4da2-f1d1-0ab4e2f14702"
   },
   "outputs": [
    {
     "name": "stdout",
     "output_type": "stream",
     "text": [
      "labelM: [0. 1. 2. 3. 4. 5.],[ 91576 111556 117396  40340   6613    328]\n",
      "tensor([0.0036, 0.0029, 0.0028, 0.0081, 0.0496, 1.0000], dtype=torch.float64)\n"
     ]
    }
   ],
   "source": [
    "unique, counts = np.unique(data_train['label'], return_counts=True)\n",
    "print(f'labelM: {unique},{counts}')\n",
    "weightLabelM = torch.DoubleTensor(1/counts * np.min(counts))\n",
    "print(weightLabelM)\n"
   ]
  },
  {
   "cell_type": "code",
   "execution_count": 146,
   "metadata": {
    "executionInfo": {
     "elapsed": 2986,
     "status": "ok",
     "timestamp": 1614415276023,
     "user": {
      "displayName": "wind losd",
      "photoUrl": "https://lh3.googleusercontent.com/a-/AOh14Gjv1UwF6iyYsR8HrUTU_EeQVVPzfG82wFATtXqtZSU=s64",
      "userId": "05841662885873618484"
     },
     "user_tz": -480
    },
    "id": "lYJsw-3PIgst"
   },
   "outputs": [],
   "source": [
    "mode_names = [\"0\", \"1\",\"2\",\"3\",\"4\",\"100\"]"
   ]
  },
  {
   "cell_type": "code",
   "execution_count": 147,
   "metadata": {
    "executionInfo": {
     "elapsed": 2985,
     "status": "ok",
     "timestamp": 1614415276023,
     "user": {
      "displayName": "wind losd",
      "photoUrl": "https://lh3.googleusercontent.com/a-/AOh14Gjv1UwF6iyYsR8HrUTU_EeQVVPzfG82wFATtXqtZSU=s64",
      "userId": "05841662885873618484"
     },
     "user_tz": -480
    },
    "id": "lR5-LQVr0uja"
   },
   "outputs": [],
   "source": [
    "\r\n",
    "# from getpass import getpass\r\n",
    "# api_token = getpass('Enter your private Neptune API token: ')\r\n",
    "api_token = 'eyJhcGlfYWRkcmVzcyI6Imh0dHBzOi8vdWkubmVwdHVuZS5haSIsImFwaV91cmwiOiJodHRwczovL3VpLm5lcHR1bmUuYWkiLCJhcGlfa2V5IjoiN2ZhOTE4MDEtMWQxOC00NDU2LThiZGYtNTQ3NjAxMWJkOGUyIn0='"
   ]
  },
  {
   "cell_type": "code",
   "execution_count": 148,
   "metadata": {
    "executionInfo": {
     "elapsed": 2983,
     "status": "ok",
     "timestamp": 1614415276023,
     "user": {
      "displayName": "wind losd",
      "photoUrl": "https://lh3.googleusercontent.com/a-/AOh14Gjv1UwF6iyYsR8HrUTU_EeQVVPzfG82wFATtXqtZSU=s64",
      "userId": "05841662885873618484"
     },
     "user_tz": -480
    },
    "id": "dfvqstTBoW-3"
   },
   "outputs": [],
   "source": [
    "# eyJhcGlfYWRkcmVzcyI6Imh0dHBzOi8vdWkubmVwdHVuZS5haSIsImFwaV91cmwiOiJodHRwczovL3VpLm5lcHR1bmUuYWkiLCJhcGlfa2V5IjoiN2ZhOTE4MDEtMWQxOC00NDU2LThiZGYtNTQ3NjAxMWJkOGUyIn0="
   ]
  },
  {
   "cell_type": "code",
   "execution_count": 149,
   "metadata": {
    "colab": {
     "base_uri": "https://localhost:8080/"
    },
    "executionInfo": {
     "elapsed": 8661,
     "status": "ok",
     "timestamp": 1614415281703,
     "user": {
      "displayName": "wind losd",
      "photoUrl": "https://lh3.googleusercontent.com/a-/AOh14Gjv1UwF6iyYsR8HrUTU_EeQVVPzfG82wFATtXqtZSU=s64",
      "userId": "05841662885873618484"
     },
     "user_tz": -480
    },
    "id": "BoLnangS2R1v",
    "outputId": "72ad6499-0486-4bfc-c0ab-e1101f22e159"
   },
   "outputs": [
    {
     "name": "stdout",
     "output_type": "stream",
     "text": [
      "Requirement already satisfied: neptune-client in c:\\users\\losdwind\\anaconda3\\envs\\pytorch\\lib\\site-packages (0.4.132)\n",
      "Requirement already satisfied: future>=0.17.1 in c:\\users\\losdwind\\anaconda3\\envs\\pytorch\\lib\\site-packages (from neptune-client) (0.18.2)\n",
      "Requirement already satisfied: GitPython>=2.0.8 in c:\\users\\losdwind\\anaconda3\\envs\\pytorch\\lib\\site-packages (from neptune-client) (3.1.14)\n",
      "Requirement already satisfied: websocket-client>=0.35.0 in c:\\users\\losdwind\\anaconda3\\envs\\pytorch\\lib\\site-packages (from neptune-client) (0.58.0)\n",
      "Requirement already satisfied: PyJWT in c:\\users\\losdwind\\anaconda3\\envs\\pytorch\\lib\\site-packages (from neptune-client) (2.0.1)\n",
      "Requirement already satisfied: Pillow>=1.1.6 in c:\\users\\losdwind\\anaconda3\\envs\\pytorch\\lib\\site-packages (from neptune-client) (8.0.1)\n",
      "Requirement already satisfied: packaging in c:\\users\\losdwind\\anaconda3\\envs\\pytorch\\lib\\site-packages (from neptune-client) (20.4)\n",
      "Requirement already satisfied: requests>=2.20.0 in c:\\users\\losdwind\\anaconda3\\envs\\pytorch\\lib\\site-packages (from neptune-client) (2.24.0)\n",
      "Requirement already satisfied: oauthlib>=2.1.0 in c:\\users\\losdwind\\anaconda3\\envs\\pytorch\\lib\\site-packages (from neptune-client) (3.1.0)\n",
      "Requirement already satisfied: requests-oauthlib>=1.0.0 in c:\\users\\losdwind\\anaconda3\\envs\\pytorch\\lib\\site-packages (from neptune-client) (1.3.0)\n",
      "Requirement already satisfied: pandas in c:\\users\\losdwind\\anaconda3\\envs\\pytorch\\lib\\site-packages (from neptune-client) (1.1.3)\n",
      "Requirement already satisfied: bravado in c:\\users\\losdwind\\anaconda3\\envs\\pytorch\\lib\\site-packages (from neptune-client) (11.0.3)\n",
      "Requirement already satisfied: click>=7.0 in c:\\users\\losdwind\\anaconda3\\envs\\pytorch\\lib\\site-packages (from neptune-client) (7.1.2)\n",
      "Requirement already satisfied: six>=1.12.0 in c:\\users\\losdwind\\anaconda3\\envs\\pytorch\\lib\\site-packages (from neptune-client) (1.15.0)\n",
      "Requirement already satisfied: gitdb<5,>=4.0.1 in c:\\users\\losdwind\\anaconda3\\envs\\pytorch\\lib\\site-packages (from GitPython>=2.0.8->neptune-client) (4.0.5)\n",
      "Requirement already satisfied: pyparsing>=2.0.2 in c:\\users\\losdwind\\anaconda3\\envs\\pytorch\\lib\\site-packages (from packaging->neptune-client) (2.4.7)\n",
      "Requirement already satisfied: certifi>=2017.4.17 in c:\\users\\losdwind\\anaconda3\\envs\\pytorch\\lib\\site-packages (from requests>=2.20.0->neptune-client) (2020.6.20)\n",
      "Requirement already satisfied: idna<3,>=2.5 in c:\\users\\losdwind\\anaconda3\\envs\\pytorch\\lib\\site-packages (from requests>=2.20.0->neptune-client) (2.10)\n",
      "Requirement already satisfied: chardet<4,>=3.0.2 in c:\\users\\losdwind\\anaconda3\\envs\\pytorch\\lib\\site-packages (from requests>=2.20.0->neptune-client) (3.0.4)\n",
      "Requirement already satisfied: urllib3!=1.25.0,!=1.25.1,<1.26,>=1.21.1 in c:\\users\\losdwind\\anaconda3\\envs\\pytorch\\lib\\site-packages (from requests>=2.20.0->neptune-client) (1.25.11)\n",
      "Requirement already satisfied: pytz>=2017.2 in c:\\users\\losdwind\\anaconda3\\envs\\pytorch\\lib\\site-packages (from pandas->neptune-client) (2020.1)\n",
      "Requirement already satisfied: numpy>=1.15.4 in c:\\users\\losdwind\\anaconda3\\envs\\pytorch\\lib\\site-packages (from pandas->neptune-client) (1.19.2)\n",
      "Requirement already satisfied: python-dateutil>=2.7.3 in c:\\users\\losdwind\\anaconda3\\envs\\pytorch\\lib\\site-packages (from pandas->neptune-client) (2.8.1)\n",
      "Requirement already satisfied: typing-extensions in c:\\users\\losdwind\\anaconda3\\envs\\pytorch\\lib\\site-packages (from bravado->neptune-client) (3.7.4.3)\n",
      "Requirement already satisfied: monotonic in c:\\users\\losdwind\\anaconda3\\envs\\pytorch\\lib\\site-packages (from bravado->neptune-client) (1.5)\n",
      "Requirement already satisfied: pyyaml in c:\\users\\losdwind\\anaconda3\\envs\\pytorch\\lib\\site-packages (from bravado->neptune-client) (5.3.1)\n",
      "Requirement already satisfied: simplejson in c:\\users\\losdwind\\anaconda3\\envs\\pytorch\\lib\\site-packages (from bravado->neptune-client) (3.17.2)\n",
      "Requirement already satisfied: msgpack in c:\\users\\losdwind\\anaconda3\\envs\\pytorch\\lib\\site-packages (from bravado->neptune-client) (1.0.0)\n",
      "Requirement already satisfied: bravado-core>=5.16.1 in c:\\users\\losdwind\\anaconda3\\envs\\pytorch\\lib\\site-packages (from bravado->neptune-client) (5.17.0)\n",
      "Requirement already satisfied: smmap<4,>=3.0.1 in c:\\users\\losdwind\\anaconda3\\envs\\pytorch\\lib\\site-packages (from gitdb<5,>=4.0.1->GitPython>=2.0.8->neptune-client) (3.0.5)\n",
      "Requirement already satisfied: jsonschema[format]>=2.5.1 in c:\\users\\losdwind\\anaconda3\\envs\\pytorch\\lib\\site-packages (from bravado-core>=5.16.1->bravado->neptune-client) (3.2.0)\n",
      "Requirement already satisfied: jsonref in c:\\users\\losdwind\\anaconda3\\envs\\pytorch\\lib\\site-packages (from bravado-core>=5.16.1->bravado->neptune-client) (0.2)\n",
      "Requirement already satisfied: swagger-spec-validator>=2.0.1 in c:\\users\\losdwind\\anaconda3\\envs\\pytorch\\lib\\site-packages (from bravado-core>=5.16.1->bravado->neptune-client) (2.7.3)\n",
      "Requirement already satisfied: pyrsistent>=0.14.0 in c:\\users\\losdwind\\anaconda3\\envs\\pytorch\\lib\\site-packages (from jsonschema[format]>=2.5.1->bravado-core>=5.16.1->bravado->neptune-client) (0.17.3)\n",
      "Requirement already satisfied: setuptools in c:\\users\\losdwind\\anaconda3\\envs\\pytorch\\lib\\site-packages (from jsonschema[format]>=2.5.1->bravado-core>=5.16.1->bravado->neptune-client) (50.3.1.post20201107)\n",
      "Requirement already satisfied: attrs>=17.4.0 in c:\\users\\losdwind\\anaconda3\\envs\\pytorch\\lib\\site-packages (from jsonschema[format]>=2.5.1->bravado-core>=5.16.1->bravado->neptune-client) (20.3.0)\n",
      "Requirement already satisfied: rfc3987; extra == \"format\" in c:\\users\\losdwind\\anaconda3\\envs\\pytorch\\lib\\site-packages (from jsonschema[format]>=2.5.1->bravado-core>=5.16.1->bravado->neptune-client) (1.3.8)\n",
      "Requirement already satisfied: webcolors; extra == \"format\" in c:\\users\\losdwind\\anaconda3\\envs\\pytorch\\lib\\site-packages (from jsonschema[format]>=2.5.1->bravado-core>=5.16.1->bravado->neptune-client) (1.11.1)\n",
      "Requirement already satisfied: strict-rfc3339; extra == \"format\" in c:\\users\\losdwind\\anaconda3\\envs\\pytorch\\lib\\site-packages (from jsonschema[format]>=2.5.1->bravado-core>=5.16.1->bravado->neptune-client) (0.7)\n",
      "Requirement already satisfied: jsonpointer>1.13; extra == \"format\" in c:\\users\\losdwind\\anaconda3\\envs\\pytorch\\lib\\site-packages (from jsonschema[format]>=2.5.1->bravado-core>=5.16.1->bravado->neptune-client) (2.0)\n"
     ]
    },
    {
     "data": {
      "text/plain": [
       "Project(losdwind/s182190)"
      ]
     },
     "execution_count": 149,
     "metadata": {},
     "output_type": "execute_result"
    }
   ],
   "source": [
    "# Setup Neptune\r",
    "#\n",
    "!pip install neptune-client\r\n",
    "import neptune\r\n",
    "neptune.init(project_qualified_name = 'losdwind/s182190',\r\n",
    "             api_token = api_token)\r\n"
   ]
  },
  {
   "cell_type": "code",
   "execution_count": 150,
   "metadata": {
    "colab": {
     "base_uri": "https://localhost:8080/"
    },
    "executionInfo": {
     "elapsed": 13012,
     "status": "ok",
     "timestamp": 1614415286057,
     "user": {
      "displayName": "wind losd",
      "photoUrl": "https://lh3.googleusercontent.com/a-/AOh14Gjv1UwF6iyYsR8HrUTU_EeQVVPzfG82wFATtXqtZSU=s64",
      "userId": "05841662885873618484"
     },
     "user_tz": -480
    },
    "id": "HG_C_4RZRVmF",
    "outputId": "6a7aa1a6-fc82-40f3-99fa-d8e6161a5d64"
   },
   "outputs": [
    {
     "name": "stdout",
     "output_type": "stream",
     "text": [
      "Requirement already satisfied: scikit-plot in c:\\users\\losdwind\\anaconda3\\envs\\pytorch\\lib\\site-packages (0.3.7)\n",
      "Requirement already satisfied: matplotlib>=1.4.0 in c:\\users\\losdwind\\anaconda3\\envs\\pytorch\\lib\\site-packages (from scikit-plot) (3.3.2)\n",
      "Requirement already satisfied: scipy>=0.9 in c:\\users\\losdwind\\anaconda3\\envs\\pytorch\\lib\\site-packages (from scikit-plot) (1.5.2)\n",
      "Requirement already satisfied: scikit-learn>=0.18 in c:\\users\\losdwind\\anaconda3\\envs\\pytorch\\lib\\site-packages (from scikit-plot) (0.23.2)\n",
      "Requirement already satisfied: joblib>=0.10 in c:\\users\\losdwind\\anaconda3\\envs\\pytorch\\lib\\site-packages (from scikit-plot) (0.17.0)\n",
      "Requirement already satisfied: pillow>=6.2.0 in c:\\users\\losdwind\\anaconda3\\envs\\pytorch\\lib\\site-packages (from matplotlib>=1.4.0->scikit-plot) (8.0.1)\n",
      "Requirement already satisfied: cycler>=0.10 in c:\\users\\losdwind\\anaconda3\\envs\\pytorch\\lib\\site-packages (from matplotlib>=1.4.0->scikit-plot) (0.10.0)\n",
      "Requirement already satisfied: numpy>=1.15 in c:\\users\\losdwind\\anaconda3\\envs\\pytorch\\lib\\site-packages (from matplotlib>=1.4.0->scikit-plot) (1.19.2)\n",
      "Requirement already satisfied: kiwisolver>=1.0.1 in c:\\users\\losdwind\\anaconda3\\envs\\pytorch\\lib\\site-packages (from matplotlib>=1.4.0->scikit-plot) (1.3.0)\n",
      "Requirement already satisfied: pyparsing!=2.0.4,!=2.1.2,!=2.1.6,>=2.0.3 in c:\\users\\losdwind\\anaconda3\\envs\\pytorch\\lib\\site-packages (from matplotlib>=1.4.0->scikit-plot) (2.4.7)\n",
      "Requirement already satisfied: certifi>=2020.06.20 in c:\\users\\losdwind\\anaconda3\\envs\\pytorch\\lib\\site-packages (from matplotlib>=1.4.0->scikit-plot) (2020.6.20)\n",
      "Requirement already satisfied: python-dateutil>=2.1 in c:\\users\\losdwind\\anaconda3\\envs\\pytorch\\lib\\site-packages (from matplotlib>=1.4.0->scikit-plot) (2.8.1)\n",
      "Requirement already satisfied: threadpoolctl>=2.0.0 in c:\\users\\losdwind\\anaconda3\\envs\\pytorch\\lib\\site-packages (from scikit-learn>=0.18->scikit-plot) (2.1.0)\n",
      "Requirement already satisfied: six in c:\\users\\losdwind\\anaconda3\\envs\\pytorch\\lib\\site-packages (from cycler>=0.10->matplotlib>=1.4.0->scikit-plot) (1.15.0)\n",
      "Requirement already satisfied: neptune-contrib in c:\\users\\losdwind\\anaconda3\\envs\\pytorch\\lib\\site-packages (0.25.0)\n",
      "Requirement already satisfied: pandas in c:\\users\\losdwind\\anaconda3\\envs\\pytorch\\lib\\site-packages (from neptune-contrib) (1.1.3)\n",
      "Requirement already satisfied: neptune-client>=0.4.126 in c:\\users\\losdwind\\anaconda3\\envs\\pytorch\\lib\\site-packages (from neptune-contrib) (0.4.132)\n",
      "Requirement already satisfied: matplotlib in c:\\users\\losdwind\\anaconda3\\envs\\pytorch\\lib\\site-packages (from neptune-contrib) (3.3.2)\n",
      "Requirement already satisfied: Pillow>=6.2.0 in c:\\users\\losdwind\\anaconda3\\envs\\pytorch\\lib\\site-packages (from neptune-contrib) (8.0.1)\n",
      "Requirement already satisfied: joblib>=0.13 in c:\\users\\losdwind\\anaconda3\\envs\\pytorch\\lib\\site-packages (from neptune-contrib) (0.17.0)\n",
      "Requirement already satisfied: attrdict>=2.0.0 in c:\\users\\losdwind\\anaconda3\\envs\\pytorch\\lib\\site-packages (from neptune-contrib) (2.0.1)\n",
      "Requirement already satisfied: python-dateutil>=2.7.3 in c:\\users\\losdwind\\anaconda3\\envs\\pytorch\\lib\\site-packages (from pandas->neptune-contrib) (2.8.1)\n",
      "Requirement already satisfied: pytz>=2017.2 in c:\\users\\losdwind\\anaconda3\\envs\\pytorch\\lib\\site-packages (from pandas->neptune-contrib) (2020.1)\n",
      "Requirement already satisfied: numpy>=1.15.4 in c:\\users\\losdwind\\anaconda3\\envs\\pytorch\\lib\\site-packages (from pandas->neptune-contrib) (1.19.2)\n",
      "Requirement already satisfied: websocket-client>=0.35.0 in c:\\users\\losdwind\\anaconda3\\envs\\pytorch\\lib\\site-packages (from neptune-client>=0.4.126->neptune-contrib) (0.58.0)\n",
      "Requirement already satisfied: packaging in c:\\users\\losdwind\\anaconda3\\envs\\pytorch\\lib\\site-packages (from neptune-client>=0.4.126->neptune-contrib) (20.4)\n",
      "Requirement already satisfied: future>=0.17.1 in c:\\users\\losdwind\\anaconda3\\envs\\pytorch\\lib\\site-packages (from neptune-client>=0.4.126->neptune-contrib) (0.18.2)\n",
      "Requirement already satisfied: requests-oauthlib>=1.0.0 in c:\\users\\losdwind\\anaconda3\\envs\\pytorch\\lib\\site-packages (from neptune-client>=0.4.126->neptune-contrib) (1.3.0)\n",
      "Requirement already satisfied: oauthlib>=2.1.0 in c:\\users\\losdwind\\anaconda3\\envs\\pytorch\\lib\\site-packages (from neptune-client>=0.4.126->neptune-contrib) (3.1.0)\n",
      "Requirement already satisfied: requests>=2.20.0 in c:\\users\\losdwind\\anaconda3\\envs\\pytorch\\lib\\site-packages (from neptune-client>=0.4.126->neptune-contrib) (2.24.0)\n",
      "Requirement already satisfied: PyJWT in c:\\users\\losdwind\\anaconda3\\envs\\pytorch\\lib\\site-packages (from neptune-client>=0.4.126->neptune-contrib) (2.0.1)\n",
      "Requirement already satisfied: six>=1.12.0 in c:\\users\\losdwind\\anaconda3\\envs\\pytorch\\lib\\site-packages (from neptune-client>=0.4.126->neptune-contrib) (1.15.0)\n",
      "Requirement already satisfied: click>=7.0 in c:\\users\\losdwind\\anaconda3\\envs\\pytorch\\lib\\site-packages (from neptune-client>=0.4.126->neptune-contrib) (7.1.2)\n",
      "Requirement already satisfied: GitPython>=2.0.8 in c:\\users\\losdwind\\anaconda3\\envs\\pytorch\\lib\\site-packages (from neptune-client>=0.4.126->neptune-contrib) (3.1.14)\n",
      "Requirement already satisfied: bravado in c:\\users\\losdwind\\anaconda3\\envs\\pytorch\\lib\\site-packages (from neptune-client>=0.4.126->neptune-contrib) (11.0.3)\n",
      "Requirement already satisfied: certifi>=2020.06.20 in c:\\users\\losdwind\\anaconda3\\envs\\pytorch\\lib\\site-packages (from matplotlib->neptune-contrib) (2020.6.20)\n",
      "Requirement already satisfied: cycler>=0.10 in c:\\users\\losdwind\\anaconda3\\envs\\pytorch\\lib\\site-packages (from matplotlib->neptune-contrib) (0.10.0)\n",
      "Requirement already satisfied: kiwisolver>=1.0.1 in c:\\users\\losdwind\\anaconda3\\envs\\pytorch\\lib\\site-packages (from matplotlib->neptune-contrib) (1.3.0)\n",
      "Requirement already satisfied: pyparsing!=2.0.4,!=2.1.2,!=2.1.6,>=2.0.3 in c:\\users\\losdwind\\anaconda3\\envs\\pytorch\\lib\\site-packages (from matplotlib->neptune-contrib) (2.4.7)\n",
      "Requirement already satisfied: idna<3,>=2.5 in c:\\users\\losdwind\\anaconda3\\envs\\pytorch\\lib\\site-packages (from requests>=2.20.0->neptune-client>=0.4.126->neptune-contrib) (2.10)\n",
      "Requirement already satisfied: urllib3!=1.25.0,!=1.25.1,<1.26,>=1.21.1 in c:\\users\\losdwind\\anaconda3\\envs\\pytorch\\lib\\site-packages (from requests>=2.20.0->neptune-client>=0.4.126->neptune-contrib) (1.25.11)\n",
      "Requirement already satisfied: chardet<4,>=3.0.2 in c:\\users\\losdwind\\anaconda3\\envs\\pytorch\\lib\\site-packages (from requests>=2.20.0->neptune-client>=0.4.126->neptune-contrib) (3.0.4)\n",
      "Requirement already satisfied: gitdb<5,>=4.0.1 in c:\\users\\losdwind\\anaconda3\\envs\\pytorch\\lib\\site-packages (from GitPython>=2.0.8->neptune-client>=0.4.126->neptune-contrib) (4.0.5)\n",
      "Requirement already satisfied: pyyaml in c:\\users\\losdwind\\anaconda3\\envs\\pytorch\\lib\\site-packages (from bravado->neptune-client>=0.4.126->neptune-contrib) (5.3.1)\n",
      "Requirement already satisfied: msgpack in c:\\users\\losdwind\\anaconda3\\envs\\pytorch\\lib\\site-packages (from bravado->neptune-client>=0.4.126->neptune-contrib) (1.0.0)\n",
      "Requirement already satisfied: simplejson in c:\\users\\losdwind\\anaconda3\\envs\\pytorch\\lib\\site-packages (from bravado->neptune-client>=0.4.126->neptune-contrib) (3.17.2)\n",
      "Requirement already satisfied: typing-extensions in c:\\users\\losdwind\\anaconda3\\envs\\pytorch\\lib\\site-packages (from bravado->neptune-client>=0.4.126->neptune-contrib) (3.7.4.3)\n",
      "Requirement already satisfied: monotonic in c:\\users\\losdwind\\anaconda3\\envs\\pytorch\\lib\\site-packages (from bravado->neptune-client>=0.4.126->neptune-contrib) (1.5)\n",
      "Requirement already satisfied: bravado-core>=5.16.1 in c:\\users\\losdwind\\anaconda3\\envs\\pytorch\\lib\\site-packages (from bravado->neptune-client>=0.4.126->neptune-contrib) (5.17.0)\n",
      "Requirement already satisfied: smmap<4,>=3.0.1 in c:\\users\\losdwind\\anaconda3\\envs\\pytorch\\lib\\site-packages (from gitdb<5,>=4.0.1->GitPython>=2.0.8->neptune-client>=0.4.126->neptune-contrib) (3.0.5)\n",
      "Requirement already satisfied: jsonref in c:\\users\\losdwind\\anaconda3\\envs\\pytorch\\lib\\site-packages (from bravado-core>=5.16.1->bravado->neptune-client>=0.4.126->neptune-contrib) (0.2)\n",
      "Requirement already satisfied: swagger-spec-validator>=2.0.1 in c:\\users\\losdwind\\anaconda3\\envs\\pytorch\\lib\\site-packages (from bravado-core>=5.16.1->bravado->neptune-client>=0.4.126->neptune-contrib) (2.7.3)\n",
      "Requirement already satisfied: jsonschema[format]>=2.5.1 in c:\\users\\losdwind\\anaconda3\\envs\\pytorch\\lib\\site-packages (from bravado-core>=5.16.1->bravado->neptune-client>=0.4.126->neptune-contrib) (3.2.0)\n",
      "Requirement already satisfied: setuptools in c:\\users\\losdwind\\anaconda3\\envs\\pytorch\\lib\\site-packages (from jsonschema[format]>=2.5.1->bravado-core>=5.16.1->bravado->neptune-client>=0.4.126->neptune-contrib) (50.3.1.post20201107)\n",
      "Requirement already satisfied: attrs>=17.4.0 in c:\\users\\losdwind\\anaconda3\\envs\\pytorch\\lib\\site-packages (from jsonschema[format]>=2.5.1->bravado-core>=5.16.1->bravado->neptune-client>=0.4.126->neptune-contrib) (20.3.0)\n",
      "Requirement already satisfied: pyrsistent>=0.14.0 in c:\\users\\losdwind\\anaconda3\\envs\\pytorch\\lib\\site-packages (from jsonschema[format]>=2.5.1->bravado-core>=5.16.1->bravado->neptune-client>=0.4.126->neptune-contrib) (0.17.3)\n",
      "Requirement already satisfied: jsonpointer>1.13; extra == \"format\" in c:\\users\\losdwind\\anaconda3\\envs\\pytorch\\lib\\site-packages (from jsonschema[format]>=2.5.1->bravado-core>=5.16.1->bravado->neptune-client>=0.4.126->neptune-contrib) (2.0)\n",
      "Requirement already satisfied: rfc3987; extra == \"format\" in c:\\users\\losdwind\\anaconda3\\envs\\pytorch\\lib\\site-packages (from jsonschema[format]>=2.5.1->bravado-core>=5.16.1->bravado->neptune-client>=0.4.126->neptune-contrib) (1.3.8)\n",
      "Requirement already satisfied: webcolors; extra == \"format\" in c:\\users\\losdwind\\anaconda3\\envs\\pytorch\\lib\\site-packages (from jsonschema[format]>=2.5.1->bravado-core>=5.16.1->bravado->neptune-client>=0.4.126->neptune-contrib) (1.11.1)\n",
      "Requirement already satisfied: strict-rfc3339; extra == \"format\" in c:\\users\\losdwind\\anaconda3\\envs\\pytorch\\lib\\site-packages (from jsonschema[format]>=2.5.1->bravado-core>=5.16.1->bravado->neptune-client>=0.4.126->neptune-contrib) (0.7)\n"
     ]
    }
   ],
   "source": [
    "# use SWAG\r\n",
    "#!pip install torchcontrib\r\n",
    "#from torchcontrib.optim import SWA     # use SWA#G\r\n",
    "! pip install scikit-plot\r\n",
    "import matplotlib.pyplot as plt\r\n",
    "import scikitplot as skplt\r\n",
    "import sklearn\r\n",
    "import hashlib\r\n",
    "\r\n",
    "# Import l#og_table\r\n",
    "! pip install neptune-contrib\r\n",
    "from neptunecontrib.api.table import log_table"
   ]
  },
  {
   "cell_type": "code",
   "execution_count": 151,
   "metadata": {
    "executionInfo": {
     "elapsed": 13012,
     "status": "ok",
     "timestamp": 1614415286059,
     "user": {
      "displayName": "wind losd",
      "photoUrl": "https://lh3.googleusercontent.com/a-/AOh14Gjv1UwF6iyYsR8HrUTU_EeQVVPzfG82wFATtXqtZSU=s64",
      "userId": "05841662885873618484"
     },
     "user_tz": -480
    },
    "id": "oHn3Hn1xBDaS"
   },
   "outputs": [],
   "source": [
    "def plot_roc(y_true, y_probas, title='ROC Curves',\r\n",
    "                   plot_micro=True, plot_macro=True, classes_to_plot=None,\r\n",
    "                   ax=None, figsize=None, cmap='nipy_spectral',\r\n",
    "                   title_fontsize=\"large\", text_fontsize=\"medium\"):\r\n",
    "    \"\"\"Generates the ROC curves from labels and predicted scores/probabilities\r\n",
    "    Args:\r\n",
    "        y_true (array-like, shape (n_samples)):\r\n",
    "            Ground truth (correct) target values.\r\n",
    "        y_probas (array-like, shape (n_samples, n_classes)):\r\n",
    "            Prediction probabilities for each class returned by a classifier.\r\n",
    "        title (string, optional): Title of the generated plot. Defaults to\r\n",
    "            \"ROC Curves\".\r\n",
    "        plot_micro (boolean, optional): Plot the micro average ROC curve.\r\n",
    "            Defaults to ``True``.\r\n",
    "        plot_macro (boolean, optional): Plot the macro average ROC curve.\r\n",
    "            Defaults to ``True``.\r\n",
    "        classes_to_plot (list-like, optional): Classes for which the ROC\r\n",
    "            curve should be plotted. e.g. [0, 'cold']. If given class does not exist,\r\n",
    "            it will be ignored. If ``None``, all classes will be plotted. Defaults to\r\n",
    "            ``None``\r\n",
    "        ax (:class:`matplotlib.axes.Axes`, optional): The axes upon which to\r\n",
    "            plot the curve. If None, the plot is drawn on a new set of axes.\r\n",
    "        figsize (2-tuple, optional): Tuple denoting figure size of the plot\r\n",
    "            e.g. (6, 6). Defaults to ``None``.\r\n",
    "        cmap (string or :class:`matplotlib.colors.Colormap` instance, optional):\r\n",
    "            Colormap used for plotting the projection. View Matplotlib Colormap\r\n",
    "            documentation for available options.\r\n",
    "            https://matplotlib.org/users/colormaps.html\r\n",
    "        title_fontsize (string or int, optional): Matplotlib-style fontsizes.\r\n",
    "            Use e.g. \"small\", \"medium\", \"large\" or integer-values. Defaults to\r\n",
    "            \"large\".\r\n",
    "        text_fontsize (string or int, optional): Matplotlib-style fontsizes.\r\n",
    "            Use e.g. \"small\", \"medium\", \"large\" or integer-values. Defaults to\r\n",
    "            \"medium\".\r\n",
    "    Returns:\r\n",
    "        ax (:class:`matplotlib.axes.Axes`): The axes on which the plot was\r\n",
    "            drawn.\r\n",
    "    Example:\r\n",
    "        >>> import scikitplot as skplt\r\n",
    "        >>> nb = GaussianNB()\r\n",
    "        >>> nb = nb.fit(X_train, y_train)\r\n",
    "        >>> y_probas = nb.predict_proba(X_test)\r\n",
    "        >>> skplt.metrics.plot_roc(y_test, y_probas)\r\n",
    "        <matplotlib.axes._subplots.AxesSubplot object at 0x7fe967d64490>\r\n",
    "        >>> plt.show()\r\n",
    "        .. image:: _static/examples/plot_roc_curve.png\r\n",
    "           :align: center\r\n",
    "           :alt: ROC Curves\r\n",
    "    \"\"\"\r\n",
    "    y_true = np.array(y_true)\r\n",
    "    y_probas = np.array(y_probas)\r\n",
    "\r\n",
    "    classes = range(6)\r\n",
    "    probas = y_probas\r\n",
    "\r\n",
    "    if classes_to_plot is None:\r\n",
    "        classes_to_plot = classes\r\n",
    "\r\n",
    "    if ax is None:\r\n",
    "        fig, ax = plt.subplots(1, 1, figsize=figsize)\r\n",
    "\r\n",
    "    ax.set_title(title, fontsize=title_fontsize)\r\n",
    "\r\n",
    "    fpr_dict = dict()\r\n",
    "    tpr_dict = dict()\r\n",
    "\r\n",
    "    indices_to_plot = np.in1d(classes, classes_to_plot)\r\n",
    "    for i in classes:\r\n",
    "        fpr_dict[i], tpr_dict[i], _ = roc_curve(y_true, probas[:, i],\r\n",
    "                                                pos_label= classes[i])\r\n",
    "        if True:\r\n",
    "            roc_auc = auc(fpr_dict[i], tpr_dict[i])\r\n",
    "            color = plt.cm.get_cmap(cmap)(float(i) / len(classes))\r\n",
    "            ax.plot(fpr_dict[i], tpr_dict[i], lw=2, color=color,\r\n",
    "                    label='ROC curve of class {0} (area = {1:0.2f})'\r\n",
    "                          ''.format(classes[i], roc_auc))\r\n",
    "\r\n",
    "    if plot_micro:\r\n",
    "        binarized_y_true = label_binarize(y_true, classes=classes)\r\n",
    "        if len(classes) == 2:\r\n",
    "            binarized_y_true = np.hstack(\r\n",
    "                (1 - binarized_y_true, binarized_y_true))\r\n",
    "        fpr, tpr, _ = roc_curve(binarized_y_true.ravel(), probas.ravel())\r\n",
    "        roc_auc = auc(fpr, tpr)\r\n",
    "        ax.plot(fpr, tpr,\r\n",
    "                label='micro-average ROC curve '\r\n",
    "                      '(area = {0:0.2f})'.format(roc_auc),\r\n",
    "                color='deeppink', linestyle=':', linewidth=4)\r\n",
    "\r\n",
    "    if plot_macro:\r\n",
    "        # Compute macro-average ROC curve and ROC area\r\n",
    "        # First aggregate all false positive rates\r\n",
    "        all_fpr = np.unique(np.concatenate([fpr_dict[x] for x in range(len(classes))]))\r\n",
    "\r\n",
    "        # Then interpolate all ROC curves at this points\r\n",
    "        mean_tpr = np.zeros_like(all_fpr)\r\n",
    "        for i in range(len(classes)):\r\n",
    "            mean_tpr += interp(all_fpr, fpr_dict[i], tpr_dict[i])\r\n",
    "\r\n",
    "        # Finally average it and compute AUC\r\n",
    "        mean_tpr /= len(classes)\r\n",
    "        roc_auc = auc(all_fpr, mean_tpr)\r\n",
    "\r\n",
    "        ax.plot(all_fpr, mean_tpr,\r\n",
    "                label='macro-average ROC curve '\r\n",
    "                      '(area = {0:0.2f})'.format(roc_auc),\r\n",
    "                color='navy', linestyle=':', linewidth=4)\r\n",
    "\r\n",
    "    ax.plot([0, 1], [0, 1], 'k--', lw=2)\r\n",
    "    ax.set_xlim([0.0, 1.0])\r\n",
    "    ax.set_ylim([0.0, 1.05])\r\n",
    "    ax.set_xlabel('False Positive Rate', fontsize=text_fontsize)\r\n",
    "    ax.set_ylabel('True Positive Rate', fontsize=text_fontsize)\r\n",
    "    ax.tick_params(labelsize=text_fontsize)\r\n",
    "    ax.legend(loc='lower right', fontsize=text_fontsize)\r\n",
    "\r\n",
    "    return ax"
   ]
  },
  {
   "cell_type": "code",
   "execution_count": 152,
   "metadata": {
    "executionInfo": {
     "elapsed": 13010,
     "status": "ok",
     "timestamp": 1614415286059,
     "user": {
      "displayName": "wind losd",
      "photoUrl": "https://lh3.googleusercontent.com/a-/AOh14Gjv1UwF6iyYsR8HrUTU_EeQVVPzfG82wFATtXqtZSU=s64",
      "userId": "05841662885873618484"
     },
     "user_tz": -480
    },
    "id": "50ElIsuGF9n6"
   },
   "outputs": [],
   "source": [
    "def CM_ROC_AUC(y_true, y_predict, y_score):\r\n",
    "    pass"
   ]
  },
  {
   "cell_type": "code",
   "execution_count": 153,
   "metadata": {
    "executionInfo": {
     "elapsed": 13515,
     "status": "ok",
     "timestamp": 1614415286566,
     "user": {
      "displayName": "wind losd",
      "photoUrl": "https://lh3.googleusercontent.com/a-/AOh14Gjv1UwF6iyYsR8HrUTU_EeQVVPzfG82wFATtXqtZSU=s64",
      "userId": "05841662885873618484"
     },
     "user_tz": -480
    },
    "id": "Z4YR0DA2sK0K"
   },
   "outputs": [],
   "source": [
    "def main(train_dataset, val_dataset, test_dataset, PARAMS):\n",
    "\n",
    "    epochs = PARAMS['epochs']\n",
    "    batch_size = PARAMS['batch_size']\n",
    "\n",
    "    train_loader = torch.utils.data.DataLoader(train_dataset, batch_size=batch_size, shuffle=True)\n",
    "    val_loader = torch.utils.data.DataLoader(val_dataset, batch_size= batch_size, shuffle=True)\n",
    "    test_loader = torch.utils.data.DataLoader(test_dataset, batch_size= len(test_dataset), shuffle=True)\n",
    "\n",
    "    model = Net_CNN_RNN_GIS_Multi_Purpose().double().to(device) #\n",
    "    model.apply(init_weights)\n",
    "    # base_opt = optim.Adam(model.parameters(), lr= PARAMS['lr'] , weight_decay= PARAMS['weight_decay'])  # infinite weight for class with \n",
    "    # optimizer = SWA(base_opt, swa_start=10, swa_freq=5, swa_lr=0.005)\n",
    "    if PARAMS['Adam'] == True:\n",
    "        optimizer = optim.Adam(model.parameters(), lr = 0.01, betas = (0.9, 0.999), eps=1e-7, weight_decay=0)\n",
    "    else:\n",
    "        optimizer = optim.SGD(model.parameters(), lr =PARAMS['lr'], momentum = PARAMS['momentum'])\n",
    "\n",
    "\n",
    "    # log params\n",
    "    neptune.create_experiment(name = 'MMM_Model_Geolife', description = \"MMM multi-label model working on the Geolife dataset \" , params=PARAMS, tags = ['MMM_Model','Advanced' 'Geolife'])\n",
    "    \n",
    "    train_dataset.labelM = train_dataset.label\n",
    "    val_dataset.labelM = val_dataset.label\n",
    "    test_dataset.labelM = val_dataset.label\n",
    "\n",
    "    train_classesM, train_countM = np.unique(train_dataset.labelM, return_counts=True)\n",
    "\n",
    "    val_classesM, val_countM = np.unique(val_dataset.labelM, return_counts=True)\n",
    "\n",
    "    test_classesM, test_countM = np.unique(test_dataset.labelM, return_counts=True)\n",
    "\n",
    "\n",
    "    neptune.log_text(\"users\", f'Train Set Users: {np.unique(train_dataset.user_id)}')\n",
    "    neptune.log_text(\"users\", f'Val Set Users: {np.unique(val_dataset.user_id)}')\n",
    "    neptune.log_text(\"users\", f'Test Set Users: {np.unique(test_dataset.user_id)}')\n",
    "    neptune.log_text(\"classes and counts\", f'train_classes and counts for mode: {train_classesM} \\n {train_countM}')\n",
    "\n",
    "    neptune.log_text(\"classes and counts\", f'val_classes and counts for mode: {val_classesM} \\n {val_countM}')\n",
    "\n",
    "    neptune.log_text(\"classes and counts\", f'test_classes and counts for mode: {test_classesM} \\n {test_countM}')\n",
    "\n",
    "\n",
    "\n",
    "    for epoch in range(1, epochs + 1):\n",
    "        \n",
    "        train_loss = 0\n",
    "\n",
    "        train_targsM = []\n",
    "\n",
    "\n",
    "        train_predsM = []\n",
    "\n",
    "        train_preds_probaM = []\n",
    "\n",
    "        model.train() # 必备，将模型设置为训练模式\n",
    "        for batch_idx, (X_seq, X_tod, targetM) in enumerate(train_loader): # 从数据加载器迭代一个batch的数据\n",
    "            X_seq, X_tod,targetM = X_seq.double().to(device), X_tod.double().to(device),targetM.long().to(device) # 将数据存储CPU或者GPU\n",
    "            optimizer.zero_grad() # 清除所有优化的梯度\n",
    "            output = model(X_seq, X_tod).double()  # 喂入数据并前向传播获取输出\n",
    "            criterion1 = nn.CrossEntropyLoss(weight = weightLabelM.to(device)) # This criterion combines nn.LogSoftmax() and nn.NLLLoss() in one single class.\n",
    "            \n",
    "            ## more experiments to do, weights across mode/purpose\n",
    "            ## track the loss and find the influence of different modes/purpose on the total loss\n",
    "            loss = criterion1(output, targetM) # 调用损失函数计算损失\n",
    "            loss.backward() # 反向传播\n",
    "\n",
    "\n",
    "            torch.nn.utils.clip_grad_norm_(model.parameters(), PARAMS['clipping'])\n",
    "            optimizer.step() # 更新参数\n",
    "            \n",
    "            train_loss += loss * batch_size  # sum the batch loss  \n",
    "            predsM = torch.max(output, 1)[1].cpu()\n",
    "\n",
    "\n",
    "            \n",
    "            train_targsM += targetM.tolist()\n",
    "            train_predsM += predsM.tolist()\n",
    "\n",
    "\n",
    "            if epoch == epochs:\n",
    "                # save status\n",
    "                train_preds_probaM += output.tolist()\n",
    "\n",
    "        \n",
    "        \n",
    "        train_accM = accuracy_score(train_targsM, train_predsM)\n",
    "\n",
    "        \n",
    "        # log the train loss\n",
    "        neptune.log_metric('train_loss', x = epoch, y = train_loss/len(train_loader))\n",
    "        # log the train accuracy\n",
    "        neptune.log_metric('train_accM', x = epoch, y = train_accM)\n",
    "\n",
    "\n",
    "        # 必备，将模型设置为评估模式\n",
    "        model.eval() \n",
    "        val_loss = 0\n",
    "        val_targsM = []\n",
    " \n",
    "\n",
    "        val_predsM = []\n",
    "\n",
    "        val_preds_probaM = []\n",
    "\n",
    "\n",
    "        with torch.no_grad(): # 禁用梯度计算\n",
    "            for batch_idx, (X_seq, X_tod, targetM) in enumerate(val_loader): # 从数据加载器迭代一个batch的数据\n",
    "                X_seq, X_tod, targetM = X_seq.double().to(device), X_tod.double().to(device),targetM.long().to(device)  # 将数据存储CPU或者GPU\n",
    "                output = model(X_seq, X_tod).double()  # 喂入数据并前向传播获取输出\n",
    "                # put weight here???\n",
    "                criterion1 = nn.CrossEntropyLoss(weight = weightLabelM.to(device))\n",
    "                loss = criterion1(output, targetM) # 调用损失函数计算损失\n",
    "                val_loss += loss * batch_size  # sum the batch loss   \n",
    "                predsM = torch.max(output, 1)[1].cpu()\n",
    "\n",
    "\n",
    "\n",
    "                val_targsM += targetM.tolist()\n",
    "                val_predsM += predsM.tolist()\n",
    "\n",
    "\n",
    "                if epoch == epochs:\n",
    "                    # save status\n",
    "                    val_preds_probaM += output.tolist()\n",
    "\n",
    "            val_accM = accuracy_score(val_targsM, val_predsM)\n",
    "\n",
    "            \n",
    "\n",
    "        # log the val loss\n",
    "        neptune.log_metric('val_loss', x = epoch, y = val_loss/len(val_loader))\n",
    "        # log the val accuracy\n",
    "        neptune.log_metric('val_accM', x = epoch, y = val_accM)\n",
    "\n",
    "        neptune.log_text('process', f'epoch: {epoch}, train_loss: {train_loss}, train_accM: {train_accM}, val_loss: {val_loss}, val_accM: {val_accM}')\n",
    "        \n",
    "        if epoch == epochs:\n",
    "            \n",
    "            # 1\n",
    "            CM_train_M = skplt.metrics.plot_confusion_matrix(train_targsM, train_predsM, normalize=True,x_tick_rotation=45, title='Confusion Matrix of Mode Detection on Train set')\n",
    "            CM_train_M.set_xticklabels(mode_names)\n",
    "            CM_train_M.set_yticklabels(mode_names)\n",
    "            CM_train_M = CM_train_M.get_figure()\n",
    "\n",
    "\n",
    "\n",
    "            # 3\n",
    "            CM_val_M = skplt.metrics.plot_confusion_matrix(val_targsM, val_predsM, normalize=True,x_tick_rotation=45, title='Confusion Matrix of Mode Detection on Validation set')\n",
    "            CM_val_M.set_xticklabels(mode_names)\n",
    "            CM_val_M.set_yticklabels(mode_names)\n",
    "            CM_val_M = CM_val_M.get_figure()\n",
    "\n",
    "\n",
    "            CL_train_M = pd.DataFrame(classification_report(train_targsM, train_predsM, labels = [0,1,2,3,4,100], target_names = mode_names, output_dict= True)).transpose()\n",
    "            CL_val_M = pd.DataFrame(classification_report(val_targsM, val_predsM, labels = [0,1,2,3,4,100], target_names = mode_names, output_dict=True)).transpose()\n",
    "\n",
    "\n",
    "            # Log ROC Curve\n",
    "\n",
    "            # 1\n",
    "            fig1, ax1 = plt.subplots()\n",
    "            plot_roc(train_targsM, train_preds_probaM,title=\"ROC_AUC Curve of Mode detection on Train Set\", ax=ax1, figsize=(16, 12))\n",
    "            neptune.log_image('training', fig1)\n",
    "\n",
    "\n",
    "            # 3\n",
    "            fig3, ax3 = plt.subplots()\n",
    "            print(np.array(val_targsM).shape, np.array(val_preds_probaM).shape)\n",
    "            plot_roc(val_targsM, val_preds_probaM, title=\"ROC_AUC Curve of Mode detection on Validation Set\", ax=ax3, figsize=(16, 12))\n",
    "            neptune.log_image('validation', fig3)\n",
    "\n",
    "\n",
    "            \n",
    "            # Log confusion matrix to experiment\n",
    "            neptune.log_image('training', CM_train_M)            \n",
    "\n",
    "            neptune.log_image('validation', CM_val_M)\n",
    "\n",
    "\n",
    "\n",
    "            # log classification report to experiment\n",
    "            log_table('training - classification_report - mode detection', CL_train_M)\n",
    "\n",
    "            log_table('validation - classification_report - mode detection', CL_val_M)\n",
    "\n",
    "\n",
    "\n",
    "\n",
    "    ### Evaluate test set\n",
    "\n",
    "    for X_seq, X_tod, targetM in test_loader:\n",
    "        output = model(X_seq.double().to(device), X_tod.double().to(device))\n",
    "        predsM = torch.max(output, 1)[1].cpu()\n",
    "\n",
    "\n",
    "\n",
    "\n",
    "    cl_report_2 = pd.DataFrame(classification_report(targetM, predsM, labels = [0,1,2,3,4,100], target_names = mode_names, output_dict=True)).transpose()         # output_dict= True\n",
    "    log_table('testing -  classificaiton report - mode detection', cl_report_2)\n",
    "\n",
    "\n",
    "    \n",
    "    CM_test_M = skplt.metrics.plot_confusion_matrix(targetM, predsM, normalize=True, x_tick_rotation=45, title='Confusion Matrix of Mode Detection on Test set')\n",
    "    CM_test_M.set_xticklabels(mode_names)\n",
    "    CM_test_M.set_yticklabels(mode_names)\n",
    "    CM_test_M = CM_test_M.get_figure()\n",
    "\n",
    "\n",
    "\n",
    "    neptune.log_image('testing', CM_test_M)\n",
    "\n",
    "\n",
    "    fig5, ax5 = plt.subplots()\n",
    "    plot_roc(targetM, output.tolist() , title=\"ROC_AUC Curve of Mode Detection on Test Set\", ax=ax5, figsize=(16, 12))\n",
    "    neptune.log_image('testing', fig5)\n",
    "\n",
    "\n",
    "\n",
    "    test_accM = accuracy_score(targetM, predsM)\n",
    "\n",
    "\n",
    "    neptune.log_text(\"accuracy score of the test set\", f'mode: {test_accM}')\n",
    "\n",
    "    # Log data version as experiment property\n",
    "    # neptune.set_property('train_dataset_version', hashlib.md5(train_dataset).hexdigest())\n",
    "    # neptune.set_property('val_dataset_version', hashlib.md5(val_dataset).hexdigest())\n",
    "    # neptune.set_property('test_dataset_version', hashlib.md5(test_dataset).hexdigest())\n",
    "\n",
    "    torch.save(model, 'MMM_Model_Advance_Geolife.pt')\n",
    "    neptune.log_artifact('MMM_Model_Advance_Geolife.pt', 'model_checkpoints/MMM_Model_Advance_Geolife.pt')\n",
    "    \n",
    "    return train_accM"
   ]
  },
  {
   "cell_type": "code",
   "execution_count": 154,
   "metadata": {
    "executionInfo": {
     "elapsed": 13514,
     "status": "ok",
     "timestamp": 1614415286567,
     "user": {
      "displayName": "wind losd",
      "photoUrl": "https://lh3.googleusercontent.com/a-/AOh14Gjv1UwF6iyYsR8HrUTU_EeQVVPzfG82wFATtXqtZSU=s64",
      "userId": "05841662885873618484"
     },
     "user_tz": -480
    },
    "id": "_NkoVVgnFeda"
   },
   "outputs": [],
   "source": [
    "# Train"
   ]
  },
  {
   "cell_type": "markdown",
   "metadata": {
    "id": "9Tf4WwKDFfu8"
   },
   "source": [
    "# Train"
   ]
  },
  {
   "cell_type": "code",
   "execution_count": 155,
   "metadata": {
    "colab": {
     "base_uri": "https://localhost:8080/",
     "height": 1000
    },
    "executionInfo": {
     "elapsed": 793089,
     "status": "ok",
     "timestamp": 1614416069802,
     "user": {
      "displayName": "wind losd",
      "photoUrl": "https://lh3.googleusercontent.com/a-/AOh14Gjv1UwF6iyYsR8HrUTU_EeQVVPzfG82wFATtXqtZSU=s64",
      "userId": "05841662885873618484"
     },
     "user_tz": -480
    },
    "id": "g5BsMrobwIGx",
    "outputId": "011d782e-0c8f-422d-9c40-d9f324ddb9fc"
   },
   "outputs": [
    {
     "name": "stdout",
     "output_type": "stream",
     "text": [
      "Sun Mar  7 16:47:13 2021       \n",
      "+-----------------------------------------------------------------------------+\n",
      "| NVIDIA-SMI 461.72       Driver Version: 461.72       CUDA Version: 11.2     |\n",
      "|-------------------------------+----------------------+----------------------+\n",
      "| GPU  Name            TCC/WDDM | Bus-Id        Disp.A | Volatile Uncorr. ECC |\n",
      "| Fan  Temp  Perf  Pwr:Usage/Cap|         Memory-Usage | GPU-Util  Compute M. |\n",
      "|                               |                      |               MIG M. |\n",
      "|===============================+======================+======================|\n",
      "|   0  GeForce RTX 2070   WDDM  | 00000000:01:00.0  On |                  N/A |\n",
      "| 31%   31C    P5    30W / 215W |   4085MiB /  8192MiB |      6%      Default |\n",
      "|                               |                      |                  N/A |\n",
      "+-------------------------------+----------------------+----------------------+\n",
      "                                                                               \n",
      "+-----------------------------------------------------------------------------+\n",
      "| Processes:                                                                  |\n",
      "|  GPU   GI   CI        PID   Type   Process name                  GPU Memory |\n",
      "|        ID   ID                                                   Usage      |\n",
      "|=============================================================================|\n",
      "|    0   N/A  N/A      1408    C+G   ...4__8j3eq9eme6ctt\\IGCC.exe    N/A      |\n",
      "|    0   N/A  N/A      1960    C+G   Insufficient Permissions        N/A      |\n",
      "|    0   N/A  N/A      3508    C+G   ...wekyb3d8bbwe\\Video.UI.exe    N/A      |\n",
      "|    0   N/A  N/A      3568    C+G   ...8wekyb3d8bbwe\\GameBar.exe    N/A      |\n",
      "|    0   N/A  N/A      5404    C+G   ...8wekyb3d8bbwe\\Cortana.exe    N/A      |\n",
      "|    0   N/A  N/A      7956    C+G   ...obeNotificationClient.exe    N/A      |\n",
      "|    0   N/A  N/A      9156    C+G   C:\\Windows\\explorer.exe         N/A      |\n",
      "|    0   N/A  N/A      9460    C+G   Insufficient Permissions        N/A      |\n",
      "|    0   N/A  N/A     11096    C+G   ...artMenuExperienceHost.exe    N/A      |\n",
      "|    0   N/A  N/A     11456    C+G   ...5n1h2txyewy\\SearchApp.exe    N/A      |\n",
      "|    0   N/A  N/A     11604    C+G   ...lPanel\\SystemSettings.exe    N/A      |\n",
      "|    0   N/A  N/A     12280    C+G   ...ekyb3d8bbwe\\YourPhone.exe    N/A      |\n",
      "|    0   N/A  N/A     12856    C+G   ...s\\PowerToys\\PowerToys.exe    N/A      |\n",
      "|    0   N/A  N/A     13192    C+G   ...nputApp\\TextInputHost.exe    N/A      |\n",
      "|    0   N/A  N/A     15460    C+G   ...y\\ShellExperienceHost.exe    N/A      |\n",
      "|    0   N/A  N/A     15584    C+G   ...ge\\Application\\msedge.exe    N/A      |\n",
      "|    0   N/A  N/A     16112    C+G   ...b3d8bbwe\\WinStore.App.exe    N/A      |\n",
      "|    0   N/A  N/A     16924    C+G   ...rograms\\Notion\\Notion.exe    N/A      |\n",
      "|    0   N/A  N/A     17632      C   ...3\\envs\\pytorch\\python.exe    N/A      |\n",
      "|    0   N/A  N/A     18408    C+G   ...perience\\NVIDIA Share.exe    N/A      |\n",
      "+-----------------------------------------------------------------------------+\n",
      "https://ui.neptune.ai/losdwind/s182190/e/MAS-374\n"
     ]
    },
    {
     "ename": "KeyboardInterrupt",
     "evalue": "",
     "output_type": "error",
     "traceback": [
      "\u001b[1;31m---------------------------------------------------------------------------\u001b[0m",
      "\u001b[1;31mKeyboardInterrupt\u001b[0m                         Traceback (most recent call last)",
      "\u001b[1;32m<ipython-input-155-8b5883e3e0f8>\u001b[0m in \u001b[0;36m<module>\u001b[1;34m\u001b[0m\n\u001b[0;32m     11\u001b[0m \u001b[1;31m# run main_2()\u001b[0m\u001b[1;33m\u001b[0m\u001b[1;33m\u001b[0m\u001b[1;33m\u001b[0m\u001b[0m\n\u001b[0;32m     12\u001b[0m \u001b[1;32mtry\u001b[0m\u001b[1;33m:\u001b[0m\u001b[1;33m\u001b[0m\u001b[1;33m\u001b[0m\u001b[0m\n\u001b[1;32m---> 13\u001b[1;33m     \u001b[0mmain\u001b[0m\u001b[1;33m(\u001b[0m\u001b[0mtrain_dataset\u001b[0m\u001b[1;33m,\u001b[0m \u001b[0mval_dataset\u001b[0m\u001b[1;33m,\u001b[0m \u001b[0mtest_dataset\u001b[0m\u001b[1;33m,\u001b[0m \u001b[0mPARAMS\u001b[0m\u001b[1;33m)\u001b[0m\u001b[1;33m\u001b[0m\u001b[1;33m\u001b[0m\u001b[0m\n\u001b[0m\u001b[0;32m     14\u001b[0m \u001b[1;32mfinally\u001b[0m\u001b[1;33m:\u001b[0m\u001b[1;33m\u001b[0m\u001b[1;33m\u001b[0m\u001b[0m\n\u001b[0;32m     15\u001b[0m     \u001b[0mneptune\u001b[0m\u001b[1;33m.\u001b[0m\u001b[0mstop\u001b[0m\u001b[1;33m(\u001b[0m\u001b[1;33m)\u001b[0m\u001b[1;33m\u001b[0m\u001b[1;33m\u001b[0m\u001b[0m\n",
      "\u001b[1;32m<ipython-input-153-56fffdf5e945>\u001b[0m in \u001b[0;36mmain\u001b[1;34m(train_dataset, val_dataset, test_dataset, PARAMS)\u001b[0m\n\u001b[0;32m     58\u001b[0m             \u001b[0mX_seq\u001b[0m\u001b[1;33m,\u001b[0m \u001b[0mX_tod\u001b[0m\u001b[1;33m,\u001b[0m\u001b[0mtargetM\u001b[0m \u001b[1;33m=\u001b[0m \u001b[0mX_seq\u001b[0m\u001b[1;33m.\u001b[0m\u001b[0mdouble\u001b[0m\u001b[1;33m(\u001b[0m\u001b[1;33m)\u001b[0m\u001b[1;33m.\u001b[0m\u001b[0mto\u001b[0m\u001b[1;33m(\u001b[0m\u001b[0mdevice\u001b[0m\u001b[1;33m)\u001b[0m\u001b[1;33m,\u001b[0m \u001b[0mX_tod\u001b[0m\u001b[1;33m.\u001b[0m\u001b[0mdouble\u001b[0m\u001b[1;33m(\u001b[0m\u001b[1;33m)\u001b[0m\u001b[1;33m.\u001b[0m\u001b[0mto\u001b[0m\u001b[1;33m(\u001b[0m\u001b[0mdevice\u001b[0m\u001b[1;33m)\u001b[0m\u001b[1;33m,\u001b[0m\u001b[0mtargetM\u001b[0m\u001b[1;33m.\u001b[0m\u001b[0mlong\u001b[0m\u001b[1;33m(\u001b[0m\u001b[1;33m)\u001b[0m\u001b[1;33m.\u001b[0m\u001b[0mto\u001b[0m\u001b[1;33m(\u001b[0m\u001b[0mdevice\u001b[0m\u001b[1;33m)\u001b[0m \u001b[1;31m# 将数据存储CPU或者GPU\u001b[0m\u001b[1;33m\u001b[0m\u001b[1;33m\u001b[0m\u001b[0m\n\u001b[0;32m     59\u001b[0m             \u001b[0moptimizer\u001b[0m\u001b[1;33m.\u001b[0m\u001b[0mzero_grad\u001b[0m\u001b[1;33m(\u001b[0m\u001b[1;33m)\u001b[0m \u001b[1;31m# 清除所有优化的梯度\u001b[0m\u001b[1;33m\u001b[0m\u001b[1;33m\u001b[0m\u001b[0m\n\u001b[1;32m---> 60\u001b[1;33m             \u001b[0moutput\u001b[0m \u001b[1;33m=\u001b[0m \u001b[0mmodel\u001b[0m\u001b[1;33m(\u001b[0m\u001b[0mX_seq\u001b[0m\u001b[1;33m,\u001b[0m \u001b[0mX_tod\u001b[0m\u001b[1;33m)\u001b[0m\u001b[1;33m.\u001b[0m\u001b[0mdouble\u001b[0m\u001b[1;33m(\u001b[0m\u001b[1;33m)\u001b[0m  \u001b[1;31m# 喂入数据并前向传播获取输出\u001b[0m\u001b[1;33m\u001b[0m\u001b[1;33m\u001b[0m\u001b[0m\n\u001b[0m\u001b[0;32m     61\u001b[0m             \u001b[0mcriterion1\u001b[0m \u001b[1;33m=\u001b[0m \u001b[0mnn\u001b[0m\u001b[1;33m.\u001b[0m\u001b[0mCrossEntropyLoss\u001b[0m\u001b[1;33m(\u001b[0m\u001b[0mweight\u001b[0m \u001b[1;33m=\u001b[0m \u001b[0mweightLabelM\u001b[0m\u001b[1;33m.\u001b[0m\u001b[0mto\u001b[0m\u001b[1;33m(\u001b[0m\u001b[0mdevice\u001b[0m\u001b[1;33m)\u001b[0m\u001b[1;33m)\u001b[0m \u001b[1;31m# This criterion combines nn.LogSoftmax() and nn.NLLLoss() in one single class.\u001b[0m\u001b[1;33m\u001b[0m\u001b[1;33m\u001b[0m\u001b[0m\n\u001b[0;32m     62\u001b[0m \u001b[1;33m\u001b[0m\u001b[0m\n",
      "\u001b[1;32m~\\anaconda3\\envs\\pytorch\\lib\\site-packages\\torch\\nn\\modules\\module.py\u001b[0m in \u001b[0;36m_call_impl\u001b[1;34m(self, *input, **kwargs)\u001b[0m\n\u001b[0;32m    887\u001b[0m             \u001b[0mresult\u001b[0m \u001b[1;33m=\u001b[0m \u001b[0mself\u001b[0m\u001b[1;33m.\u001b[0m\u001b[0m_slow_forward\u001b[0m\u001b[1;33m(\u001b[0m\u001b[1;33m*\u001b[0m\u001b[0minput\u001b[0m\u001b[1;33m,\u001b[0m \u001b[1;33m**\u001b[0m\u001b[0mkwargs\u001b[0m\u001b[1;33m)\u001b[0m\u001b[1;33m\u001b[0m\u001b[1;33m\u001b[0m\u001b[0m\n\u001b[0;32m    888\u001b[0m         \u001b[1;32melse\u001b[0m\u001b[1;33m:\u001b[0m\u001b[1;33m\u001b[0m\u001b[1;33m\u001b[0m\u001b[0m\n\u001b[1;32m--> 889\u001b[1;33m             \u001b[0mresult\u001b[0m \u001b[1;33m=\u001b[0m \u001b[0mself\u001b[0m\u001b[1;33m.\u001b[0m\u001b[0mforward\u001b[0m\u001b[1;33m(\u001b[0m\u001b[1;33m*\u001b[0m\u001b[0minput\u001b[0m\u001b[1;33m,\u001b[0m \u001b[1;33m**\u001b[0m\u001b[0mkwargs\u001b[0m\u001b[1;33m)\u001b[0m\u001b[1;33m\u001b[0m\u001b[1;33m\u001b[0m\u001b[0m\n\u001b[0m\u001b[0;32m    890\u001b[0m         for hook in itertools.chain(\n\u001b[0;32m    891\u001b[0m                 \u001b[0m_global_forward_hooks\u001b[0m\u001b[1;33m.\u001b[0m\u001b[0mvalues\u001b[0m\u001b[1;33m(\u001b[0m\u001b[1;33m)\u001b[0m\u001b[1;33m,\u001b[0m\u001b[1;33m\u001b[0m\u001b[1;33m\u001b[0m\u001b[0m\n",
      "\u001b[1;32m<ipython-input-143-aba75b5fdb4c>\u001b[0m in \u001b[0;36mforward\u001b[1;34m(self, X_seq, X_tod)\u001b[0m\n\u001b[0;32m     64\u001b[0m     \u001b[1;32mdef\u001b[0m \u001b[0mforward\u001b[0m\u001b[1;33m(\u001b[0m\u001b[0mself\u001b[0m\u001b[1;33m,\u001b[0m \u001b[0mX_seq\u001b[0m\u001b[1;33m,\u001b[0m \u001b[0mX_tod\u001b[0m\u001b[1;33m)\u001b[0m\u001b[1;33m:\u001b[0m\u001b[1;33m\u001b[0m\u001b[1;33m\u001b[0m\u001b[0m\n\u001b[0;32m     65\u001b[0m \u001b[1;33m\u001b[0m\u001b[0m\n\u001b[1;32m---> 66\u001b[1;33m         \u001b[0mx2\u001b[0m \u001b[1;33m=\u001b[0m \u001b[0mself\u001b[0m\u001b[1;33m.\u001b[0m\u001b[0mrnn\u001b[0m\u001b[1;33m(\u001b[0m\u001b[0mX_seq\u001b[0m\u001b[1;33m)\u001b[0m\u001b[1;33m\u001b[0m\u001b[1;33m\u001b[0m\u001b[0m\n\u001b[0m\u001b[0;32m     67\u001b[0m         \u001b[0mx2\u001b[0m \u001b[1;33m=\u001b[0m \u001b[0mtorch\u001b[0m\u001b[1;33m.\u001b[0m\u001b[0mflatten\u001b[0m\u001b[1;33m(\u001b[0m\u001b[0mx2\u001b[0m\u001b[1;33m,\u001b[0m \u001b[0mstart_dim\u001b[0m\u001b[1;33m=\u001b[0m \u001b[1;36m1\u001b[0m\u001b[1;33m)\u001b[0m\u001b[1;33m\u001b[0m\u001b[1;33m\u001b[0m\u001b[0m\n\u001b[0;32m     68\u001b[0m         \u001b[0mx3\u001b[0m \u001b[1;33m=\u001b[0m \u001b[0mtorch\u001b[0m\u001b[1;33m.\u001b[0m\u001b[0mcat\u001b[0m\u001b[1;33m(\u001b[0m\u001b[1;33m(\u001b[0m\u001b[0mx2\u001b[0m\u001b[1;33m,\u001b[0m \u001b[0mX_tod\u001b[0m\u001b[1;33m)\u001b[0m\u001b[1;33m,\u001b[0m \u001b[0mdim\u001b[0m \u001b[1;33m=\u001b[0m \u001b[1;36m1\u001b[0m\u001b[1;33m)\u001b[0m\u001b[1;33m\u001b[0m\u001b[1;33m\u001b[0m\u001b[0m\n",
      "\u001b[1;32m~\\anaconda3\\envs\\pytorch\\lib\\site-packages\\torch\\nn\\modules\\module.py\u001b[0m in \u001b[0;36m_call_impl\u001b[1;34m(self, *input, **kwargs)\u001b[0m\n\u001b[0;32m    887\u001b[0m             \u001b[0mresult\u001b[0m \u001b[1;33m=\u001b[0m \u001b[0mself\u001b[0m\u001b[1;33m.\u001b[0m\u001b[0m_slow_forward\u001b[0m\u001b[1;33m(\u001b[0m\u001b[1;33m*\u001b[0m\u001b[0minput\u001b[0m\u001b[1;33m,\u001b[0m \u001b[1;33m**\u001b[0m\u001b[0mkwargs\u001b[0m\u001b[1;33m)\u001b[0m\u001b[1;33m\u001b[0m\u001b[1;33m\u001b[0m\u001b[0m\n\u001b[0;32m    888\u001b[0m         \u001b[1;32melse\u001b[0m\u001b[1;33m:\u001b[0m\u001b[1;33m\u001b[0m\u001b[1;33m\u001b[0m\u001b[0m\n\u001b[1;32m--> 889\u001b[1;33m             \u001b[0mresult\u001b[0m \u001b[1;33m=\u001b[0m \u001b[0mself\u001b[0m\u001b[1;33m.\u001b[0m\u001b[0mforward\u001b[0m\u001b[1;33m(\u001b[0m\u001b[1;33m*\u001b[0m\u001b[0minput\u001b[0m\u001b[1;33m,\u001b[0m \u001b[1;33m**\u001b[0m\u001b[0mkwargs\u001b[0m\u001b[1;33m)\u001b[0m\u001b[1;33m\u001b[0m\u001b[1;33m\u001b[0m\u001b[0m\n\u001b[0m\u001b[0;32m    890\u001b[0m         for hook in itertools.chain(\n\u001b[0;32m    891\u001b[0m                 \u001b[0m_global_forward_hooks\u001b[0m\u001b[1;33m.\u001b[0m\u001b[0mvalues\u001b[0m\u001b[1;33m(\u001b[0m\u001b[1;33m)\u001b[0m\u001b[1;33m,\u001b[0m\u001b[1;33m\u001b[0m\u001b[1;33m\u001b[0m\u001b[0m\n",
      "\u001b[1;32m~\\anaconda3\\envs\\pytorch\\lib\\site-packages\\torch\\nn\\modules\\container.py\u001b[0m in \u001b[0;36mforward\u001b[1;34m(self, input)\u001b[0m\n\u001b[0;32m    117\u001b[0m     \u001b[1;32mdef\u001b[0m \u001b[0mforward\u001b[0m\u001b[1;33m(\u001b[0m\u001b[0mself\u001b[0m\u001b[1;33m,\u001b[0m \u001b[0minput\u001b[0m\u001b[1;33m)\u001b[0m\u001b[1;33m:\u001b[0m\u001b[1;33m\u001b[0m\u001b[1;33m\u001b[0m\u001b[0m\n\u001b[0;32m    118\u001b[0m         \u001b[1;32mfor\u001b[0m \u001b[0mmodule\u001b[0m \u001b[1;32min\u001b[0m \u001b[0mself\u001b[0m\u001b[1;33m:\u001b[0m\u001b[1;33m\u001b[0m\u001b[1;33m\u001b[0m\u001b[0m\n\u001b[1;32m--> 119\u001b[1;33m             \u001b[0minput\u001b[0m \u001b[1;33m=\u001b[0m \u001b[0mmodule\u001b[0m\u001b[1;33m(\u001b[0m\u001b[0minput\u001b[0m\u001b[1;33m)\u001b[0m\u001b[1;33m\u001b[0m\u001b[1;33m\u001b[0m\u001b[0m\n\u001b[0m\u001b[0;32m    120\u001b[0m         \u001b[1;32mreturn\u001b[0m \u001b[0minput\u001b[0m\u001b[1;33m\u001b[0m\u001b[1;33m\u001b[0m\u001b[0m\n\u001b[0;32m    121\u001b[0m \u001b[1;33m\u001b[0m\u001b[0m\n",
      "\u001b[1;32m~\\anaconda3\\envs\\pytorch\\lib\\site-packages\\torch\\nn\\modules\\module.py\u001b[0m in \u001b[0;36m_call_impl\u001b[1;34m(self, *input, **kwargs)\u001b[0m\n\u001b[0;32m    887\u001b[0m             \u001b[0mresult\u001b[0m \u001b[1;33m=\u001b[0m \u001b[0mself\u001b[0m\u001b[1;33m.\u001b[0m\u001b[0m_slow_forward\u001b[0m\u001b[1;33m(\u001b[0m\u001b[1;33m*\u001b[0m\u001b[0minput\u001b[0m\u001b[1;33m,\u001b[0m \u001b[1;33m**\u001b[0m\u001b[0mkwargs\u001b[0m\u001b[1;33m)\u001b[0m\u001b[1;33m\u001b[0m\u001b[1;33m\u001b[0m\u001b[0m\n\u001b[0;32m    888\u001b[0m         \u001b[1;32melse\u001b[0m\u001b[1;33m:\u001b[0m\u001b[1;33m\u001b[0m\u001b[1;33m\u001b[0m\u001b[0m\n\u001b[1;32m--> 889\u001b[1;33m             \u001b[0mresult\u001b[0m \u001b[1;33m=\u001b[0m \u001b[0mself\u001b[0m\u001b[1;33m.\u001b[0m\u001b[0mforward\u001b[0m\u001b[1;33m(\u001b[0m\u001b[1;33m*\u001b[0m\u001b[0minput\u001b[0m\u001b[1;33m,\u001b[0m \u001b[1;33m**\u001b[0m\u001b[0mkwargs\u001b[0m\u001b[1;33m)\u001b[0m\u001b[1;33m\u001b[0m\u001b[1;33m\u001b[0m\u001b[0m\n\u001b[0m\u001b[0;32m    890\u001b[0m         for hook in itertools.chain(\n\u001b[0;32m    891\u001b[0m                 \u001b[0m_global_forward_hooks\u001b[0m\u001b[1;33m.\u001b[0m\u001b[0mvalues\u001b[0m\u001b[1;33m(\u001b[0m\u001b[1;33m)\u001b[0m\u001b[1;33m,\u001b[0m\u001b[1;33m\u001b[0m\u001b[1;33m\u001b[0m\u001b[0m\n",
      "\u001b[1;32m~\\anaconda3\\envs\\pytorch\\lib\\site-packages\\torch\\nn\\modules\\rnn.py\u001b[0m in \u001b[0;36mforward\u001b[1;34m(self, input, hx)\u001b[0m\n\u001b[0;32m    819\u001b[0m         \u001b[0mself\u001b[0m\u001b[1;33m.\u001b[0m\u001b[0mcheck_forward_args\u001b[0m\u001b[1;33m(\u001b[0m\u001b[0minput\u001b[0m\u001b[1;33m,\u001b[0m \u001b[0mhx\u001b[0m\u001b[1;33m,\u001b[0m \u001b[0mbatch_sizes\u001b[0m\u001b[1;33m)\u001b[0m\u001b[1;33m\u001b[0m\u001b[1;33m\u001b[0m\u001b[0m\n\u001b[0;32m    820\u001b[0m         \u001b[1;32mif\u001b[0m \u001b[0mbatch_sizes\u001b[0m \u001b[1;32mis\u001b[0m \u001b[1;32mNone\u001b[0m\u001b[1;33m:\u001b[0m\u001b[1;33m\u001b[0m\u001b[1;33m\u001b[0m\u001b[0m\n\u001b[1;32m--> 821\u001b[1;33m             result = _VF.gru(input, hx, self._flat_weights, self.bias, self.num_layers,\n\u001b[0m\u001b[0;32m    822\u001b[0m                              self.dropout, self.training, self.bidirectional, self.batch_first)\n\u001b[0;32m    823\u001b[0m         \u001b[1;32melse\u001b[0m\u001b[1;33m:\u001b[0m\u001b[1;33m\u001b[0m\u001b[1;33m\u001b[0m\u001b[0m\n",
      "\u001b[1;31mKeyboardInterrupt\u001b[0m: "
     ]
    }
   ],
   "source": [
    "!nvidia-smi\r\n",
    "PARAMS = {\r\n",
    "    'Adam': False,\r\n",
    "    'lr':0.001,\r\n",
    "    'momentum':0.9,\r\n",
    "    'batch_size': 64,\r\n",
    "    'epochs':20,\r\n",
    "    'clipping': 1,\r\n",
    "    # 'hidden_size': 64\r\n",
    "    }\r\n",
    "# run main_2()\r\n",
    "try:\r\n",
    "    main(train_dataset, val_dataset, test_dataset, PARAMS)\r\n",
    "finally:\r\n",
    "    neptune.stop()"
   ]
  },
  {
   "cell_type": "code",
   "execution_count": 113,
   "metadata": {},
   "outputs": [
    {
     "name": "stdout",
     "output_type": "stream",
     "text": [
      "Sun Mar  7 16:17:38 2021       \n",
      "+-----------------------------------------------------------------------------+\n",
      "| NVIDIA-SMI 461.72       Driver Version: 461.72       CUDA Version: 11.2     |\n",
      "|-------------------------------+----------------------+----------------------+\n",
      "| GPU  Name            TCC/WDDM | Bus-Id        Disp.A | Volatile Uncorr. ECC |\n",
      "| Fan  Temp  Perf  Pwr:Usage/Cap|         Memory-Usage | GPU-Util  Compute M. |\n",
      "|                               |                      |               MIG M. |\n",
      "|===============================+======================+======================|\n",
      "|   0  GeForce RTX 2070   WDDM  | 00000000:01:00.0  On |                  N/A |\n",
      "| 25%   31C    P5    30W / 215W |   3072MiB /  8192MiB |      7%      Default |\n",
      "|                               |                      |                  N/A |\n",
      "+-------------------------------+----------------------+----------------------+\n",
      "                                                                               \n",
      "+-----------------------------------------------------------------------------+\n",
      "| Processes:                                                                  |\n",
      "|  GPU   GI   CI        PID   Type   Process name                  GPU Memory |\n",
      "|        ID   ID                                                   Usage      |\n",
      "|=============================================================================|\n",
      "|    0   N/A  N/A      1408    C+G   ...4__8j3eq9eme6ctt\\IGCC.exe    N/A      |\n",
      "|    0   N/A  N/A      1960    C+G   Insufficient Permissions        N/A      |\n",
      "|    0   N/A  N/A      3508    C+G   ...wekyb3d8bbwe\\Video.UI.exe    N/A      |\n",
      "|    0   N/A  N/A      3568    C+G   ...8wekyb3d8bbwe\\GameBar.exe    N/A      |\n",
      "|    0   N/A  N/A      5404    C+G   ...8wekyb3d8bbwe\\Cortana.exe    N/A      |\n",
      "|    0   N/A  N/A      7956    C+G   ...obeNotificationClient.exe    N/A      |\n",
      "|    0   N/A  N/A      9156    C+G   C:\\Windows\\explorer.exe         N/A      |\n",
      "|    0   N/A  N/A      9460    C+G   Insufficient Permissions        N/A      |\n",
      "|    0   N/A  N/A     11096    C+G   ...artMenuExperienceHost.exe    N/A      |\n",
      "|    0   N/A  N/A     11456    C+G   ...5n1h2txyewy\\SearchApp.exe    N/A      |\n",
      "|    0   N/A  N/A     11604    C+G   ...lPanel\\SystemSettings.exe    N/A      |\n",
      "|    0   N/A  N/A     12280    C+G   ...ekyb3d8bbwe\\YourPhone.exe    N/A      |\n",
      "|    0   N/A  N/A     12856    C+G   ...s\\PowerToys\\PowerToys.exe    N/A      |\n",
      "|    0   N/A  N/A     13192    C+G   ...nputApp\\TextInputHost.exe    N/A      |\n",
      "|    0   N/A  N/A     15460    C+G   ...y\\ShellExperienceHost.exe    N/A      |\n",
      "|    0   N/A  N/A     15584    C+G   ...ge\\Application\\msedge.exe    N/A      |\n",
      "|    0   N/A  N/A     16112    C+G   ...b3d8bbwe\\WinStore.App.exe    N/A      |\n",
      "|    0   N/A  N/A     16924    C+G   ...rograms\\Notion\\Notion.exe    N/A      |\n",
      "|    0   N/A  N/A     17632      C   ...3\\envs\\pytorch\\python.exe    N/A      |\n",
      "|    0   N/A  N/A     18408    C+G   ...perience\\NVIDIA Share.exe    N/A      |\n",
      "+-----------------------------------------------------------------------------+\n",
      "https://ui.neptune.ai/losdwind/s182190/e/MAS-371\n",
      "(133441,) (133441, 6)\n"
     ]
    },
    {
     "ename": "ValueError",
     "evalue": "The number of FixedLocator locations (4), usually from a call to set_ticks, does not match the number of ticklabels (6).",
     "output_type": "error",
     "traceback": [
      "\u001b[1;31m---------------------------------------------------------------------------\u001b[0m",
      "\u001b[1;31mValueError\u001b[0m                                Traceback (most recent call last)",
      "\u001b[1;32m<ipython-input-113-5846e68cf6ab>\u001b[0m in \u001b[0;36m<module>\u001b[1;34m\u001b[0m\n\u001b[0;32m     13\u001b[0m \u001b[1;31m# run main_2()\u001b[0m\u001b[1;33m\u001b[0m\u001b[1;33m\u001b[0m\u001b[1;33m\u001b[0m\u001b[0m\n\u001b[0;32m     14\u001b[0m \u001b[1;32mtry\u001b[0m\u001b[1;33m:\u001b[0m\u001b[1;33m\u001b[0m\u001b[1;33m\u001b[0m\u001b[0m\n\u001b[1;32m---> 15\u001b[1;33m     \u001b[0mmain\u001b[0m\u001b[1;33m(\u001b[0m\u001b[0mtrain_dataset\u001b[0m\u001b[1;33m,\u001b[0m \u001b[0mval_dataset\u001b[0m\u001b[1;33m,\u001b[0m \u001b[0mtest_dataset\u001b[0m\u001b[1;33m,\u001b[0m \u001b[0mPARAMS\u001b[0m\u001b[1;33m)\u001b[0m\u001b[1;33m\u001b[0m\u001b[1;33m\u001b[0m\u001b[0m\n\u001b[0m\u001b[0;32m     16\u001b[0m \u001b[1;32mfinally\u001b[0m\u001b[1;33m:\u001b[0m\u001b[1;33m\u001b[0m\u001b[1;33m\u001b[0m\u001b[0m\n\u001b[0;32m     17\u001b[0m     \u001b[0mneptune\u001b[0m\u001b[1;33m.\u001b[0m\u001b[0mstop\u001b[0m\u001b[1;33m(\u001b[0m\u001b[1;33m)\u001b[0m\u001b[1;33m\u001b[0m\u001b[1;33m\u001b[0m\u001b[0m\n",
      "\u001b[1;32m<ipython-input-71-56fffdf5e945>\u001b[0m in \u001b[0;36mmain\u001b[1;34m(train_dataset, val_dataset, test_dataset, PARAMS)\u001b[0m\n\u001b[0;32m    203\u001b[0m \u001b[1;33m\u001b[0m\u001b[0m\n\u001b[0;32m    204\u001b[0m     \u001b[0mCM_test_M\u001b[0m \u001b[1;33m=\u001b[0m \u001b[0mskplt\u001b[0m\u001b[1;33m.\u001b[0m\u001b[0mmetrics\u001b[0m\u001b[1;33m.\u001b[0m\u001b[0mplot_confusion_matrix\u001b[0m\u001b[1;33m(\u001b[0m\u001b[0mtargetM\u001b[0m\u001b[1;33m,\u001b[0m \u001b[0mpredsM\u001b[0m\u001b[1;33m,\u001b[0m \u001b[0mnormalize\u001b[0m\u001b[1;33m=\u001b[0m\u001b[1;32mTrue\u001b[0m\u001b[1;33m,\u001b[0m \u001b[0mx_tick_rotation\u001b[0m\u001b[1;33m=\u001b[0m\u001b[1;36m45\u001b[0m\u001b[1;33m,\u001b[0m \u001b[0mtitle\u001b[0m\u001b[1;33m=\u001b[0m\u001b[1;34m'Confusion Matrix of Mode Detection on Test set'\u001b[0m\u001b[1;33m)\u001b[0m\u001b[1;33m\u001b[0m\u001b[1;33m\u001b[0m\u001b[0m\n\u001b[1;32m--> 205\u001b[1;33m     \u001b[0mCM_test_M\u001b[0m\u001b[1;33m.\u001b[0m\u001b[0mset_xticklabels\u001b[0m\u001b[1;33m(\u001b[0m\u001b[0mmode_names\u001b[0m\u001b[1;33m)\u001b[0m\u001b[1;33m\u001b[0m\u001b[1;33m\u001b[0m\u001b[0m\n\u001b[0m\u001b[0;32m    206\u001b[0m     \u001b[0mCM_test_M\u001b[0m\u001b[1;33m.\u001b[0m\u001b[0mset_yticklabels\u001b[0m\u001b[1;33m(\u001b[0m\u001b[0mmode_names\u001b[0m\u001b[1;33m)\u001b[0m\u001b[1;33m\u001b[0m\u001b[1;33m\u001b[0m\u001b[0m\n\u001b[0;32m    207\u001b[0m     \u001b[0mCM_test_M\u001b[0m \u001b[1;33m=\u001b[0m \u001b[0mCM_test_M\u001b[0m\u001b[1;33m.\u001b[0m\u001b[0mget_figure\u001b[0m\u001b[1;33m(\u001b[0m\u001b[1;33m)\u001b[0m\u001b[1;33m\u001b[0m\u001b[1;33m\u001b[0m\u001b[0m\n",
      "\u001b[1;32m~\\anaconda3\\envs\\pytorch\\lib\\site-packages\\matplotlib\\axes\\_base.py\u001b[0m in \u001b[0;36mwrapper\u001b[1;34m(self, *args, **kwargs)\u001b[0m\n\u001b[0;32m     61\u001b[0m \u001b[1;33m\u001b[0m\u001b[0m\n\u001b[0;32m     62\u001b[0m         \u001b[1;32mdef\u001b[0m \u001b[0mwrapper\u001b[0m\u001b[1;33m(\u001b[0m\u001b[0mself\u001b[0m\u001b[1;33m,\u001b[0m \u001b[1;33m*\u001b[0m\u001b[0margs\u001b[0m\u001b[1;33m,\u001b[0m \u001b[1;33m**\u001b[0m\u001b[0mkwargs\u001b[0m\u001b[1;33m)\u001b[0m\u001b[1;33m:\u001b[0m\u001b[1;33m\u001b[0m\u001b[1;33m\u001b[0m\u001b[0m\n\u001b[1;32m---> 63\u001b[1;33m             \u001b[1;32mreturn\u001b[0m \u001b[0mget_method\u001b[0m\u001b[1;33m(\u001b[0m\u001b[0mself\u001b[0m\u001b[1;33m)\u001b[0m\u001b[1;33m(\u001b[0m\u001b[1;33m*\u001b[0m\u001b[0margs\u001b[0m\u001b[1;33m,\u001b[0m \u001b[1;33m**\u001b[0m\u001b[0mkwargs\u001b[0m\u001b[1;33m)\u001b[0m\u001b[1;33m\u001b[0m\u001b[1;33m\u001b[0m\u001b[0m\n\u001b[0m\u001b[0;32m     64\u001b[0m \u001b[1;33m\u001b[0m\u001b[0m\n\u001b[0;32m     65\u001b[0m         \u001b[0mwrapper\u001b[0m\u001b[1;33m.\u001b[0m\u001b[0m__module__\u001b[0m \u001b[1;33m=\u001b[0m \u001b[0mowner\u001b[0m\u001b[1;33m.\u001b[0m\u001b[0m__module__\u001b[0m\u001b[1;33m\u001b[0m\u001b[1;33m\u001b[0m\u001b[0m\n",
      "\u001b[1;32m~\\anaconda3\\envs\\pytorch\\lib\\site-packages\\matplotlib\\cbook\\deprecation.py\u001b[0m in \u001b[0;36mwrapper\u001b[1;34m(*args, **kwargs)\u001b[0m\n\u001b[0;32m    449\u001b[0m                 \u001b[1;34m\"parameter will become keyword-only %(removal)s.\"\u001b[0m\u001b[1;33m,\u001b[0m\u001b[1;33m\u001b[0m\u001b[1;33m\u001b[0m\u001b[0m\n\u001b[0;32m    450\u001b[0m                 name=name, obj_type=f\"parameter of {func.__name__}()\")\n\u001b[1;32m--> 451\u001b[1;33m         \u001b[1;32mreturn\u001b[0m \u001b[0mfunc\u001b[0m\u001b[1;33m(\u001b[0m\u001b[1;33m*\u001b[0m\u001b[0margs\u001b[0m\u001b[1;33m,\u001b[0m \u001b[1;33m**\u001b[0m\u001b[0mkwargs\u001b[0m\u001b[1;33m)\u001b[0m\u001b[1;33m\u001b[0m\u001b[1;33m\u001b[0m\u001b[0m\n\u001b[0m\u001b[0;32m    452\u001b[0m \u001b[1;33m\u001b[0m\u001b[0m\n\u001b[0;32m    453\u001b[0m     \u001b[1;32mreturn\u001b[0m \u001b[0mwrapper\u001b[0m\u001b[1;33m\u001b[0m\u001b[1;33m\u001b[0m\u001b[0m\n",
      "\u001b[1;32m~\\anaconda3\\envs\\pytorch\\lib\\site-packages\\matplotlib\\axis.py\u001b[0m in \u001b[0;36m_set_ticklabels\u001b[1;34m(self, labels, fontdict, minor, **kwargs)\u001b[0m\n\u001b[0;32m   1791\u001b[0m         \u001b[1;32mif\u001b[0m \u001b[0mfontdict\u001b[0m \u001b[1;32mis\u001b[0m \u001b[1;32mnot\u001b[0m \u001b[1;32mNone\u001b[0m\u001b[1;33m:\u001b[0m\u001b[1;33m\u001b[0m\u001b[1;33m\u001b[0m\u001b[0m\n\u001b[0;32m   1792\u001b[0m             \u001b[0mkwargs\u001b[0m\u001b[1;33m.\u001b[0m\u001b[0mupdate\u001b[0m\u001b[1;33m(\u001b[0m\u001b[0mfontdict\u001b[0m\u001b[1;33m)\u001b[0m\u001b[1;33m\u001b[0m\u001b[1;33m\u001b[0m\u001b[0m\n\u001b[1;32m-> 1793\u001b[1;33m         \u001b[1;32mreturn\u001b[0m \u001b[0mself\u001b[0m\u001b[1;33m.\u001b[0m\u001b[0mset_ticklabels\u001b[0m\u001b[1;33m(\u001b[0m\u001b[0mlabels\u001b[0m\u001b[1;33m,\u001b[0m \u001b[0mminor\u001b[0m\u001b[1;33m=\u001b[0m\u001b[0mminor\u001b[0m\u001b[1;33m,\u001b[0m \u001b[1;33m**\u001b[0m\u001b[0mkwargs\u001b[0m\u001b[1;33m)\u001b[0m\u001b[1;33m\u001b[0m\u001b[1;33m\u001b[0m\u001b[0m\n\u001b[0m\u001b[0;32m   1794\u001b[0m \u001b[1;33m\u001b[0m\u001b[0m\n\u001b[0;32m   1795\u001b[0m     \u001b[1;33m@\u001b[0m\u001b[0mcbook\u001b[0m\u001b[1;33m.\u001b[0m\u001b[0m_make_keyword_only\u001b[0m\u001b[1;33m(\u001b[0m\u001b[1;34m\"3.2\"\u001b[0m\u001b[1;33m,\u001b[0m \u001b[1;34m\"minor\"\u001b[0m\u001b[1;33m)\u001b[0m\u001b[1;33m\u001b[0m\u001b[1;33m\u001b[0m\u001b[0m\n",
      "\u001b[1;32m~\\anaconda3\\envs\\pytorch\\lib\\site-packages\\matplotlib\\axis.py\u001b[0m in \u001b[0;36mset_ticklabels\u001b[1;34m(self, ticklabels, minor, **kwargs)\u001b[0m\n\u001b[0;32m   1712\u001b[0m             \u001b[1;31m# remove all tick labels, so only error for > 0 ticklabels\u001b[0m\u001b[1;33m\u001b[0m\u001b[1;33m\u001b[0m\u001b[1;33m\u001b[0m\u001b[0m\n\u001b[0;32m   1713\u001b[0m             \u001b[1;32mif\u001b[0m \u001b[0mlen\u001b[0m\u001b[1;33m(\u001b[0m\u001b[0mlocator\u001b[0m\u001b[1;33m.\u001b[0m\u001b[0mlocs\u001b[0m\u001b[1;33m)\u001b[0m \u001b[1;33m!=\u001b[0m \u001b[0mlen\u001b[0m\u001b[1;33m(\u001b[0m\u001b[0mticklabels\u001b[0m\u001b[1;33m)\u001b[0m \u001b[1;32mand\u001b[0m \u001b[0mlen\u001b[0m\u001b[1;33m(\u001b[0m\u001b[0mticklabels\u001b[0m\u001b[1;33m)\u001b[0m \u001b[1;33m!=\u001b[0m \u001b[1;36m0\u001b[0m\u001b[1;33m:\u001b[0m\u001b[1;33m\u001b[0m\u001b[1;33m\u001b[0m\u001b[0m\n\u001b[1;32m-> 1714\u001b[1;33m                 raise ValueError(\n\u001b[0m\u001b[0;32m   1715\u001b[0m                     \u001b[1;34m\"The number of FixedLocator locations\"\u001b[0m\u001b[1;33m\u001b[0m\u001b[1;33m\u001b[0m\u001b[0m\n\u001b[0;32m   1716\u001b[0m                     \u001b[1;34mf\" ({len(locator.locs)}), usually from a call to\"\u001b[0m\u001b[1;33m\u001b[0m\u001b[1;33m\u001b[0m\u001b[0m\n",
      "\u001b[1;31mValueError\u001b[0m: The number of FixedLocator locations (4), usually from a call to set_ticks, does not match the number of ticklabels (6)."
     ]
    },
    {
     "data": {
      "image/png": "[encoded data removed]",
      "text/plain": [
       "<Figure size 432x288 with 2 Axes>"
      ]
     },
     "metadata": {
      "needs_background": "light"
     },
     "output_type": "display_data"
    },
    {
     "data": {
      "image/png": "[encoded data removed]",
      "text/plain": [
       "<Figure size 432x288 with 2 Axes>"
      ]
     },
     "metadata": {
      "needs_background": "light"
     },
     "output_type": "display_data"
    },
    {
     "data": {
      "image/png": "[encoded data removed]",
      "text/plain": [
       "<Figure size 432x288 with 1 Axes>"
      ]
     },
     "metadata": {
      "needs_background": "light"
     },
     "output_type": "display_data"
    },
    {
     "data": {
      "image/png": "[encoded data removed]",
      "text/plain": [
       "<Figure size 432x288 with 1 Axes>"
      ]
     },
     "metadata": {
      "needs_background": "light"
     },
     "output_type": "display_data"
    },
    {
     "data": {
      "image/png": "[encoded data removed]",
      "text/plain": [
       "<Figure size 432x288 with 2 Axes>"
      ]
     },
     "metadata": {
      "needs_background": "light"
     },
     "output_type": "display_data"
    }
   ],
   "source": [
    "# from the model_2_basic_a\n",
    "!nvidia-smi\n",
    "PARAMS = {\n",
    "    'Adam': False,\n",
    "    'lr':0.095,\n",
    "    'momentum':0.21,\n",
    "    'batch_size': 13500,\n",
    "    'epochs':40,\n",
    "    'clipping': 1,\n",
    "    # 'hidden_size': 64\n",
    "    }\n",
    "\n",
    "# run main_2()\n",
    "try:\n",
    "    main(train_dataset, val_dataset, test_dataset, PARAMS)\n",
    "finally:\n",
    "    neptune.stop()"
   ]
  },
  {
   "cell_type": "markdown",
   "metadata": {
    "id": "zd3oMsPvFxVS"
   },
   "source": [
    "# Optuna"
   ]
  },
  {
   "cell_type": "code",
   "execution_count": 29,
   "metadata": {
    "executionInfo": {
     "elapsed": 19568,
     "status": "aborted",
     "timestamp": 1614405307512,
     "user": {
      "displayName": "wind losd",
      "photoUrl": "https://lh3.googleusercontent.com/a-/AOh14Gjv1UwF6iyYsR8HrUTU_EeQVVPzfG82wFATtXqtZSU=s64",
      "userId": "05841662885873618484"
     },
     "user_tz": -480
    },
    "id": "cCefINPhFs6E"
   },
   "outputs": [],
   "source": [
    "def objective(trial):\r\n",
    "    PARAMS = {'Adam': False, \r\n",
    "              'lr':trial.suggest_loguniform('lr', 1e-3, 1), \r\n",
    "        'momentum':trial.suggest_uniform('momentum', 0.0, 1.0),\r\n",
    "        'batch_size': trial.suggest_int('batch_size', 32, 128, step=32),\r\n",
    "        'epochs':trial.suggest_int('epochs', 10, 30, step=10,),\r\n",
    "        'clipping':trial.suggest_int('clipping', 0.1, 1, step=0.25,),\r\n",
    "        # 'hidden_size': trial.suggest_int('hidden_size', 10, 20, step = 5)\r\n",
    "        }\r\n",
    "    \r\n",
    "    accuracy = main(train_dataset, val_dataset, test_dataset, PARAMS)\r\n",
    "    \r\n",
    "    return accuracy"
   ]
  },
  {
   "cell_type": "code",
   "execution_count": 30,
   "metadata": {
    "executionInfo": {
     "elapsed": 19563,
     "status": "aborted",
     "timestamp": 1614405307513,
     "user": {
      "displayName": "wind losd",
      "photoUrl": "https://lh3.googleusercontent.com/a-/AOh14Gjv1UwF6iyYsR8HrUTU_EeQVVPzfG82wFATtXqtZSU=s64",
      "userId": "05841662885873618484"
     },
     "user_tz": -480
    },
    "id": "9XUhcXi2FuoU"
   },
   "outputs": [
    {
     "ename": "NameError",
     "evalue": "name 'neptune' is not defined",
     "output_type": "error",
     "traceback": [
      "\u001b[1;31m---------------------------------------------------------------------------\u001b[0m",
      "\u001b[1;31mNameError\u001b[0m                                 Traceback (most recent call last)",
      "\u001b[1;32m<ipython-input-30-fe1128b51155>\u001b[0m in \u001b[0;36m<module>\u001b[1;34m\u001b[0m\n\u001b[0;32m      1\u001b[0m \u001b[0mget_ipython\u001b[0m\u001b[1;33m(\u001b[0m\u001b[1;33m)\u001b[0m\u001b[1;33m.\u001b[0m\u001b[0msystem\u001b[0m\u001b[1;33m(\u001b[0m\u001b[1;34m' pip install --quiet optuna==2.3.0 lightgbm==3.1.0 plotly==4.13.0 neptune-client==0.4.132 neptune-contrib[monitoring]==0.25.0'\u001b[0m\u001b[1;33m)\u001b[0m\u001b[1;33m\u001b[0m\u001b[1;33m\u001b[0m\u001b[0m\n\u001b[0;32m      2\u001b[0m \u001b[1;32mimport\u001b[0m \u001b[0mneptunecontrib\u001b[0m\u001b[1;33m.\u001b[0m\u001b[0mmonitoring\u001b[0m\u001b[1;33m.\u001b[0m\u001b[0moptuna\u001b[0m \u001b[1;32mas\u001b[0m \u001b[0mopt_utils\u001b[0m\u001b[1;33m\u001b[0m\u001b[1;33m\u001b[0m\u001b[0m\n\u001b[1;32m----> 3\u001b[1;33m \u001b[0mneptune\u001b[0m\u001b[1;33m.\u001b[0m\u001b[0mcreate_experiment\u001b[0m\u001b[1;33m(\u001b[0m\u001b[1;34m'optuna-sweep'\u001b[0m\u001b[1;33m)\u001b[0m\u001b[1;33m\u001b[0m\u001b[1;33m\u001b[0m\u001b[0m\n\u001b[0m\u001b[0;32m      4\u001b[0m \u001b[0mneptune_callback\u001b[0m \u001b[1;33m=\u001b[0m \u001b[0mopt_utils\u001b[0m\u001b[1;33m.\u001b[0m\u001b[0mNeptuneCallback\u001b[0m\u001b[1;33m(\u001b[0m\u001b[0mlog_study\u001b[0m\u001b[1;33m=\u001b[0m\u001b[1;32mTrue\u001b[0m\u001b[1;33m,\u001b[0m \u001b[0mlog_charts\u001b[0m\u001b[1;33m=\u001b[0m\u001b[1;32mTrue\u001b[0m\u001b[1;33m)\u001b[0m\u001b[1;33m\u001b[0m\u001b[1;33m\u001b[0m\u001b[0m\n\u001b[0;32m      5\u001b[0m \u001b[1;32mimport\u001b[0m \u001b[0moptuna\u001b[0m\u001b[1;33m\u001b[0m\u001b[1;33m\u001b[0m\u001b[0m\n",
      "\u001b[1;31mNameError\u001b[0m: name 'neptune' is not defined"
     ]
    }
   ],
   "source": [
    "! pip install --quiet optuna==2.3.0 lightgbm==3.1.0 plotly==4.13.0 neptune-client==0.4.132 neptune-contrib[monitoring]==0.25.0\r\n",
    "import neptunecontrib.monitoring.optuna as opt_utils\r\n",
    "neptune.create_experiment('optuna-sweep')\r\n",
    "neptune_callback = opt_utils.NeptuneCallback(log_study=True, log_charts=True)\r\n",
    "import optuna\r\n",
    "try: \r\n",
    "    study = optuna.create_study(direction='maximize')\r\n",
    "    study.optimize(objective, n_trials=100, callbacks=[neptune_callback])\r\n",
    "finally:\r\n",
    "    neptune.stop()"
   ]
  },
  {
   "cell_type": "code",
   "execution_count": null,
   "metadata": {
    "executionInfo": {
     "elapsed": 19561,
     "status": "aborted",
     "timestamp": 1614405307513,
     "user": {
      "displayName": "wind losd",
      "photoUrl": "https://lh3.googleusercontent.com/a-/AOh14Gjv1UwF6iyYsR8HrUTU_EeQVVPzfG82wFATtXqtZSU=s64",
      "userId": "05841662885873618484"
     },
     "user_tz": -480
    },
    "id": "LK5T3g2w2cex"
   },
   "outputs": [],
   "source": []
  }
 ],
 "metadata": {
  "accelerator": "GPU",
  "colab": {
   "authorship_tag": "ABX9TyM+iliqBkqiiS2lip3FRblC",
   "collapsed_sections": [
    "iIgdP3XwO08k"
   ],
   "machine_shape": "hm",
   "mount_file_id": "1qMuBy9z7YYcw3gr8yvZ2j0D9yzaYL5td",
   "name": "D_Model_MMM_Geolife.ipynb",
   "provenance": [],
   "toc_visible": true
  },
  "kernelspec": {
   "display_name": "Python 3",
   "language": "python",
   "name": "python3"
  },
  "language_info": {
   "codemirror_mode": {
    "name": "ipython",
    "version": 3
   },
   "file_extension": ".py",
   "mimetype": "text/x-python",
   "name": "python",
   "nbconvert_exporter": "python",
   "pygments_lexer": "ipython3",
   "version": "3.8.5"
  }
 },
 "nbformat": 4,
 "nbformat_minor": 4
}
